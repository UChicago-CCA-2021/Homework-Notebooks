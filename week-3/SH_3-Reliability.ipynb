{
 "cells": [
  {
   "cell_type": "markdown",
   "metadata": {},
   "source": [
    "# Sabina Hartnett\n",
    "# Week 3 - Sampling & Reliability\n",
    "\n",
    "build a corpus for preliminary analysis and articulate what your sample represents in context of your final project. \n",
    "begin by exploring how we can get *human* readings of content at scale. \n",
    "We want to gather and utilize human responses for several reasons. First, we may want to use crowdsourced human scores as the primary method of coding, extracting or organizing content (as it was in two of the assigned readings). Second, we may want to validate or tune a computational algorithm we may have developed in terms of how it is associated with human meanings or experience. Finally, we may want to use human coding on a sample of data as the basis for training a model or algorithm to then extrapolate *human-like* annotations to the entire population. Here intelligent sampling is critical to maximize effective maching training."
   ]
  },
  {
   "cell_type": "code",
   "execution_count": 1,
   "metadata": {},
   "outputs": [],
   "source": [
    "#Special module written for this class\n",
    "#This provides access to data and to helper functions from previous weeks\n",
    "#Make sure you update it before starting this notebook\n",
    "import lucem_illud #pip install -U git+git://github.com/Computational-Content-Analysis-2020/lucem_illud_2020.git\n",
    "\n",
    "#All these packages need to be installed from pip\n",
    "import numpy as np #For arrays\n",
    "import scipy as sp #For some stats\n",
    "import pandas #Gives us DataFrames\n",
    "import matplotlib.pyplot as plt #For graphics\n",
    "import seaborn #Makes the graphics look nicer\n",
    "import pyanno #On python3 make sure to pip install pyanno3\n",
    "\n",
    "#We need to import these this way due to how pyanno is setup\n",
    "from pyanno.measures import pairwise_matrix, agreement, cohens_kappa, cohens_weighted_kappa, fleiss_kappa, krippendorffs_alpha, pearsons_rho, scotts_pi, spearmans_rho\n",
    "from pyanno.annotations import AnnotationsContainer\n",
    "from pyanno.models import ModelA, ModelBt, ModelB\n",
    "\n",
    "from functools import reduce\n",
    "from itertools import permutations\n",
    "import math\n",
    "\n",
    "\n",
    "#This 'magic' command makes the plots work better\n",
    "#in the notebook, don't use it outside of a notebook.\n",
    "#Also you can ignore the warning\n",
    "%matplotlib inline\n",
    "\n",
    "import os #For looking through files\n",
    "import os.path #For managing file paths"
   ]
  },
  {
   "cell_type": "markdown",
   "metadata": {},
   "source": [
    "## <span style=\"color:red\">*Pitch the Domain of your Project*</span>\n",
    "\n",
    "<span style=\"color:red\">In the two cells immediately following, describe **WHAT** you are planning to analyze for your final project (i.e., texts, contexts and the social game, world and actors you intend to learn about through your analysis) (<200 words) and **WHY** you are going to do it (i.e., why would theory and/or the average person benefit from knowing the results of your investigation) (<200 words)? [**Note**: your individual or collective project can change over the course of the quarter if new data and/or analysis opportunities arise or if old ones fade away.]"
   ]
  },
  {
   "cell_type": "markdown",
   "metadata": {},
   "source": [
    "## ***What?*** \n",
    "For our final project, Egemen Partha and I will analyze Twitter data (collected from Twitter API) which is categorized by personality types included in user bios. We intend to learn about the way various self-identified personality types interact with the platform (i.e. do extroverted users tweet more, do 'Judging' users interact more with other tweets?). This research is reminiscant of Nicole Ellisons research on user-types (although her research was based on observations made in 'reali life' (not only via the platform)). This work will be contenxtualized in physchological/behavior studies of the various personality types."
   ]
  },
  {
   "cell_type": "markdown",
   "metadata": {},
   "source": [
    "## ***Why?***\n",
    "Personally, via my own social media (&Twitter) interactions and self-reflections, I think it is interesting to try to understand correlations between user patterns and 'innate' user qualities. This research will be interesting for individual users as well as informing platform design and potentially regulation. Even just understanding which personality types are more present on the platform (or, more readily identify themselves with their personality type) is interesting when thinking about the structure and purpose of platforms like Twitter."
   ]
  },
  {
   "cell_type": "markdown",
   "metadata": {},
   "source": [
    "## <span style=\"color:red\">*Pitch Your Sample*</span>\n",
    "\n",
    "<span style=\"color:red\">In the cell immediately following, describe the rationale behind your proposed sample design for your final project. What is the social game, social work, or social actors about whom you are seeking to make inferences? What are its virtues with respect to your research questions? What are its limitations? What are alternatives? What would be a reasonable path to \"scale up\" your sample for further analysis (i.e., high-profile publication)? (<200 words)."
   ]
  },
  {
   "cell_type": "markdown",
   "metadata": {},
   "source": [
    "We are planning to look at a dataset of around 1600 users and their liked tweets. Since actual tweets would likely return a bias toward Extroverted types (more likely to tweet / use unique (and/or) controversial language and topics) we decided to look at liked tweets as a metric of the users personal interests (we would argue this is far less performative than the user-created tweets). Overall, this is a study which intersects social media platform usage and human interaction. The limitations are big: we only have access to what is published on twitter (public accounts which decide to include their personality types and those accounts' likes from other public accounts) and we assume here that people are trustworthy in their personality-type self-reports. Alternatively, platforms like Facebook could be interesting but they, more often than twitter include a more personal network - introducing other limitations and biases. We could scale up the sample by collecting additional information on the users: potentially their own Tweets, other twitter metrics, or even an attempt to combine their profile information with other personal info (scraped from FB or so)..."
   ]
  },
  {
   "cell_type": "markdown",
   "metadata": {},
   "source": [
    "## <span style=\"color:red\">*Your turn*</span>\n",
    "\n",
    "<span style=\"color:red\">Perform a content annotation survey of some kind in which at least 3 people evaluate and code each piece of content, using Amazon Mechanical Turk as described in the MTurk slides in the Assignment link on Canvas, or by hand with friends.  With the resulting data, calculate, visualize and discuss inter-coder agreement or covariation with appropriate metrics. What does this means for the reliability of human assessments regarding content in your domain?"
   ]
  },
  {
   "cell_type": "markdown",
   "metadata": {},
   "source": [
    "# in this notebook:\n",
    "In this notebook specifically I will be using a questionaire about percieved Twitter user personality type. I asked users to complete the following (for this notebook I decided to save some money and use my personal network :) ):\n",
    "\n",
    ".............................................................................\n",
    "\n",
    "On a scale of 1 to 10, where 1 is an action more indicative of introverted tendencies and 10 is an action of more extroverted tendencies, please rank the following actions:\n",
    "\n",
    "Using Twitter (incl. scrolling, liking, retweeting, tweeting) (1-10):\n",
    "\n",
    "Scrolling through Twitter without interacting (liking/retweeting) with posts (1-10):\n",
    "\n",
    "Liking other people's Tweets (1-10):\n",
    "\n",
    "Retweeting Tweets (1-10):\n",
    "\n",
    "Tweeting regularly (1-10):\n",
    "\n",
    ".............................................................................\n",
    "\n",
    "\n",
    "Please read the following Tweet and regardless of your personal feelings about the topic, decide where do you think that someone who would tweet this falls on the spectrum described above of introverted (1) to extroverted (10):\n",
    "\n",
    "\"@otherUser As a man who has handed a jar of pickles to his wife to open way too many times.  No you don't.\" (1-10):\n",
    "\n",
    "\"MOST IMPORTANT: Kiddo is amazing about wearing her masks. We frame it as helping our community, emphasizing that it's our part. When she asks why others don't wear them, we say there are some who choose themselves, but the more that choose community, the sooner this will be over.\"(1-10):\n",
    "\n",
    "\"Everyone has these fun year-of lists for 2020, but I watched less, read less, played less, slept less because virtual kindergarten on top of a day job/writing is just exhausting and consuming. But here are some fun parenting hacks\" (1-10):\n",
    "\n",
    "\"I like Presidents who weren't banned from twitter.\" (1-10):\n",
    "..........................................................................\n",
    "\n",
    "Data will be stored: question: column and user: row (each user will have their own row of answers corresponding col num to q num)\n"
   ]
  },
  {
   "cell_type": "markdown",
   "metadata": {},
   "source": [
    "[Click here for loop design](loopdesign.png)"
   ]
  },
  {
   "cell_type": "code",
   "execution_count": 88,
   "metadata": {},
   "outputs": [],
   "source": [
    "x = np.loadtxt(\"HumanTweetEval.txt\")\n",
    "anno = AnnotationsContainer.from_array(x, missing_values=[-1])"
   ]
  },
  {
   "cell_type": "markdown",
   "metadata": {},
   "source": [
    "Interrogate the AnnotationsContainer object."
   ]
  },
  {
   "cell_type": "code",
   "execution_count": 89,
   "metadata": {},
   "outputs": [
    {
     "data": {
      "text/plain": [
       "array([[ 5,  4,  7,  4,  3,  6,  2,  2,  4],\n",
       "       [ 7,  2,  5,  6,  5,  5,  2,  3,  3],\n",
       "       [ 6,  2,  3,  7,  9,  5,  7,  7,  8],\n",
       "       [ 4,  3,  5,  5,  7,  6,  5,  4,  6],\n",
       "       [ 4,  1,  3,  4,  8,  5,  5,  6,  5],\n",
       "       [ 3,  6,  7,  4,  2,  6,  7,  9,  7],\n",
       "       [ 9,  0,  2,  4,  9, -1,  4,  4,  6],\n",
       "       [ 4,  1,  4,  5,  6,  6,  5,  5,  5]])"
      ]
     },
     "execution_count": 89,
     "metadata": {},
     "output_type": "execute_result"
    }
   ],
   "source": [
    "anno.annotations    #num rows = num respondents (8)\n",
    "# num cols = num questions (9)"
   ]
  },
  {
   "cell_type": "code",
   "execution_count": 90,
   "metadata": {},
   "outputs": [
    {
     "data": {
      "text/plain": [
       "[1.0, 2.0, 3.0, 4.0, 5.0, 6.0, 7.0, 8.0, 9.0, 10.0]"
      ]
     },
     "execution_count": 90,
     "metadata": {},
     "output_type": "execute_result"
    }
   ],
   "source": [
    "anno.labels"
   ]
  },
  {
   "cell_type": "code",
   "execution_count": 91,
   "metadata": {},
   "outputs": [
    {
     "data": {
      "text/plain": [
       "[-1]"
      ]
     },
     "execution_count": 91,
     "metadata": {},
     "output_type": "execute_result"
    }
   ],
   "source": [
    "anno.missing_values   #as specified above, missing values are entered as -1"
   ]
  },
  {
   "cell_type": "markdown",
   "metadata": {},
   "source": [
    "# Annotation Statistics"
   ]
  },
  {
   "cell_type": "markdown",
   "metadata": {},
   "source": [
    "First, we assume categorical codes...that each code is qualitatively distinct from each other. Two measures are primarily used for this: Scott's $\\pi$, Cohen's $\\kappa$, and Krippendorff's $\\alpha$ which each measure the extent of agreement between two annotators, but take into account the possibility of the agreement occurring by chance in slightly different ways. Any agreement measure begins with the frequency of codes:"
   ]
  },
  {
   "cell_type": "code",
   "execution_count": 92,
   "metadata": {},
   "outputs": [
    {
     "data": {
      "text/plain": [
       "array([0.01408451, 0.02816901, 0.09859155, 0.09859155, 0.18309859,\n",
       "       0.21126761, 0.15492958, 0.12676056, 0.02816901, 0.05633803])"
      ]
     },
     "execution_count": 92,
     "metadata": {},
     "output_type": "execute_result"
    }
   ],
   "source": [
    "pyanno.measures.agreement.labels_frequency(anno.annotations,10)"
   ]
  },
  {
   "cell_type": "markdown",
   "metadata": {},
   "source": [
    "Now consider the \"confusion matrix\" or matrix of coded agreements between any two coders:"
   ]
  },
  {
   "cell_type": "code",
   "execution_count": 93,
   "metadata": {},
   "outputs": [
    {
     "name": "stdout",
     "output_type": "stream",
     "text": [
      "[[0. 0. 0. 0. 0. 0. 0. 0. 0. 0.]\n",
      " [0. 0. 0. 0. 0. 0. 0. 0. 0. 0.]\n",
      " [0. 0. 0. 0. 0. 0. 0. 0. 0. 0.]\n",
      " [0. 0. 0. 0. 0. 0. 1. 0. 0. 0.]\n",
      " [0. 2. 0. 1. 0. 0. 0. 0. 0. 0.]\n",
      " [0. 0. 0. 0. 1. 0. 0. 0. 0. 0.]\n",
      " [0. 0. 1. 0. 0. 0. 0. 0. 0. 0.]\n",
      " [0. 0. 1. 0. 0. 0. 0. 0. 0. 0.]\n",
      " [0. 0. 0. 0. 0. 0. 0. 0. 0. 0.]\n",
      " [1. 0. 0. 0. 0. 0. 0. 0. 0. 0.]]\n"
     ]
    },
    {
     "data": {
      "image/png": "[encoded data removed]",
      "text/plain": [
       "<Figure size 432x288 with 2 Axes>"
      ]
     },
     "metadata": {
      "needs_background": "light"
     },
     "output_type": "display_data"
    }
   ],
   "source": [
    "c = pyanno.measures.agreement.confusion_matrix(anno.annotations[:,0], anno.annotations[:,1],10)\n",
    "print(c)\n",
    "ac = seaborn.heatmap(c)\n",
    "plt.show()"
   ]
  },
  {
   "cell_type": "code",
   "execution_count": 94,
   "metadata": {},
   "outputs": [
    {
     "data": {
      "text/plain": [
       "-0.16363636363636364"
      ]
     },
     "execution_count": 94,
     "metadata": {},
     "output_type": "execute_result"
    }
   ],
   "source": [
    "scotts_pi(anno.annotations[:,0], anno.annotations[:,1])"
   ]
  },
  {
   "cell_type": "markdown",
   "metadata": {},
   "source": [
    "The generalization of Scott's $\\pi$ to $n$ coders is Fleiss' $\\kappa$ (Fleiss called it $\\kappa$ because he thought he was generalizing Cohen's $\\kappa$)"
   ]
  },
  {
   "cell_type": "markdown",
   "metadata": {},
   "source": [
    "# Krippendorff is esp. relevant since the questions I posed were continuous \"on a scale of 1-10 rate this\"\n",
    "Krippendorff's $\\alpha$ generalizes of Fleiss' $\\kappa$ to $n$ coders and takes into account the fact that annotations here are not categorically different, but ordinal, by adding a weight matrix in which off-diagonal cells contain weights indicating the seriousness of the disagreement between each score. When produced with no arguments, it simply produces an arithmetic distance (e.g., 3-1=2), such that cells one off the diagonal are weighted 1, two off 2, etc."
   ]
  },
  {
   "cell_type": "code",
   "execution_count": 95,
   "metadata": {},
   "outputs": [
    {
     "data": {
      "text/plain": [
       "-0.005002440214738835"
      ]
     },
     "execution_count": 95,
     "metadata": {},
     "output_type": "execute_result"
    }
   ],
   "source": [
    "krippendorffs_alpha(anno.annotations[::])"
   ]
  },
  {
   "cell_type": "markdown",
   "metadata": {},
   "source": [
    "Like Scott's $\\pi$, Cohen's $\\kappa$ also takes into account the possibility of the agreement occurring by chance, but in the following way:\n",
    "\n",
    "$\\kappa = \\frac{p_o-p_e}{1-p_e}=1-\\frac{1-p_o}{p_e}$\n",
    "\n",
    "where $p_o$ is the relative observed agreement among raters, and $p_e$ is the hypothetical probability of chance agreement, using the observed data to calculate the probabilities of each observer randomly saying each category. If the raters are in complete agreement then $\\kappa = 1$. If there is no agreement among the raters other than what would be expected by chance (as given by $p_e$), $\\kappa ≤ 0 $. Here, Cohen's $\\kappa$ statistic for the first two annotators is computed. This is probably the most common metric of agreement."
   ]
  },
  {
   "cell_type": "code",
   "execution_count": 96,
   "metadata": {},
   "outputs": [
    {
     "data": {
      "text/plain": [
       "-0.0847457627118644"
      ]
     },
     "execution_count": 96,
     "metadata": {},
     "output_type": "execute_result"
    }
   ],
   "source": [
    "cohens_kappa(anno.annotations[:,0], anno.annotations[:,1]) \n",
    "# in example 0.439 - I believe this means that our data is comparably quite similar"
   ]
  },
  {
   "cell_type": "code",
   "execution_count": 97,
   "metadata": {},
   "outputs": [
    {
     "name": "stdout",
     "output_type": "stream",
     "text": [
      "[[ 1.         -0.08474576 -0.01818182 -0.16666667  0.03448276 -0.14285714\n",
      "  -0.14285714 -0.05660377 -0.16363636]\n",
      " [-0.08474576  1.         -0.08474576  0.05084746 -0.06666667  0.07692308\n",
      "   0.05084746 -0.10344828  0.06666667]\n",
      " [-0.01818182 -0.08474576  1.         -0.03703704  0.01754386  0.04\n",
      "   0.05882353 -0.16363636 -0.01818182]\n",
      " [-0.16666667  0.05084746 -0.03703704  1.         -0.06666667 -0.2173913\n",
      "   0.38461538  0.23076923  0.09433962]\n",
      " [ 0.03448276 -0.06666667  0.01754386 -0.06666667  1.          0.18367347\n",
      "  -0.12280702 -0.12280702 -0.12280702]\n",
      " [-0.14285714  0.07692308  0.04       -0.2173913   0.18367347  1.\n",
      "  -0.0212766  -0.14285714  0.04761905]\n",
      " [-0.14285714  0.05084746  0.05882353  0.38461538 -0.12280702 -0.0212766\n",
      "   1.          0.41818182  0.27272727]\n",
      " [-0.05660377 -0.10344828 -0.16363636  0.23076923 -0.12280702 -0.14285714\n",
      "   0.41818182  1.          0.14285714]\n",
      " [-0.16363636  0.06666667 -0.01818182  0.09433962 -0.12280702  0.04761905\n",
      "   0.27272727  0.14285714  1.        ]]\n"
     ]
    }
   ],
   "source": [
    "m = pairwise_matrix(cohens_kappa, anno.annotations)\n",
    "print(m)"
   ]
  },
  {
   "cell_type": "code",
   "execution_count": 98,
   "metadata": {},
   "outputs": [
    {
     "data": {
      "image/png": "[encoded data removed]",
      "text/plain": [
       "<Figure size 432x288 with 2 Axes>"
      ]
     },
     "metadata": {
      "needs_background": "light"
     },
     "output_type": "display_data"
    }
   ],
   "source": [
    "ax = seaborn.heatmap(m)\n",
    "plt.show()"
   ]
  },
  {
   "cell_type": "markdown",
   "metadata": {},
   "source": [
    "One can also assess the average Cohen's $\\kappa$ for all pairs of coders that have coded against one another:"
   ]
  },
  {
   "cell_type": "code",
   "execution_count": 99,
   "metadata": {},
   "outputs": [
    {
     "data": {
      "text/plain": [
       "0.0029177899579194786"
      ]
     },
     "execution_count": 99,
     "metadata": {},
     "output_type": "execute_result"
    }
   ],
   "source": [
    "def pairwise_metric_average(metric, array):\n",
    "    \"\"\"Calculate the pairwise metric average for the real elements of \n",
    "    metric function run on an array of annotations\"\"\"\n",
    "    p = permutations(range(array[0,:].size),2)\n",
    "    m = [metric(array[:,x[0]], array[:,x[1]]) for x in p]\n",
    "    clean_m = [c for c in m if not math.isnan(c)]\n",
    "    return reduce(lambda a, b: a + b, clean_m)/len(clean_m)    \n",
    " \n",
    "pairwise_metric_average(cohens_kappa, anno.annotations) \n",
    "#again, where example is ~0.41, our cohens k for all pairs of codersis: 0.007\n"
   ]
  },
  {
   "cell_type": "markdown",
   "metadata": {},
   "source": [
    "As recognized with Krippendorff's flexible $\\alpha$, our scores are *not* categorical, but rather ordered and her considered metric. Weighted $\\kappa$ allows you to count disagreements differently and is useful when codes are ordered as they are here. Here a weight matrix is added to the calculation, in which off-diagonal cells contain weights indicating the seriousness of the disagreement between each score. When automatically produced, it simply produces an arithmetic distance (e.g., 3-1=2), such that cells one off the diagonal are weighted 1, two off 2, etc. Here\n",
    "\n",
    "$\\kappa = 1-\\frac{\\sum^k_{i=1}\\sum^k_{j=1}w_{ij}x_{ij}}{\\sum^k_{i=1}\\sum^k_{j=1}w_{ij}m_{ij}}$\n",
    "\n",
    "where $\\kappa$ = $n$ codes and $w_{ij}$,$x_{ij}$, and $m_{ij}$ represent elements in the weight, observed, and expected matrices, respectively. (Obviously, when diagonal cells contain weights of 0 and off-diagonal cells weights of 1, this equals $\\kappa$)."
   ]
  },
  {
   "cell_type": "code",
   "execution_count": 100,
   "metadata": {},
   "outputs": [
    {
     "data": {
      "text/plain": [
       "-0.12621359223300965"
      ]
     },
     "execution_count": 100,
     "metadata": {},
     "output_type": "execute_result"
    }
   ],
   "source": [
    "cohens_weighted_kappa(anno.annotations[:,0], anno.annotations[:,1])"
   ]
  },
  {
   "cell_type": "markdown",
   "metadata": {},
   "source": [
    "Or averaged over the total:"
   ]
  },
  {
   "cell_type": "code",
   "execution_count": 101,
   "metadata": {},
   "outputs": [
    {
     "data": {
      "text/plain": [
       "0.03224552639457197"
      ]
     },
     "execution_count": 101,
     "metadata": {},
     "output_type": "execute_result"
    }
   ],
   "source": [
    "pairwise_metric_average(cohens_weighted_kappa,anno.annotations)"
   ]
  },
  {
   "cell_type": "markdown",
   "metadata": {},
   "source": [
    "Alternatively, if the annontation data can be understood as indicating real values, we can assess not agreement, but rather the correlation of values (Pearson's $\\rho$) or correlation of ranks (Spearman's $\\rho$) for pairs of coders:"
   ]
  },
  {
   "cell_type": "code",
   "execution_count": 102,
   "metadata": {},
   "outputs": [
    {
     "data": {
      "image/png": "[encoded data removed]",
      "text/plain": [
       "<Figure size 432x288 with 2 Axes>"
      ]
     },
     "metadata": {
      "needs_background": "light"
     },
     "output_type": "display_data"
    },
    {
     "data": {
      "image/png": "[encoded data removed]",
      "text/plain": [
       "<Figure size 432x288 with 2 Axes>"
      ]
     },
     "metadata": {
      "needs_background": "light"
     },
     "output_type": "display_data"
    }
   ],
   "source": [
    "n = pairwise_matrix(pearsons_rho, anno.annotations)\n",
    "m = pairwise_matrix(spearmans_rho, anno.annotations)\n",
    "an = seaborn.heatmap(n)\n",
    "plt.show()\n",
    "am = seaborn.heatmap(m)\n",
    "plt.show()"
   ]
  },
  {
   "cell_type": "markdown",
   "metadata": {},
   "source": [
    "Or averaged over all comparable pairs:"
   ]
  },
  {
   "cell_type": "code",
   "execution_count": 103,
   "metadata": {},
   "outputs": [
    {
     "name": "stdout",
     "output_type": "stream",
     "text": [
      "0.02153725004851071 0.015577099858102298\n"
     ]
    }
   ],
   "source": [
    "print(pairwise_metric_average(pearsons_rho,anno.annotations), pairwise_metric_average(spearmans_rho,anno.annotations))"
   ]
  },
  {
   "cell_type": "markdown",
   "metadata": {},
   "source": [
    "## <span style=\"color:red\">*Your turn*</span>\n",
    "\n",
    "<span style=\"color:red\">In the cells immediately following, use the results of your content annotation survey to predict high and low-quality analysts, then predict MAP estimates for your codes in question. What do these estimates suggest about the distribution of skill among your coders? How different are these estimates from a majority vote?"
   ]
  },
  {
   "cell_type": "markdown",
   "metadata": {},
   "source": [
    "The cells below show the MAP estimates which are incredibly low, suggesting that the skill of the coders is quite similar."
   ]
  },
  {
   "cell_type": "markdown",
   "metadata": {},
   "source": [
    "# Models"
   ]
  },
  {
   "cell_type": "markdown",
   "metadata": {},
   "source": [
    "However, what if some coders are better than others. The prior measures all rely on the assumption that all coders are equally good. What if some are worse than others? Now we use Rzhetsky et al (2009) and Dawid & Skene's models to make inference about true label classes by downweighting bad or deviant coders. Pyanno provides three relevant models: ModelA, ModelB, and ModelBt. Model A can only be currently run on a balanced 8-coder design, but assesses accuracy purely based on agreement. Model B with $\\theta$s models the relationship between each coder and code. Model B is the Dawid & Skene model from the reading. The following image schematically suggests the relationship between the models. <img src=\"../data/models.png\">"
   ]
  },
  {
   "cell_type": "markdown",
   "metadata": {},
   "source": [
    "The models should provide similar results. To estimate the parameters for any models, we first need to create a new model. "
   ]
  },
  {
   "cell_type": "code",
   "execution_count": 106,
   "metadata": {},
   "outputs": [],
   "source": [
    "# create a new instance of model A, with 10 label classes\n",
    "model = ModelB.create_initial_state(10, 9)\n",
    "# other model parameters are initialized from the model prior\n",
    "#print(model.theta)\n",
    "#print(model.log_likelihood(anno.annotations))"
   ]
  },
  {
   "cell_type": "code",
   "execution_count": 107,
   "metadata": {},
   "outputs": [],
   "source": [
    "samples = model.sample_posterior_over_accuracy(anno.annotations, 200, burn_in_samples=100, thin_samples=3)"
   ]
  },
  {
   "cell_type": "markdown",
   "metadata": {},
   "source": [
    "Pyanno allows one to use either MLE (maximum likelihood estimation) or MAP (maximum a posteriori estimation) to estimate model parameters. Note that the parameters here correspond to our estimation of the accuracy of each annotator."
   ]
  },
  {
   "cell_type": "code",
   "execution_count": 108,
   "metadata": {},
   "outputs": [],
   "source": [
    "model.map(anno.annotations)\n",
    "#print(model.theta)\n",
    "#print(model.log_likelihood(anno.annotations))"
   ]
  },
  {
   "cell_type": "code",
   "execution_count": 109,
   "metadata": {},
   "outputs": [],
   "source": [
    "model = ModelB.create_initial_state(10, 9)\n",
    "model.map(anno.annotations)\n",
    "#print(model.theta)\n",
    "#print(model.log_likelihood(anno.annotations))"
   ]
  },
  {
   "cell_type": "markdown",
   "metadata": {},
   "source": [
    "Once we have model parameters estimated, we can now make inferences about the true label classes. We can calculate the posterior distribution over the true label classes."
   ]
  },
  {
   "cell_type": "code",
   "execution_count": 110,
   "metadata": {},
   "outputs": [
    {
     "name": "stdout",
     "output_type": "stream",
     "text": [
      "[[0.00000000e+000 0.00000000e+000 0.00000000e+000 0.00000000e+000\n",
      "  1.00000000e+000 2.67127509e-033 0.00000000e+000 0.00000000e+000\n",
      "  0.00000000e+000 0.00000000e+000]\n",
      " [0.00000000e+000 0.00000000e+000 0.00000000e+000 0.00000000e+000\n",
      "  5.26089767e-036 1.00000000e+000 0.00000000e+000 0.00000000e+000\n",
      "  0.00000000e+000 0.00000000e+000]\n",
      " [0.00000000e+000 0.00000000e+000 0.00000000e+000 0.00000000e+000\n",
      "  0.00000000e+000 0.00000000e+000 0.00000000e+000 1.00000000e+000\n",
      "  0.00000000e+000 0.00000000e+000]\n",
      " [0.00000000e+000 0.00000000e+000 0.00000000e+000 0.00000000e+000\n",
      "  6.14759471e-029 1.00000000e+000 0.00000000e+000 0.00000000e+000\n",
      "  0.00000000e+000 0.00000000e+000]\n",
      " [0.00000000e+000 0.00000000e+000 0.00000000e+000 0.00000000e+000\n",
      "  1.58682644e-294 1.00000000e+000 0.00000000e+000 0.00000000e+000\n",
      "  0.00000000e+000 0.00000000e+000]\n",
      " [0.00000000e+000 0.00000000e+000 0.00000000e+000 0.00000000e+000\n",
      "  0.00000000e+000 0.00000000e+000 0.00000000e+000 1.00000000e+000\n",
      "  0.00000000e+000 0.00000000e+000]\n",
      " [0.00000000e+000 0.00000000e+000 0.00000000e+000 0.00000000e+000\n",
      "  1.00000000e+000 0.00000000e+000 0.00000000e+000 0.00000000e+000\n",
      "  0.00000000e+000 0.00000000e+000]\n",
      " [0.00000000e+000 0.00000000e+000 0.00000000e+000 0.00000000e+000\n",
      "  1.67107221e-044 1.00000000e+000 0.00000000e+000 0.00000000e+000\n",
      "  0.00000000e+000 0.00000000e+000]]\n"
     ]
    }
   ],
   "source": [
    "posterior = model.infer_labels(anno.annotations)\n",
    "print(posterior)"
   ]
  },
  {
   "cell_type": "markdown",
   "metadata": {},
   "source": [
    "Let's turn the posterior of the first 100 samples into a heatmap."
   ]
  },
  {
   "cell_type": "code",
   "execution_count": 111,
   "metadata": {},
   "outputs": [],
   "source": [
    "votes = []\n",
    "for r in anno.annotations:\n",
    "    v = [0] * len(anno.labels)\n",
    "    votes.append(v)\n",
    "    for a in r:\n",
    "        if a > -1:\n",
    "            v[a] += 1\n",
    "votes_array = np.array(votes)"
   ]
  },
  {
   "cell_type": "code",
   "execution_count": 112,
   "metadata": {},
   "outputs": [
    {
     "data": {
      "image/png": "[encoded data removed]",
      "text/plain": [
       "<Figure size 1080x720 with 4 Axes>"
      ]
     },
     "metadata": {
      "needs_background": "light"
     },
     "output_type": "display_data"
    }
   ],
   "source": [
    "fig, (ax1, ax2) = plt.subplots(ncols=2, figsize = (15, 10), sharey=True)\n",
    "num_questions = 20\n",
    "\n",
    "seaborn.heatmap(votes_array[:num_questions], annot = True, ax=ax2)\n",
    "seaborn.heatmap(posterior[:num_questions], annot=True, ax =ax1)\n",
    "ax1.set_title(\"Model\")\n",
    "ax2.set_title(\"Votes\")\n",
    "plt.show()"
   ]
  },
  {
   "cell_type": "markdown",
   "metadata": {},
   "source": [
    "This differs markedly from taking annotator scores at face value (Add comparison of average values)"
   ]
  },
  {
   "cell_type": "code",
   "execution_count": 113,
   "metadata": {},
   "outputs": [],
   "source": [
    "samples = model.sample_posterior_over_accuracy(anno.annotations, 200, burn_in_samples=100, thin_samples=3)"
   ]
  },
  {
   "cell_type": "code",
   "execution_count": 114,
   "metadata": {},
   "outputs": [
    {
     "name": "stdout",
     "output_type": "stream",
     "text": [
      "[[[0.56032383 0.13513349 0.06453184 0.03894098 0.03331373 0.03310327\n",
      "   0.03584787 0.03319609 0.03481294 0.03079596]\n",
      "  [0.11954233 0.50406383 0.12368316 0.06323493 0.03039125 0.02946433\n",
      "   0.03024762 0.03220248 0.03515425 0.03201581]\n",
      "  [0.06291274 0.10767965 0.48287188 0.11982384 0.06661    0.02768124\n",
      "   0.03446332 0.03121895 0.03503732 0.03170107]\n",
      "  [0.02776074 0.05958004 0.12408184 0.47714943 0.12366195 0.06165363\n",
      "   0.03152822 0.03441193 0.02820721 0.03196501]\n",
      "  [0.03236536 0.02891905 0.05097402 0.10809541 0.47095318 0.14043645\n",
      "   0.05526416 0.0317438  0.02865248 0.05259608]\n",
      "  [0.02982648 0.03097311 0.02809814 0.04897205 0.1960692  0.43617033\n",
      "   0.10285736 0.07240489 0.02654073 0.02808772]\n",
      "  [0.02884172 0.02976292 0.02922565 0.03204509 0.06302121 0.1229491\n",
      "   0.48550226 0.11776774 0.05803556 0.03284875]\n",
      "  [0.02786852 0.03249139 0.02878302 0.05155483 0.0263815  0.05937676\n",
      "   0.14214522 0.45764784 0.11320657 0.06054436]\n",
      "  [0.02865577 0.02979489 0.03282775 0.03234446 0.02827901 0.03098671\n",
      "   0.06374209 0.1305865  0.49938711 0.12339572]\n",
      "  [0.03255745 0.03540742 0.03495993 0.03014935 0.03730356 0.03878017\n",
      "   0.03228041 0.07218774 0.13209435 0.55427963]]\n",
      "\n",
      " [[0.55133275 0.13481998 0.07062191 0.03325726 0.03461687 0.03616976\n",
      "   0.03875362 0.03500065 0.03417481 0.03125238]\n",
      "  [0.12049529 0.49722647 0.13082312 0.06098846 0.03109981 0.03405322\n",
      "   0.0320411  0.03107364 0.0291783  0.0330206 ]\n",
      "  [0.05706217 0.11633424 0.49337605 0.11991296 0.05972948 0.02969418\n",
      "   0.03126629 0.02968891 0.03011796 0.03281777]\n",
      "  [0.0335167  0.05789446 0.1234351  0.47974909 0.12067084 0.06323633\n",
      "   0.03080256 0.02836491 0.03299168 0.02933832]\n",
      "  [0.05196565 0.03294327 0.0579887  0.11594913 0.48166709 0.116105\n",
      "   0.05824426 0.02586958 0.03110395 0.02816338]\n",
      "  [0.02575869 0.07842139 0.04540353 0.0792739  0.11103666 0.44295387\n",
      "   0.11499455 0.04780601 0.0299508  0.02440059]\n",
      "  [0.02739183 0.0319015  0.03112421 0.03265089 0.0647388  0.11493706\n",
      "   0.48517645 0.12382745 0.05875711 0.0294947 ]\n",
      "  [0.03005019 0.02843772 0.05657754 0.02960451 0.02653726 0.0586415\n",
      "   0.13985801 0.45454856 0.11971656 0.05602816]\n",
      "  [0.03130512 0.03277541 0.02909243 0.03133313 0.03357396 0.03075356\n",
      "   0.06505513 0.12787375 0.49122909 0.12700843]\n",
      "  [0.03428286 0.03160107 0.03115638 0.03849739 0.03314363 0.03561519\n",
      "   0.03084929 0.0705749  0.14485153 0.54942775]]\n",
      "\n",
      " [[0.54621109 0.13789861 0.06858102 0.03578156 0.03301853 0.03522402\n",
      "   0.03380435 0.03660521 0.03826472 0.0346109 ]\n",
      "  [0.12744878 0.49816291 0.12283844 0.05974723 0.03160525 0.03798074\n",
      "   0.02930915 0.03015787 0.03343945 0.02931019]\n",
      "  [0.05841221 0.12691493 0.47484185 0.12401671 0.06150273 0.03443059\n",
      "   0.03032964 0.02938337 0.03068117 0.02948678]\n",
      "  [0.02973868 0.05964338 0.1243761  0.49136642 0.1132355  0.0627214\n",
      "   0.02916983 0.0288861  0.02605173 0.03481086]\n",
      "  [0.02558327 0.02748449 0.08111338 0.11866203 0.46345385 0.11870741\n",
      "   0.05214077 0.0519618  0.02910527 0.03178774]\n",
      "  [0.02329663 0.02803008 0.02566503 0.08163201 0.1360973  0.47818175\n",
      "   0.1127852  0.06155951 0.02671924 0.02603326]\n",
      "  [0.03070434 0.0305244  0.03089516 0.03344185 0.05830304 0.12030795\n",
      "   0.49004337 0.11999732 0.05971855 0.02606402]\n",
      "  [0.03122214 0.02733174 0.03117362 0.0526047  0.02733714 0.05877355\n",
      "   0.12105505 0.47496027 0.1133081  0.0622337 ]\n",
      "  [0.03315545 0.03403246 0.03172615 0.03121783 0.0287077  0.03021281\n",
      "   0.0638685  0.12047617 0.49836592 0.12823702]\n",
      "  [0.03385484 0.03188919 0.03703348 0.03678725 0.03573662 0.0344171\n",
      "   0.03359515 0.07356147 0.12967505 0.55344986]]\n",
      "\n",
      " [[0.54873151 0.13770608 0.06554228 0.03526193 0.03486469 0.03625612\n",
      "   0.03654887 0.03274233 0.03476248 0.03758371]\n",
      "  [0.12358462 0.50102673 0.131455   0.0597838  0.02935946 0.03352148\n",
      "   0.02832222 0.03003565 0.03066778 0.03224325]\n",
      "  [0.06465696 0.11612473 0.48122107 0.1250907  0.06205722 0.03147948\n",
      "   0.02879422 0.03090976 0.02822796 0.03143789]\n",
      "  [0.03011847 0.05785302 0.11332227 0.49646343 0.11368227 0.0585382\n",
      "   0.03257707 0.03236635 0.03396116 0.03111776]\n",
      "  [0.02950469 0.02875722 0.05751088 0.10956175 0.5128466  0.1183838\n",
      "   0.0624419  0.03076143 0.02454074 0.02569098]\n",
      "  [0.02460614 0.02613547 0.03053346 0.05502287 0.13881089 0.49012744\n",
      "   0.12957011 0.05387767 0.02144482 0.02987114]\n",
      "  [0.03144231 0.03164069 0.02962725 0.031634   0.05857174 0.12335443\n",
      "   0.48648428 0.12173831 0.0570741  0.02843288]\n",
      "  [0.029365   0.0283357  0.02672545 0.02781583 0.05244311 0.06043793\n",
      "   0.12085928 0.47701176 0.11883585 0.05817009]\n",
      "  [0.03467679 0.03164097 0.03018694 0.03343442 0.03109354 0.03444475\n",
      "   0.06204179 0.1188898  0.50277518 0.12081581]\n",
      "  [0.03505414 0.03405302 0.03310183 0.03451709 0.03695396 0.03463743\n",
      "   0.03270645 0.0688661  0.14326651 0.54684348]]\n",
      "\n",
      " [[0.54965687 0.14503526 0.0678705  0.0362712  0.0329163  0.03520197\n",
      "   0.03203629 0.03607809 0.03028586 0.03464766]\n",
      "  [0.12088937 0.48176385 0.13407221 0.0626514  0.03352101 0.03208463\n",
      "   0.0356229  0.033368   0.03566811 0.0303585 ]\n",
      "  [0.05633703 0.1232642  0.47916368 0.12144358 0.06437015 0.03043737\n",
      "   0.03122589 0.03160381 0.02951867 0.03263562]\n",
      "  [0.02887898 0.05918003 0.12054567 0.48284952 0.11851466 0.06580759\n",
      "   0.03152016 0.029373   0.03203722 0.03129317]\n",
      "  [0.02889494 0.02607115 0.05827831 0.14357227 0.46092926 0.11196636\n",
      "   0.05771755 0.03177688 0.02787204 0.05292125]\n",
      "  [0.029034   0.02647642 0.02756594 0.05402609 0.1042869  0.46174309\n",
      "   0.13363183 0.08264449 0.05406381 0.02652742]\n",
      "  [0.03448179 0.03109618 0.03508034 0.02955499 0.05678115 0.12379713\n",
      "   0.47856805 0.11803568 0.06614086 0.02646383]\n",
      "  [0.02923947 0.0265161  0.05290828 0.02927379 0.0285969  0.05644274\n",
      "   0.11535572 0.46530046 0.11282479 0.08354175]\n",
      "  [0.03527585 0.02876106 0.03010512 0.03489387 0.03307549 0.03161313\n",
      "   0.05907204 0.12106376 0.49963127 0.12650841]\n",
      "  [0.03412144 0.03067904 0.03489936 0.0349037  0.03341441 0.03213214\n",
      "   0.03469584 0.07181925 0.14135805 0.55197677]]\n",
      "\n",
      " [[0.55041908 0.13406641 0.06651902 0.03756589 0.03550444 0.03761007\n",
      "   0.03791635 0.03276098 0.03358304 0.03405471]\n",
      "  [0.12855834 0.48720244 0.1319274  0.06249901 0.03245949 0.03018482\n",
      "   0.02972461 0.02940333 0.03422726 0.03381331]\n",
      "  [0.05727223 0.12227863 0.49156097 0.1189684  0.06078632 0.03170792\n",
      "   0.03014916 0.02918876 0.0292638  0.02882381]\n",
      "  [0.02650646 0.05942123 0.12053603 0.48413552 0.12553211 0.06129643\n",
      "   0.03115699 0.03025028 0.02949248 0.03167246]\n",
      "  [0.02815109 0.03195309 0.05804233 0.1158628  0.4670791  0.1220675\n",
      "   0.09169906 0.02824473 0.031382   0.02551831]\n",
      "  [0.02852184 0.02762402 0.02778345 0.05154163 0.10880759 0.478104\n",
      "   0.16561574 0.05352856 0.02993073 0.02854244]\n",
      "  [0.03163576 0.03387155 0.02932491 0.03121928 0.0595846  0.11525785\n",
      "   0.4904326  0.11910218 0.06053008 0.02904117]\n",
      "  [0.02929252 0.02744407 0.02938988 0.0320186  0.02988619 0.08531794\n",
      "   0.13864426 0.45485594 0.11547902 0.05767159]\n",
      "  [0.02837306 0.02987699 0.03360437 0.02869917 0.02876862 0.0345234\n",
      "   0.05892026 0.12494073 0.50166991 0.13062348]\n",
      "  [0.03716536 0.03225551 0.03455559 0.035688   0.0341092  0.03551037\n",
      "   0.03466454 0.07790224 0.13748383 0.54066537]]\n",
      "\n",
      " [[0.54980571 0.1409293  0.07241176 0.03681805 0.02801825 0.03188896\n",
      "   0.03835755 0.03472882 0.03026782 0.03677377]\n",
      "  [0.12754701 0.49899595 0.12735815 0.06596568 0.03252276 0.02837122\n",
      "   0.02864303 0.03141793 0.029395   0.02978326]\n",
      "  [0.05930102 0.11965033 0.48655807 0.12559192 0.06092883 0.03199345\n",
      "   0.03029597 0.02911219 0.02743924 0.02912898]\n",
      "  [0.02743038 0.05665426 0.12184715 0.49071094 0.12656227 0.05792688\n",
      "   0.03000034 0.02865219 0.03217598 0.0280396 ]\n",
      "  [0.03055902 0.02877791 0.0831641  0.11638865 0.4806737  0.12755303\n",
      "   0.05566484 0.0259921  0.02542071 0.02580593]\n",
      "  [0.02809162 0.02394967 0.05463431 0.05758223 0.1169275  0.50376779\n",
      "   0.10611495 0.055062   0.02572121 0.02814873]\n",
      "  [0.02933846 0.02747053 0.03157262 0.02827672 0.05892829 0.1165801\n",
      "   0.48680123 0.12854499 0.06224605 0.03024101]\n",
      "  [0.0270127  0.02822682 0.03199922 0.02606743 0.02544996 0.05828352\n",
      "   0.11263187 0.51711605 0.11449185 0.05872058]\n",
      "  [0.02788683 0.03096657 0.03342974 0.02798233 0.03528842 0.03160063\n",
      "   0.06031777 0.13188782 0.49516151 0.12547837]\n",
      "  [0.03084169 0.03404217 0.03869981 0.03114192 0.03806359 0.03408353\n",
      "   0.03882991 0.06682439 0.13957322 0.54789978]]\n",
      "\n",
      " [[0.54614692 0.13926597 0.0698443  0.03521791 0.03509351 0.03885209\n",
      "   0.03593778 0.03214671 0.03196877 0.03552604]\n",
      "  [0.1217622  0.49621692 0.1227978  0.06116324 0.0327283  0.03462164\n",
      "   0.03350745 0.03253705 0.03518298 0.02948242]\n",
      "  [0.05874034 0.1139989  0.48797222 0.12612941 0.05912441 0.03162431\n",
      "   0.02691467 0.03056047 0.03450029 0.03043497]\n",
      "  [0.03220926 0.05807407 0.11757527 0.4884593  0.11859951 0.06415297\n",
      "   0.02818513 0.03135945 0.03311265 0.02827238]\n",
      "  [0.02540529 0.02851462 0.07616445 0.11462308 0.48736224 0.12308407\n",
      "   0.05634728 0.02963062 0.02800063 0.03086772]\n",
      "  [0.02741737 0.02602698 0.03311665 0.07164676 0.1331734  0.46306111\n",
      "   0.13443603 0.05536752 0.02677077 0.02898341]\n",
      "  [0.03281325 0.02961429 0.03146424 0.02986882 0.05817467 0.11868068\n",
      "   0.48497769 0.11660244 0.06064213 0.03716179]\n",
      "  [0.02624128 0.02861326 0.02549632 0.03149929 0.02888067 0.05577674\n",
      "   0.11428589 0.48815678 0.12014452 0.08090526]\n",
      "  [0.02979374 0.03595906 0.03354837 0.03149445 0.0302964  0.03053966\n",
      "   0.0636626  0.126123   0.49104319 0.12753954]\n",
      "  [0.03366972 0.0337282  0.03558616 0.03447122 0.03410281 0.03318475\n",
      "   0.03717486 0.06531663 0.13392342 0.55884222]]\n",
      "\n",
      " [[0.55244145 0.1476914  0.06242602 0.03144815 0.03394595 0.03137664\n",
      "   0.03249831 0.0391387  0.03380717 0.03522622]\n",
      "  [0.13107647 0.50281251 0.12135708 0.06262448 0.03235135 0.02952793\n",
      "   0.02910531 0.03383537 0.02828097 0.02902853]\n",
      "  [0.05795049 0.11847841 0.48950907 0.12099918 0.0600878  0.03054001\n",
      "   0.03075582 0.02937599 0.03052503 0.0317782 ]\n",
      "  [0.03415737 0.06147596 0.12705703 0.47823941 0.11596717 0.06035815\n",
      "   0.02946035 0.03069778 0.03075398 0.03183279]\n",
      "  [0.02836281 0.02784636 0.05527145 0.11818869 0.48257896 0.11215121\n",
      "   0.08572671 0.02768068 0.0302274  0.03196571]\n",
      "  [0.02843806 0.02394108 0.02850472 0.07366739 0.11169401 0.48580571\n",
      "   0.13691885 0.05305947 0.0317285  0.02624221]\n",
      "  [0.02837944 0.02986524 0.02800436 0.03073934 0.06152222 0.11633812\n",
      "   0.49136579 0.12322421 0.06120461 0.02935666]\n",
      "  [0.02838892 0.03132845 0.02729818 0.02659713 0.0282962  0.05341661\n",
      "   0.12486686 0.47212681 0.14614171 0.06153913]\n",
      "  [0.03683187 0.03384454 0.03017376 0.03115761 0.02937405 0.02917986\n",
      "   0.05914183 0.12119976 0.51597334 0.11312338]\n",
      "  [0.03209466 0.03389384 0.03318756 0.03839737 0.03326444 0.03491999\n",
      "   0.03711455 0.06508267 0.13297615 0.55906878]]]\n",
      "[[[0.09199448 0.06759868 0.03900071 0.0408554  0.02820926 0.03232957\n",
      "   0.0383677  0.03329594 0.03248795 0.02869462]\n",
      "  [0.05642914 0.0825256  0.05462725 0.0426657  0.03096703 0.03226343\n",
      "   0.0253835  0.02985934 0.0324333  0.03076514]\n",
      "  [0.03929103 0.0534358  0.08300624 0.05803829 0.04276473 0.02505608\n",
      "   0.03032063 0.03140787 0.03296919 0.03316321]\n",
      "  [0.02831584 0.04044373 0.05552761 0.08193746 0.05847374 0.04281911\n",
      "   0.0317146  0.03123577 0.02490658 0.02737666]\n",
      "  [0.03546066 0.0282637  0.03546878 0.04788857 0.08972269 0.05538944\n",
      "   0.03709617 0.02991385 0.02776758 0.03350054]\n",
      "  [0.02872236 0.03146686 0.0285595  0.0337318  0.06901772 0.08121655\n",
      "   0.04881871 0.0440279  0.02649071 0.02830899]\n",
      "  [0.02752932 0.02564585 0.02999376 0.02968759 0.04427917 0.05520517\n",
      "   0.08593513 0.05372894 0.03500464 0.03020002]\n",
      "  [0.02815013 0.02672262 0.02994806 0.03893344 0.02507416 0.04000349\n",
      "   0.05765274 0.08023922 0.04942211 0.04082306]\n",
      "  [0.02592861 0.03066959 0.03135119 0.03122332 0.02843343 0.03293586\n",
      "   0.04112417 0.05839621 0.08230466 0.06065421]\n",
      "  [0.02972338 0.03191903 0.03150311 0.03080319 0.04197268 0.03686315\n",
      "   0.03061907 0.04747039 0.06305751 0.09377855]]\n",
      "\n",
      " [[0.08798668 0.06501502 0.04918512 0.03325686 0.03495701 0.03680358\n",
      "   0.0394015  0.03135451 0.03236197 0.03044109]\n",
      "  [0.05680488 0.08505049 0.05864549 0.0417903  0.02950199 0.03018591\n",
      "   0.03339827 0.03184493 0.02827328 0.03283839]\n",
      "  [0.03616171 0.04849949 0.0862558  0.05655606 0.03503218 0.03142321\n",
      "   0.02943621 0.02729434 0.03137332 0.03127535]\n",
      "  [0.02988791 0.03959833 0.04973071 0.08708353 0.05589157 0.04060077\n",
      "   0.02629594 0.02458004 0.0329785  0.02739889]\n",
      "  [0.03683445 0.03408816 0.04088563 0.05578336 0.09019491 0.05080271\n",
      "   0.04105262 0.02316122 0.03206162 0.02617299]\n",
      "  [0.02784805 0.04559917 0.03379343 0.04315078 0.05129059 0.07925157\n",
      "   0.05330094 0.03249425 0.03252462 0.02506325]\n",
      "  [0.02521292 0.02921007 0.02860372 0.03152593 0.0425305  0.05019492\n",
      "   0.08040544 0.05358434 0.04252259 0.02984959]\n",
      "  [0.02908178 0.02731348 0.04038958 0.02796015 0.02410919 0.0370926\n",
      "   0.06166037 0.08157607 0.05347506 0.03943438]\n",
      "  [0.02842754 0.03282164 0.02957387 0.0272905  0.03592414 0.02882565\n",
      "   0.04166038 0.05615049 0.08563336 0.05576953]\n",
      "  [0.03407441 0.02965953 0.02856953 0.03930369 0.03002622 0.03667098\n",
      "   0.02998945 0.0445812  0.06386233 0.08698691]]\n",
      "\n",
      " [[0.08469559 0.06116874 0.04427395 0.03380916 0.03187656 0.03295452\n",
      "   0.03025326 0.03615437 0.03667088 0.03279643]\n",
      "  [0.06061135 0.08433431 0.05831863 0.03944489 0.02677935 0.03729017\n",
      "   0.03343313 0.02667284 0.03275505 0.0293887 ]\n",
      "  [0.03956211 0.0554273  0.08738735 0.05545393 0.04552026 0.03566403\n",
      "   0.02610718 0.02824485 0.02864672 0.029756  ]\n",
      "  [0.02893436 0.04341171 0.0557512  0.08800519 0.05384319 0.04695959\n",
      "   0.02890227 0.03008695 0.02445432 0.03035338]\n",
      "  [0.02396461 0.02744769 0.04714913 0.04927817 0.08492056 0.05329132\n",
      "   0.03413552 0.03730864 0.02874428 0.02886777]\n",
      "  [0.02123202 0.02529105 0.02387598 0.04510909 0.05601939 0.07812331\n",
      "   0.05532485 0.03879047 0.02761993 0.02743392]\n",
      "  [0.02826059 0.03183774 0.03220639 0.03021637 0.0412558  0.05524001\n",
      "   0.08245808 0.05393297 0.04030587 0.02752618]\n",
      "  [0.03046559 0.02717704 0.02964608 0.03276543 0.02419808 0.03919769\n",
      "   0.05601427 0.07952267 0.05264458 0.04291159]\n",
      "  [0.03090727 0.0314878  0.02943068 0.0290499  0.02654308 0.02824188\n",
      "   0.04361763 0.06164553 0.09047608 0.05929041]\n",
      "  [0.03008126 0.03004644 0.03417518 0.03278167 0.03108561 0.03626606\n",
      "   0.02935872 0.04867083 0.05978551 0.08355074]]\n",
      "\n",
      " [[0.08625339 0.06505646 0.04252605 0.03272295 0.0310682  0.03310285\n",
      "   0.03371974 0.03182288 0.03269698 0.03359297]\n",
      "  [0.05985953 0.08740733 0.06303946 0.04033167 0.02724476 0.03022381\n",
      "   0.02727448 0.02900884 0.0274525  0.02907583]\n",
      "  [0.0436543  0.05269413 0.09318763 0.06047241 0.04234085 0.03181571\n",
      "   0.03053462 0.03186046 0.02610215 0.02991863]\n",
      "  [0.02896279 0.0396923  0.05571487 0.08719454 0.0528832  0.03936481\n",
      "   0.03046458 0.03109416 0.03162427 0.03301786]\n",
      "  [0.03148012 0.02849701 0.03830038 0.0536539  0.07474108 0.05687086\n",
      "   0.0405024  0.03033749 0.02479466 0.02220626]\n",
      "  [0.02474158 0.02327253 0.02980511 0.03644667 0.05678305 0.08321995\n",
      "   0.0552457  0.03809773 0.01994238 0.02863071]\n",
      "  [0.02995531 0.02853804 0.02785057 0.03245343 0.04129692 0.0535855\n",
      "   0.08598516 0.05972975 0.03978391 0.0278028 ]\n",
      "  [0.02981624 0.02451486 0.02618811 0.02621845 0.03748249 0.03731833\n",
      "   0.05595338 0.0755243  0.05136245 0.03565685]\n",
      "  [0.0332095  0.03290094 0.02932178 0.02986675 0.03274287 0.03172163\n",
      "   0.04186291 0.05638671 0.08363498 0.05400553]\n",
      "  [0.03268755 0.03574243 0.03193481 0.03557731 0.03509916 0.03493356\n",
      "   0.02996765 0.04811058 0.06395677 0.09250078]]\n",
      "\n",
      " [[0.09598347 0.06754778 0.04092652 0.03243404 0.0309468  0.03515835\n",
      "   0.02967966 0.03716853 0.02864023 0.03069562]\n",
      "  [0.05337118 0.08085098 0.05997541 0.03815214 0.02983943 0.03180357\n",
      "   0.03362486 0.03382223 0.03447084 0.02913399]\n",
      "  [0.03711632 0.0593687  0.08475142 0.05599197 0.04403951 0.02539609\n",
      "   0.02757485 0.03012764 0.02691118 0.03377476]\n",
      "  [0.02855767 0.04010772 0.05942204 0.0847866  0.05154743 0.04491484\n",
      "   0.0271604  0.02871429 0.02798596 0.02842352]\n",
      "  [0.02740243 0.02509331 0.03988193 0.0618104  0.08964919 0.0581637\n",
      "   0.03714293 0.03003122 0.02509086 0.03729087]\n",
      "  [0.0304704  0.02654706 0.02532395 0.03412286 0.04890615 0.09043463\n",
      "   0.05514555 0.04801286 0.03619829 0.02774353]\n",
      "  [0.03376554 0.03221244 0.03503363 0.02830824 0.03964686 0.06111683\n",
      "   0.08498307 0.05045984 0.04539054 0.02222193]\n",
      "  [0.02690315 0.02357392 0.0417553  0.02994405 0.02992022 0.03693803\n",
      "   0.0532825  0.08560725 0.05221504 0.04698859]\n",
      "  [0.03610111 0.0272461  0.02916021 0.03553019 0.03060241 0.02813017\n",
      "   0.03655045 0.0529168  0.08480089 0.05981027]\n",
      "  [0.03374957 0.02977891 0.03034812 0.0319778  0.03421902 0.03161162\n",
      "   0.03336183 0.04669017 0.06181444 0.09165564]]\n",
      "\n",
      " [[0.09514541 0.06312898 0.04452402 0.03675897 0.03326348 0.03517698\n",
      "   0.03574597 0.0359178  0.0283572  0.03272063]\n",
      "  [0.06227798 0.09172268 0.06438506 0.0454643  0.03101408 0.02881082\n",
      "   0.0295317  0.02979133 0.03479155 0.03442886]\n",
      "  [0.03922398 0.06246106 0.08650969 0.05043463 0.04444429 0.03172838\n",
      "   0.02925523 0.02584012 0.02832244 0.02807474]\n",
      "  [0.0241071  0.03767241 0.05243453 0.0955452  0.05650281 0.04282796\n",
      "   0.02958514 0.02734091 0.02781033 0.02928478]\n",
      "  [0.02573433 0.0301053  0.03850132 0.05123735 0.08328892 0.05016331\n",
      "   0.04634294 0.02697382 0.02958907 0.02309411]\n",
      "  [0.02854899 0.02595195 0.02785672 0.03492448 0.04667961 0.08434879\n",
      "   0.05539881 0.03406363 0.0298517  0.02798787]\n",
      "  [0.02721294 0.03166781 0.02966945 0.02694595 0.04055289 0.05210963\n",
      "   0.08530861 0.05548499 0.04328703 0.02565354]\n",
      "  [0.02826401 0.02152947 0.02794819 0.02949858 0.03291882 0.04900284\n",
      "   0.05458626 0.0756989  0.05482332 0.0355655 ]\n",
      "  [0.02511001 0.03429549 0.03149513 0.02676805 0.02720979 0.03157226\n",
      "   0.04138137 0.05841695 0.08479748 0.06235012]\n",
      "  [0.03360709 0.03164602 0.0324461  0.03284261 0.03649863 0.03508314\n",
      "   0.0329196  0.04853181 0.06324493 0.08616748]]\n",
      "\n",
      " [[0.08786238 0.06685666 0.04987591 0.03426238 0.02763326 0.03177823\n",
      "   0.03472287 0.03425536 0.02730048 0.03799306]\n",
      "  [0.06151647 0.0902933  0.05920785 0.04575295 0.02835871 0.0252111\n",
      "   0.02862879 0.03182581 0.0307107  0.03245153]\n",
      "  [0.04141125 0.05659632 0.08673728 0.05450767 0.04217443 0.02831546\n",
      "   0.02716337 0.02857207 0.02694623 0.02638399]\n",
      "  [0.02556007 0.04006027 0.06182249 0.08618613 0.05518653 0.03734268\n",
      "   0.03167147 0.02667941 0.03047327 0.02518991]\n",
      "  [0.02727177 0.02854723 0.05012782 0.05222796 0.08243647 0.05767838\n",
      "   0.03345226 0.02286831 0.02480117 0.02637628]\n",
      "  [0.02321783 0.02228758 0.04011754 0.03779387 0.05371055 0.08391695\n",
      "   0.04870419 0.03727173 0.02253252 0.02658803]\n",
      "  [0.02976378 0.02708743 0.02900117 0.02750904 0.04013623 0.04915721\n",
      "   0.08917343 0.06424827 0.04610932 0.02667989]\n",
      "  [0.02871449 0.02783538 0.03021564 0.02368455 0.0230009  0.03867632\n",
      "   0.0488269  0.07793089 0.05362035 0.03597341]\n",
      "  [0.02587034 0.0299917  0.03384702 0.02633951 0.03062161 0.0313901\n",
      "   0.04268728 0.0568337  0.08379372 0.05594118]\n",
      "  [0.02931134 0.03340936 0.03705436 0.02973905 0.03532872 0.0296574\n",
      "   0.03516412 0.04500568 0.06266429 0.08768788]]\n",
      "\n",
      " [[0.09689512 0.05724841 0.04465007 0.03404543 0.03293764 0.03727235\n",
      "   0.03706432 0.03439987 0.03458377 0.03521237]\n",
      "  [0.05600719 0.08292837 0.05414659 0.0413776  0.03060901 0.03220248\n",
      "   0.03351245 0.03240313 0.03281403 0.02858809]\n",
      "  [0.03912894 0.05183062 0.08841321 0.05913085 0.0400548  0.02649954\n",
      "   0.02799735 0.0283624  0.03071897 0.03127586]\n",
      "  [0.03651381 0.04181125 0.05148502 0.08439048 0.05367984 0.04305133\n",
      "   0.02858563 0.02788518 0.03226452 0.02938121]\n",
      "  [0.02818302 0.0277908  0.04485593 0.05132172 0.0882105  0.04744225\n",
      "   0.03899797 0.02582223 0.02656621 0.02975868]\n",
      "  [0.02739845 0.0273903  0.03224684 0.04202608 0.05634501 0.0837198\n",
      "   0.05250192 0.03588032 0.02790013 0.03392704]\n",
      "  [0.03061053 0.03172929 0.02889191 0.02972148 0.0385414  0.05428887\n",
      "   0.08348503 0.06024472 0.04163413 0.03758814]\n",
      "  [0.0246333  0.02516249 0.02368986 0.0332143  0.03130378 0.03728755\n",
      "   0.05098088 0.08393192 0.04915212 0.04749725]\n",
      "  [0.02905141 0.03458068 0.03256848 0.03217739 0.02761359 0.03481613\n",
      "   0.0407494  0.05478995 0.08101273 0.06264391]\n",
      "  [0.03279984 0.03449667 0.03400793 0.03422957 0.0306575  0.03292473\n",
      "   0.03465823 0.04205666 0.06343787 0.08971358]]\n",
      "\n",
      " [[0.08982602 0.07498858 0.03742538 0.03029217 0.03457639 0.02832143\n",
      "   0.03263849 0.03850717 0.03080275 0.03408292]\n",
      "  [0.06104989 0.09084459 0.05292284 0.04206547 0.03368922 0.02944997\n",
      "   0.0273957  0.03071527 0.02534662 0.02827125]\n",
      "  [0.03753017 0.05333895 0.08107768 0.05814699 0.03739961 0.027977\n",
      "   0.02919017 0.03036376 0.03096997 0.03198958]\n",
      "  [0.03556791 0.03829143 0.05364028 0.08620959 0.05208746 0.04076485\n",
      "   0.02869642 0.02807967 0.0287207  0.03039003]\n",
      "  [0.02599775 0.02822687 0.04029575 0.0516426  0.08610913 0.0508743\n",
      "   0.04405014 0.02719687 0.03141696 0.03229807]\n",
      "  [0.02643422 0.0240286  0.02521346 0.04205896 0.05301523 0.08467674\n",
      "   0.0545763  0.03767563 0.03138948 0.02436428]\n",
      "  [0.02609409 0.03175623 0.02696877 0.03109336 0.04131189 0.05427552\n",
      "   0.08845893 0.05249656 0.04118648 0.02572133]\n",
      "  [0.02844555 0.03096904 0.02560799 0.02499581 0.02657967 0.03405106\n",
      "   0.05416254 0.08564967 0.05627044 0.03819847]\n",
      "  [0.03378575 0.03443941 0.02773443 0.02687757 0.02724894 0.02965444\n",
      "   0.0405645  0.05604211 0.07821761 0.05006213]\n",
      "  [0.03050293 0.03304995 0.02927197 0.03831302 0.03132461 0.03146407\n",
      "   0.03433778 0.04456716 0.06085262 0.08890429]]]\n"
     ]
    }
   ],
   "source": [
    "print(samples[0].mean(axis=0))\n",
    "print(samples[0].std(axis=0))"
   ]
  },
  {
   "cell_type": "markdown",
   "metadata": {},
   "source": [
    "Let's try everything again with ModelBt"
   ]
  },
  {
   "cell_type": "code",
   "execution_count": 115,
   "metadata": {},
   "outputs": [
    {
     "name": "stdout",
     "output_type": "stream",
     "text": [
      "[0.83387708 0.77885002 0.87955102 0.62307861 0.73239446 0.64417214\n",
      " 0.64462554 0.86625943 0.87126632]\n",
      "-205.53182428165465\n"
     ]
    }
   ],
   "source": [
    "# create a new instance of model B, with 10 label classes and 9 annotators.\n",
    "model = ModelBt.create_initial_state(10, 9)\n",
    "print(model.theta)\n",
    "print(model.log_likelihood(anno.annotations))"
   ]
  },
  {
   "cell_type": "code",
   "execution_count": 116,
   "metadata": {},
   "outputs": [
    {
     "name": "stdout",
     "output_type": "stream",
     "text": [
      "[0.12287733 0.25128823 0.34114275 0.55468774 0.10285891 0.24725819\n",
      " 0.99999995 0.5571615  0.40575638]\n",
      "-147.6109428916734\n"
     ]
    }
   ],
   "source": [
    "model.map(anno.annotations)\n",
    "print(model.theta)\n",
    "print(model.log_likelihood(anno.annotations))"
   ]
  },
  {
   "cell_type": "code",
   "execution_count": 117,
   "metadata": {},
   "outputs": [
    {
     "name": "stdout",
     "output_type": "stream",
     "text": [
      "[[6.76701977e-11 1.49094260e-10 9.99999965e-01 1.38609478e-10\n",
      "  3.01155417e-08 7.25125134e-10 2.02605364e-11 3.55036981e-09\n",
      "  7.25058898e-11 1.53442544e-18]\n",
      " [2.53673841e-10 5.58906503e-10 9.99999929e-01 3.50404019e-08\n",
      "  5.42499277e-10 3.06475242e-08 2.88010583e-10 3.60096139e-09\n",
      "  2.71801298e-10 5.75206823e-18]\n",
      " [3.98880490e-12 8.78832832e-12 8.96403125e-11 3.68979230e-11\n",
      "  8.53033868e-12 1.00219332e-10 5.09334502e-13 1.00000000e+00\n",
      "  2.62640673e-11 9.33286150e-20]\n",
      " [1.28398806e-11 2.82894473e-11 9.55259929e-11 7.69897264e-11\n",
      "  3.92027621e-10 9.99999999e-01 2.36242388e-11 1.49167252e-10\n",
      "  1.37574146e-11 2.91144995e-19]\n",
      " [3.69219159e-11 2.45724069e-10 2.74691237e-10 3.41541400e-10\n",
      "  1.11606139e-09 9.99999997e-01 4.23417515e-11 4.15693326e-10\n",
      "  4.08210105e-11 8.37206464e-19]\n",
      " [1.76814057e-11 3.89565301e-11 1.35737875e-10 4.42529827e-11\n",
      "  4.23903192e-10 1.50272096e-10 1.59908030e-11 9.99999999e-01\n",
      "  1.89449137e-11 4.53986960e-18]\n",
      " [6.34319597e-11 4.62670294e-11 7.28041337e-10 4.16850128e-11\n",
      "  9.99999999e-01 1.78471837e-10 1.30694656e-11 2.36426940e-10\n",
      "  2.25000757e-11 6.19489745e-19]\n",
      " [8.59857961e-13 5.72255776e-12 6.39716117e-12 1.70686242e-12\n",
      "  1.08041717e-11 1.00000000e+00 2.65646374e-13 9.68089566e-12\n",
      "  9.21303153e-13 1.94973263e-20]]\n"
     ]
    }
   ],
   "source": [
    "posterior = model.infer_labels(anno.annotations)\n",
    "print(posterior)"
   ]
  },
  {
   "cell_type": "markdown",
   "metadata": {},
   "source": [
    "Let's visualize the posterior of the first 10 samples according to ModelBt."
   ]
  },
  {
   "cell_type": "code",
   "execution_count": 118,
   "metadata": {},
   "outputs": [
    {
     "data": {
      "image/png": "[encoded data removed]",
      "text/plain": [
       "<Figure size 432x288 with 2 Axes>"
      ]
     },
     "metadata": {
      "needs_background": "light"
     },
     "output_type": "display_data"
    }
   ],
   "source": [
    "ax = seaborn.heatmap(posterior[:10,])\n",
    "plt.show()"
   ]
  },
  {
   "cell_type": "markdown",
   "metadata": {},
   "source": [
    "Here we see that the coders are MUCH more likely to choose values between 4 and 7 (particularly 5 and 7)... which would be similar to if we simply averaged the responses"
   ]
  },
  {
   "cell_type": "markdown",
   "metadata": {},
   "source": [
    "# Generating Annotations"
   ]
  },
  {
   "cell_type": "markdown",
   "metadata": {},
   "source": [
    "Pyanno also allows one to generate artificial data from a model."
   ]
  },
  {
   "cell_type": "code",
   "execution_count": 122,
   "metadata": {},
   "outputs": [
    {
     "data": {
      "text/plain": [
       "array([[7, 7, 8, 8, 6],\n",
       "       [1, 8, 1, 1, 5],\n",
       "       [2, 2, 4, 8, 4],\n",
       "       [8, 8, 8, 1, 5],\n",
       "       [0, 0, 1, 1, 1],\n",
       "       [0, 0, 3, 4, 2],\n",
       "       [5, 3, 5, 5, 1],\n",
       "       [0, 2, 0, 7, 6],\n",
       "       [0, 0, 5, 0, 7],\n",
       "       [1, 1, 2, 0, 7],\n",
       "       [2, 2, 4, 9, 3],\n",
       "       [5, 5, 5, 4, 9],\n",
       "       [5, 5, 5, 9, 8],\n",
       "       [3, 3, 1, 6, 8],\n",
       "       [3, 3, 8, 3, 9],\n",
       "       [1, 1, 1, 7, 4],\n",
       "       [8, 8, 0, 5, 9],\n",
       "       [0, 0, 8, 6, 9],\n",
       "       [3, 3, 3, 2, 2],\n",
       "       [0, 0, 5, 9, 4]])"
      ]
     },
     "execution_count": 122,
     "metadata": {},
     "output_type": "execute_result"
    }
   ],
   "source": [
    "model = ModelBt.create_initial_state(10, 5, theta=[0.99,0.75, 0.5, 0.25, 0.01])\n",
    "#randome generate annotations with 10 label classes and 5 annotators. The accuracy of the three annotators are 0.99, 0.75, 0.5, 0.25 and 0.01 respectively.\n",
    "model.generate_annotations(20)"
   ]
  },
  {
   "cell_type": "markdown",
   "metadata": {},
   "source": [
    "## Visualizing coder accuracy"
   ]
  },
  {
   "cell_type": "markdown",
   "metadata": {},
   "source": [
    "Pyanno provides a [graphical user interface](http://docs.enthought.com/uchicago-pyanno/user_guide.html) for making plots. However, it is not compatible with ipython notebooks. Nevertheless, nothing prevents us from making plots using matplotlib. Let's make a plot of the accuracy of each annotator inferred from ModelA."
   ]
  },
  {
   "cell_type": "code",
   "execution_count": 123,
   "metadata": {},
   "outputs": [],
   "source": [
    "model = ModelBt.create_initial_state(10, 9)\n",
    "model.mle(anno.annotations)\n",
    "samples = model.sample_posterior_over_accuracy(anno.annotations, 200, burn_in_samples=100, thin_samples=3)\n",
    "y =  samples.mean(axis=0)#.mean(axis = 1).mean(axis = 1)\n",
    "y_ci = samples.std(axis=0)#.mean(axis = 1).mean(axis = 1)"
   ]
  },
  {
   "cell_type": "code",
   "execution_count": 124,
   "metadata": {},
   "outputs": [
    {
     "data": {
      "image/png": "[encoded data removed]",
      "text/plain": [
       "<Figure size 432x288 with 1 Axes>"
      ]
     },
     "metadata": {
      "needs_background": "light"
     },
     "output_type": "display_data"
    }
   ],
   "source": [
    "plt.figure()\n",
    "plt.errorbar(range(9),y, yerr = y_ci)\n",
    "plt.show()"
   ]
  },
  {
   "cell_type": "markdown",
   "metadata": {},
   "source": [
    "## Using more of my data"
   ]
  },
  {
   "cell_type": "markdown",
   "metadata": {},
   "source": [
    "Look at coder agreement"
   ]
  },
  {
   "cell_type": "code",
   "execution_count": 125,
   "metadata": {},
   "outputs": [
    {
     "data": {
      "text/plain": [
       "array([0.01408451, 0.02816901, 0.09859155, 0.09859155, 0.18309859,\n",
       "       0.21126761, 0.15492958, 0.12676056, 0.02816901, 0.05633803])"
      ]
     },
     "execution_count": 125,
     "metadata": {},
     "output_type": "execute_result"
    }
   ],
   "source": [
    "pyanno.measures.agreement.labels_frequency(anno.annotations, 10)#10 possible catagories"
   ]
  },
  {
   "cell_type": "markdown",
   "metadata": {},
   "source": [
    "Above we see the user agreement for the 9 users to annotated 10 categories. For each of the 10 categories (1-10 on scale) there is an agreement frequency. We see it is the lowest for a score of 1 (controversial) and highest for a score of 6 (pretty neutral).. makes sense for judging the actions we provided in the description"
   ]
  },
  {
   "cell_type": "code",
   "execution_count": 127,
   "metadata": {},
   "outputs": [
    {
     "name": "stdout",
     "output_type": "stream",
     "text": [
      "[[0. 0. 0. 0. 0. 0. 0. 0. 0. 0.]\n",
      " [0. 0. 0. 0. 0. 0. 0. 0. 0. 0.]\n",
      " [0. 0. 0. 0. 0. 0. 0. 0. 0. 0.]\n",
      " [0. 0. 0. 0. 0. 0. 1. 0. 0. 0.]\n",
      " [0. 2. 0. 1. 0. 0. 0. 0. 0. 0.]\n",
      " [0. 0. 0. 0. 1. 0. 0. 0. 0. 0.]\n",
      " [0. 0. 1. 0. 0. 0. 0. 0. 0. 0.]\n",
      " [0. 0. 1. 0. 0. 0. 0. 0. 0. 0.]\n",
      " [0. 0. 0. 0. 0. 0. 0. 0. 0. 0.]\n",
      " [1. 0. 0. 0. 0. 0. 0. 0. 0. 0.]]\n"
     ]
    },
    {
     "data": {
      "image/png": "[encoded data removed]",
      "text/plain": [
       "<Figure size 432x288 with 2 Axes>"
      ]
     },
     "metadata": {
      "needs_background": "light"
     },
     "output_type": "display_data"
    }
   ],
   "source": [
    "c = pyanno.measures.agreement.confusion_matrix(anno.annotations[:,0], anno.annotations[:,1], 10) #10 possible catagories\n",
    "print(c)\n",
    "ac = seaborn.heatmap(c)\n",
    "plt.show()"
   ]
  },
  {
   "cell_type": "markdown",
   "metadata": {},
   "source": [
    "Most agreement is on 1 interestingly i.e. most people see using twitter generally as a '4' on the scale from 1 (interoverted) to 10 (extroverted)"
   ]
  },
  {
   "cell_type": "code",
   "execution_count": 129,
   "metadata": {},
   "outputs": [
    {
     "data": {
      "text/plain": [
       "-0.16363636363636364"
      ]
     },
     "execution_count": 129,
     "metadata": {},
     "output_type": "execute_result"
    }
   ],
   "source": [
    "scotts_pi(anno.annotations[:,0], anno.annotations[:,1])"
   ]
  },
  {
   "cell_type": "code",
   "execution_count": 130,
   "metadata": {},
   "outputs": [
    {
     "data": {
      "text/plain": [
       "-0.005002440214738835"
      ]
     },
     "execution_count": 130,
     "metadata": {},
     "output_type": "execute_result"
    }
   ],
   "source": [
    "krippendorffs_alpha(anno.annotations[::])"
   ]
  },
  {
   "cell_type": "code",
   "execution_count": 131,
   "metadata": {},
   "outputs": [
    {
     "data": {
      "text/plain": [
       "-0.0847457627118644"
      ]
     },
     "execution_count": 131,
     "metadata": {},
     "output_type": "execute_result"
    }
   ],
   "source": [
    "cohens_kappa(anno.annotations[:,0], anno.annotations[:,1])"
   ]
  },
  {
   "cell_type": "code",
   "execution_count": 132,
   "metadata": {},
   "outputs": [
    {
     "data": {
      "text/plain": [
       "<AxesSubplot:>"
      ]
     },
     "execution_count": 132,
     "metadata": {},
     "output_type": "execute_result"
    },
    {
     "data": {
      "image/png": "[encoded data removed]",
      "text/plain": [
       "<Figure size 1080x1080 with 2 Axes>"
      ]
     },
     "metadata": {
      "needs_background": "light"
     },
     "output_type": "display_data"
    }
   ],
   "source": [
    "m = pairwise_matrix(cohens_kappa, anno.annotations)\n",
    "fig, ax = plt.subplots(figsize = (15, 15))\n",
    "seaborn.heatmap(m, ax =ax)"
   ]
  },
  {
   "cell_type": "code",
   "execution_count": 135,
   "metadata": {},
   "outputs": [
    {
     "name": "stdout",
     "output_type": "stream",
     "text": [
      "[2.71858661e-01 2.80852398e-01 3.01699292e-01 7.40525746e-01\n",
      " 3.95510451e-08 4.06204004e-01 7.67054857e-01 5.71601159e-01\n",
      " 5.76290008e-01]\n",
      "-152.60484794619785\n"
     ]
    }
   ],
   "source": [
    "model_hot = ModelBt.create_initial_state(10, 9)\n",
    "model_hot.mle(anno.annotations)\n",
    "print(model.theta)\n",
    "print(model_hot.log_likelihood(anno.annotations))"
   ]
  },
  {
   "cell_type": "code",
   "execution_count": 136,
   "metadata": {},
   "outputs": [],
   "source": [
    "def makeQuestionComparison(model, anno_target, num_questions = 20):\n",
    "    votes = []\n",
    "    for r in anno_target.annotations:\n",
    "        v = [0] * len(anno_target.labels)\n",
    "        votes.append(v)\n",
    "        for a in r:\n",
    "            if a > -1:\n",
    "                v[a] += 1\n",
    "    votes_array = np.array(votes)\n",
    "    posterior = model.infer_labels(anno_target.annotations)\n",
    "    fig, (ax1, ax2) = plt.subplots(ncols=2, figsize = (15, 10), sharey=True)\n",
    "\n",
    "    seaborn.heatmap(votes_array[:num_questions], annot = True, ax=ax2)\n",
    "    seaborn.heatmap(np.nan_to_num(posterior,0)[:num_questions], annot=True, ax =ax1)\n",
    "    ax1.set_title(\"Model\")\n",
    "    ax2.set_title(\"Votes\")\n",
    "    return fig, (ax1, ax2)"
   ]
  },
  {
   "cell_type": "code",
   "execution_count": 138,
   "metadata": {},
   "outputs": [
    {
     "data": {
      "text/plain": [
       "(<Figure size 1080x720 with 4 Axes>,\n",
       " (<AxesSubplot:title={'center':'Model'}>,\n",
       "  <AxesSubplot:title={'center':'Votes'}>))"
      ]
     },
     "execution_count": 138,
     "metadata": {},
     "output_type": "execute_result"
    },
    {
     "data": {
      "image/png": "[encoded data removed]",
      "text/plain": [
       "<Figure size 1080x720 with 4 Axes>"
      ]
     },
     "metadata": {
      "needs_background": "light"
     },
     "output_type": "display_data"
    }
   ],
   "source": [
    "makeQuestionComparison(model_hot, anno)"
   ]
  }
 ],
 "metadata": {
  "anaconda-cloud": {},
  "kernelspec": {
   "display_name": "Python 3",
   "language": "python",
   "name": "python3"
  },
  "language_info": {
   "codemirror_mode": {
    "name": "ipython",
    "version": 3
   },
   "file_extension": ".py",
   "mimetype": "text/x-python",
   "name": "python",
   "nbconvert_exporter": "python",
   "pygments_lexer": "ipython3",
   "version": "3.8.5"
  }
 },
 "nbformat": 4,
 "nbformat_minor": 4
}
