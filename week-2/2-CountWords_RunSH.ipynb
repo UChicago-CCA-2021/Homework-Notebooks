{
 "cells": [
  {
   "cell_type": "markdown",
   "metadata": {},
   "source": [
    "# Week 2 - Counting Words & Phrases\n",
    "\n",
    "This week, we take text corpora that we have developed, spidered, scraped, and encoded, and we find and count words, simple and parsed phrases and explore the statistical properties of those counts (e.g., word frequency distributions). Initially, we model how to search corpora for keywords or phrases. Next, we examine the distributions of terms and phrases across a corpus, and the correlation between different words and phrase counts. In order to do this effectively, we coarsely disambiguate words based of part-of-speech (POS) tagging, and normalize them through stemming and lemmatization. Next we distinguish *important* words and phrase within the corpus, and image them with Wordls! Then we calculate word frequenceis, conditional frequences (the frequency of word *shock* conditional on the presence of word *awe*), and statistically significant collocations of lengths 2 through $n$. Finally, we calculate and visualize Differences (Divergences and Distances) between the word frequency distributions from two corpora. \n",
    "\n",
    "Then we shift to focus not simply on the *ideas* in a corpus, but also extracting precise *claims*. This process involves a sequential pipeline of classifying and structuring tokens from text, each of which generates potentially useful data for the content analyst. Steps in this process, which we examine in this notebook, include: 1) tagging words by their part of speech (POS) to reveal the linguistic role they play in the sentence (e.g., Verb, Noun, Adjective, etc.); 2) tagging words as named entities (NER) such as places or organizations; 3) structuring or \"parsing\" sentences into nested phrases that are local to, describe or depend on one another; and 4) extracting informational claims from those phrases.\n",
    "\n",
    "We will be introducing spaCy as a package for Computational Linguistics, and also walk you through how to use the Davies Corpora. \n",
    "\n",
    "While we wish to avoid using NLTK for heavy corpus analysis, some of its smaller functions can still be useful.\n",
    "\n",
    "Of course, for final projects that draw on these tools, we encourage you to install the software on your own machines or shared servers at the university (RCC, SSRC) in order to perform these operations on much more text. \n",
    "\n",
    "For this notebook we will be using the following packages:\n"
   ]
  },
  {
   "cell_type": "code",
   "execution_count": 18,
   "metadata": {},
   "outputs": [],
   "source": [
    "#Special module written for this class\n",
    "#This provides access to data and to helper functions from previous weeks\n",
    "import lucem_illud #just in case, regularly update your lucem_illud with the following code: pip install git+git://github.com/UChicago-Computational-Content-Analysis/lucem_illud.git\n",
    "\n",
    "#All these packages need to be installed from pip\n",
    "import requests #for http requests\n",
    "import pandas #gives us DataFrames\n",
    "import matplotlib.pyplot as plt #For graphics\n",
    "import wordcloud #Makes word clouds\n",
    "import numpy as np #For divergences/distances\n",
    "import scipy #For divergences/distances\n",
    "import seaborn as sns #makes our plots look nicer\n",
    "import sklearn.manifold #For a manifold plot\n",
    "import json #For API responses\n",
    "import urllib.parse #For joining urls\n",
    "\n",
    "# comp-linguistics\n",
    "import spacy\n",
    "\n",
    "#Displays the graphs\n",
    "import graphviz #You also need to install the command line graphviz\n",
    "\n",
    "#These are from the standard library\n",
    "import os.path\n",
    "import zipfile\n",
    "import subprocess\n",
    "import io\n",
    "import tempfile\n",
    "\n",
    "#This 'magic' command makes the plots work better\n",
    "#in the notebook, don't use it outside of a notebook\n",
    "%matplotlib inline"
   ]
  },
  {
   "cell_type": "markdown",
   "metadata": {},
   "source": [
    "# Retrieving exemplary corpora\n",
    "\n",
    "To get started we will need some examples. Let's start by downloading one of the corpuses from the Davies set purchased for this class and developed by a computational linguist at Brigham Young University. We can get a list of works available from the [corpora here](https://www.english-corpora.org/).\n",
    "\n",
    "In this notebook, I will be accessing the data locally - you also have access to this data through the Dropbox download link. The same code can be modified slighlty to access the rest of the corpora on RCC. \n",
    "There is a notebook describing this process in the same repository, as well as in the same directory on RCC."
   ]
  },
  {
   "cell_type": "code",
   "execution_count": 19,
   "metadata": {},
   "outputs": [],
   "source": [
    "corpus_name = \"/Users/sabinahartnett/Desktop/UChicago/ContentAnalysis21/Homework-Notebooks/week-2/Movies\" \n",
    "#this is a zip file downloaded from the Corpus of Contemporary American English\n",
    "#instructions:\n",
    "#https://canvas.uchicago.edu/courses/33672/pages/accessing-computational-resources-and-corpora\n",
    "# corpus_name = \"Movies\""
   ]
  },
  {
   "cell_type": "markdown",
   "metadata": {},
   "source": [
    "Just to be clear, your corpus_name should be different since you're not bhargav. Modify the corpus_name with your directory. This method extracts the text from the zip files and stroes the raw data."
   ]
  },
  {
   "cell_type": "code",
   "execution_count": 20,
   "metadata": {},
   "outputs": [],
   "source": [
    "def loadcorpus(corpus_name, corpus_style=\"text\"):\n",
    "    texts_raw = {}\n",
    "    for file in os.listdir(corpus_name + \"/\"):\n",
    "        if corpus_style in file:\n",
    "            print(file)\n",
    "            zfile = zipfile.ZipFile(corpus_name + \"/\" + file)\n",
    "            for file in zfile.namelist():\n",
    "                texts_raw[file] = []\n",
    "                with zfile.open(file) as f:\n",
    "                    for line in f:\n",
    "                        texts_raw[file].append(line)\n",
    "    return texts_raw"
   ]
  },
  {
   "cell_type": "code",
   "execution_count": 21,
   "metadata": {},
   "outputs": [
    {
     "name": "stdout",
     "output_type": "stream",
     "text": [
      "text_13_idi.zip\n",
      "text_16_qll.zip\n",
      "text_32_ldf.zip\n",
      "text_19_gvc.zip\n",
      "text_05_nko.zip\n",
      "text_17_arp.zip\n",
      "text_01_ote.zip\n",
      "text_28_rfy.zip\n",
      "text_31_akv.zip\n",
      "text_22_etp.zip\n",
      "text_11_uoy.zip\n",
      "text_09_oii.zip\n",
      "text_06_jfy.zip\n",
      "text_14_lnc.zip\n",
      "text_08_loh.zip\n",
      "text_33_kje.zip\n",
      "text_30_wkp.zip\n",
      "text_07_oma.zip\n",
      "text_03_mnq.zip\n",
      "text_21_fqa.zip\n",
      "text_29_oye.zip\n",
      "text_27_fle.zip\n",
      "text_23_fmh.zip\n",
      "text_12_rcq.zip\n",
      "text_00_myn.zip\n",
      "text_10_aoy.zip\n",
      "text_04_mlq.zip\n",
      "text_20_cde.zip\n",
      "text_02_mqu.zip\n",
      "text_26_ngj.zip\n",
      "text_24_ywo.zip\n",
      "text_18_jfj.zip\n",
      "text_25_byg.zip\n",
      "text_15_guo.zip\n"
     ]
    }
   ],
   "source": [
    "movie_raw = loadcorpus(corpus_name)"
   ]
  },
  {
   "cell_type": "code",
   "execution_count": 22,
   "metadata": {},
   "outputs": [],
   "source": [
    "#this is super long\n",
    "#movie_raw['11.txt'][0:3]"
   ]
  },
  {
   "cell_type": "markdown",
   "metadata": {},
   "source": [
    "It seems messy, but nothing we can't clean. This basic method replaces some of the issues with the formatting, and prints the errors if any for debugging. Let us clean one of the raw text files.\n",
    "\n",
    "We ignore the non-unicode data for convenience in our first pass."
   ]
  },
  {
   "cell_type": "code",
   "execution_count": 23,
   "metadata": {},
   "outputs": [],
   "source": [
    "def clean_raw_text(raw_texts):\n",
    "    clean_texts = []\n",
    "    for text in raw_texts:\n",
    "        try:\n",
    "            text = text.decode(\"utf-8\")\n",
    "            #replace the contraction funky markers with readable text\n",
    "            clean_text = text.replace(\" \\'m\", \"'m\").replace(\" \\'ll\", \"'ll\").replace(\" \\'re\", \"'re\").replace(\" \\'s\", \"'s\").replace(\" \\'re\", \"'re\").replace(\" n\\'t\", \"n't\").replace(\" \\'ve\", \"'ve\").replace(\" /'d\", \"'d\")\n",
    "            clean_texts.append(clean_text)\n",
    "        except AttributeError:\n",
    "            # print(\"ERROR CLEANING\")\n",
    "            # print(text)\n",
    "            continue\n",
    "        except UnicodeDecodeError:\n",
    "            # print(\"Unicode Error, Skip\")\n",
    "            continue\n",
    "    return clean_texts"
   ]
  },
  {
   "cell_type": "code",
   "execution_count": 24,
   "metadata": {},
   "outputs": [],
   "source": [
    "clean_11 = clean_raw_text(movie_raw['11.txt'])"
   ]
  },
  {
   "cell_type": "code",
   "execution_count": 25,
   "metadata": {},
   "outputs": [],
   "source": [
    "#clean_11[1]"
   ]
  },
  {
   "cell_type": "markdown",
   "metadata": {},
   "source": [
    "This method cleaned a few basic formatting errors. You are welcome to experiment and add your own code to expand on cleaning the text. Once it begins to look the way you want it to, we can start using spaCy to do some heavier cleaning. spaCy does this through the use of language models. Make sure you have the spaCy english language model loaded. "
   ]
  },
  {
   "cell_type": "code",
   "execution_count": 26,
   "metadata": {},
   "outputs": [],
   "source": [
    "nlp = spacy.load(\"en\")"
   ]
  },
  {
   "cell_type": "markdown",
   "metadata": {},
   "source": [
    "This model is going to be the basis of most of the tasks which NLTK (the Natural Language Tool Kit) might have done otherwise. While NLTK uses a bunch of clunky models from multiple places, spacy neatly packs all functionality in one model. This deep trained model will start by doing our word tokenizing and normalising. These methods are already included in lucem illud, and here we will just demonstrate them outside the package so to explain what goes on under the hood.\n",
    "\n",
    "When we run text through a spacy model, it performs a lot of computation on each of the tokens. Each token is given certain attributes, such as a part of speech, information whether it is a number, a stop word, and so on. \n",
    "\n",
    "To perform a tokenization, we check if the string includes punctuation and add this token. "
   ]
  },
  {
   "cell_type": "code",
   "execution_count": 27,
   "metadata": {},
   "outputs": [],
   "source": [
    "def word_tokenize(word_list):\n",
    "    tokenized = []\n",
    "    # pass word list through language model.\n",
    "    doc = nlp(word_list)\n",
    "    for token in doc:\n",
    "        if not token.is_punct and len(token.text.strip()) > 0:\n",
    "            tokenized.append(token.text)\n",
    "    return tokenized"
   ]
  },
  {
   "cell_type": "code",
   "execution_count": 28,
   "metadata": {},
   "outputs": [],
   "source": [
    "#word_tokenize(clean_11[1])"
   ]
  },
  {
   "cell_type": "markdown",
   "metadata": {},
   "source": [
    "You can see how the sentence is broken into its constituent words. We can then do some analysis with this. \n",
    "\n",
    "Note: we still don't know which movie this is, just that it is raw movie text data. Maybe in the process of our text cleaning and counting we will come across something!"
   ]
  },
  {
   "cell_type": "markdown",
   "metadata": {},
   "source": [
    "# Counting words\n",
    "\n",
    "If we want to do some analysis we can start by simply counting the number of times each word occurs within the corpus."
   ]
  },
  {
   "cell_type": "code",
   "execution_count": 29,
   "metadata": {},
   "outputs": [],
   "source": [
    "def wordCounter(wordLst):\n",
    "    wordCounts = {}\n",
    "    for word in wordLst:\n",
    "        #We usually need to normalize the case\n",
    "        wLower = word.lower()\n",
    "        if wLower in wordCounts:\n",
    "            wordCounts[wLower] += 1\n",
    "        else:\n",
    "            wordCounts[wLower] = 1\n",
    "    #convert to DataFrame\n",
    "    countsForFrame = {'word' : [], 'count' : []}\n",
    "    for w, c in wordCounts.items():\n",
    "        countsForFrame['word'].append(w)\n",
    "        countsForFrame['count'].append(c)\n",
    "    return pandas.DataFrame(countsForFrame)"
   ]
  },
  {
   "cell_type": "code",
   "execution_count": 30,
   "metadata": {},
   "outputs": [
    {
     "data": {
      "text/html": [
       "<div>\n",
       "<style scoped>\n",
       "    .dataframe tbody tr th:only-of-type {\n",
       "        vertical-align: middle;\n",
       "    }\n",
       "\n",
       "    .dataframe tbody tr th {\n",
       "        vertical-align: top;\n",
       "    }\n",
       "\n",
       "    .dataframe thead th {\n",
       "        text-align: right;\n",
       "    }\n",
       "</style>\n",
       "<table border=\"1\" class=\"dataframe\">\n",
       "  <thead>\n",
       "    <tr style=\"text-align: right;\">\n",
       "      <th></th>\n",
       "      <th>word</th>\n",
       "      <th>count</th>\n",
       "    </tr>\n",
       "  </thead>\n",
       "  <tbody>\n",
       "    <tr>\n",
       "      <th>0</th>\n",
       "      <td>@@216680</td>\n",
       "      <td>1</td>\n",
       "    </tr>\n",
       "    <tr>\n",
       "      <th>1</th>\n",
       "      <td>hey</td>\n",
       "      <td>16</td>\n",
       "    </tr>\n",
       "    <tr>\n",
       "      <th>2</th>\n",
       "      <td>i</td>\n",
       "      <td>191</td>\n",
       "    </tr>\n",
       "    <tr>\n",
       "      <th>3</th>\n",
       "      <td>'m</td>\n",
       "      <td>24</td>\n",
       "    </tr>\n",
       "    <tr>\n",
       "      <th>4</th>\n",
       "      <td>talking</td>\n",
       "      <td>2</td>\n",
       "    </tr>\n",
       "    <tr>\n",
       "      <th>5</th>\n",
       "      <td>to</td>\n",
       "      <td>112</td>\n",
       "    </tr>\n",
       "    <tr>\n",
       "      <th>6</th>\n",
       "      <td>you</td>\n",
       "      <td>302</td>\n",
       "    </tr>\n",
       "    <tr>\n",
       "      <th>7</th>\n",
       "      <td>give</td>\n",
       "      <td>14</td>\n",
       "    </tr>\n",
       "    <tr>\n",
       "      <th>8</th>\n",
       "      <td>me</td>\n",
       "      <td>82</td>\n",
       "    </tr>\n",
       "    <tr>\n",
       "      <th>9</th>\n",
       "      <td>600</td>\n",
       "      <td>1</td>\n",
       "    </tr>\n",
       "  </tbody>\n",
       "</table>\n",
       "</div>"
      ],
      "text/plain": [
       "       word  count\n",
       "0  @@216680      1\n",
       "1       hey     16\n",
       "2         i    191\n",
       "3        'm     24\n",
       "4   talking      2\n",
       "5        to    112\n",
       "6       you    302\n",
       "7      give     14\n",
       "8        me     82\n",
       "9       600      1"
      ]
     },
     "execution_count": 30,
     "metadata": {},
     "output_type": "execute_result"
    }
   ],
   "source": [
    "countedWords = wordCounter(word_tokenize(clean_11[1]))\n",
    "countedWords[:10]"
   ]
  },
  {
   "cell_type": "markdown",
   "metadata": {},
   "source": [
    "Lets sort and plot our counts to investigate the shape of our word frequency distribution.\n",
    "\n",
    "First we need to sort the words by count."
   ]
  },
  {
   "cell_type": "code",
   "execution_count": 31,
   "metadata": {},
   "outputs": [
    {
     "data": {
      "text/html": [
       "<div>\n",
       "<style scoped>\n",
       "    .dataframe tbody tr th:only-of-type {\n",
       "        vertical-align: middle;\n",
       "    }\n",
       "\n",
       "    .dataframe tbody tr th {\n",
       "        vertical-align: top;\n",
       "    }\n",
       "\n",
       "    .dataframe thead th {\n",
       "        text-align: right;\n",
       "    }\n",
       "</style>\n",
       "<table border=\"1\" class=\"dataframe\">\n",
       "  <thead>\n",
       "    <tr style=\"text-align: right;\">\n",
       "      <th></th>\n",
       "      <th>word</th>\n",
       "      <th>count</th>\n",
       "    </tr>\n",
       "  </thead>\n",
       "  <tbody>\n",
       "    <tr>\n",
       "      <th>6</th>\n",
       "      <td>you</td>\n",
       "      <td>302</td>\n",
       "    </tr>\n",
       "    <tr>\n",
       "      <th>2</th>\n",
       "      <td>i</td>\n",
       "      <td>191</td>\n",
       "    </tr>\n",
       "    <tr>\n",
       "      <th>13</th>\n",
       "      <td>'s</td>\n",
       "      <td>126</td>\n",
       "    </tr>\n",
       "    <tr>\n",
       "      <th>5</th>\n",
       "      <td>to</td>\n",
       "      <td>112</td>\n",
       "    </tr>\n",
       "    <tr>\n",
       "      <th>31</th>\n",
       "      <td>it</td>\n",
       "      <td>109</td>\n",
       "    </tr>\n",
       "    <tr>\n",
       "      <th>...</th>\n",
       "      <td>...</td>\n",
       "      <td>...</td>\n",
       "    </tr>\n",
       "    <tr>\n",
       "      <th>248</th>\n",
       "      <td>postman</td>\n",
       "      <td>10</td>\n",
       "    </tr>\n",
       "    <tr>\n",
       "      <th>187</th>\n",
       "      <td>please</td>\n",
       "      <td>9</td>\n",
       "    </tr>\n",
       "    <tr>\n",
       "      <th>328</th>\n",
       "      <td>but</td>\n",
       "      <td>9</td>\n",
       "    </tr>\n",
       "    <tr>\n",
       "      <th>215</th>\n",
       "      <td>as</td>\n",
       "      <td>9</td>\n",
       "    </tr>\n",
       "    <tr>\n",
       "      <th>135</th>\n",
       "      <td>say</td>\n",
       "      <td>9</td>\n",
       "    </tr>\n",
       "  </tbody>\n",
       "</table>\n",
       "<p>100 rows × 2 columns</p>\n",
       "</div>"
      ],
      "text/plain": [
       "        word  count\n",
       "6        you    302\n",
       "2          i    191\n",
       "13        's    126\n",
       "5         to    112\n",
       "31        it    109\n",
       "..       ...    ...\n",
       "248  postman     10\n",
       "187   please      9\n",
       "328      but      9\n",
       "215       as      9\n",
       "135      say      9\n",
       "\n",
       "[100 rows x 2 columns]"
      ]
     },
     "execution_count": 31,
     "metadata": {},
     "output_type": "execute_result"
    }
   ],
   "source": [
    "#Doing this in place (changing the original DataFrame) as we don't need the unsorted DataFrame\n",
    "countedWords.sort_values('count', ascending=False, inplace=True)\n",
    "countedWords[:100]"
   ]
  },
  {
   "cell_type": "markdown",
   "metadata": {},
   "source": [
    "Punctuation and very common words (articles 'a' and 'the'; prepositions 'of' and 'to') make up the most common values, but this isn't very interesting and can actually get in the way of our analysis. We may remove these 'function words' by removing according to a stopword list, setting some frequency threshold, or using a weighting scheme (like tf.idf) to decrease their influence - we will look at these methods in more detail as we go through this tutorial. "
   ]
  },
  {
   "cell_type": "code",
   "execution_count": 32,
   "metadata": {},
   "outputs": [
    {
     "data": {
      "image/png": "[encoded data removed]",
      "text/plain": [
       "<Figure size 432x288 with 1 Axes>"
      ]
     },
     "metadata": {
      "needs_background": "light"
     },
     "output_type": "display_data"
    }
   ],
   "source": [
    "#Creating a figure and axis lets us do things like change the scaling or add a title\n",
    "fig = plt.figure()\n",
    "ax = fig.add_subplot(111)\n",
    "plt.plot(range(len(countedWords)), countedWords['count'])\n",
    "plt.show()"
   ]
  },
  {
   "cell_type": "markdown",
   "metadata": {},
   "source": [
    "This shows that likelihood of a word occurring is inversely proportional to its rank. This effect is called [Zipf's Law](https://en.wikipedia.org/wiki/Zipf%27s_law), and suggests that the most frequent word will occur approximately twice as often as the second most frequent word, three times as often as the third most frequent word, etc. Zipf's law is most easily observed by plotting the data on a log-log graph, with the axes being log (rank order) and log (frequency) resulting in a linear relationship."
   ]
  },
  {
   "cell_type": "code",
   "execution_count": 33,
   "metadata": {},
   "outputs": [
    {
     "data": {
      "image/png": "[encoded data removed]",
      "text/plain": [
       "<Figure size 432x288 with 1 Axes>"
      ]
     },
     "metadata": {
      "needs_background": "light"
     },
     "output_type": "display_data"
    }
   ],
   "source": [
    "fig = plt.figure()\n",
    "ax = fig.add_subplot(111)\n",
    "plt.plot(range(len(countedWords)), countedWords['count'])\n",
    "ax.set_yscale('log')\n",
    "ax.set_xscale('log')\n",
    "plt.show()"
   ]
  },
  {
   "cell_type": "markdown",
   "metadata": {},
   "source": [
    "(The same relationship occurs in many other rankings, such as population ranks of cities, corporation sizes, income rankings, etc.) \n",
    "\n",
    "The distribution was imagined by Zipf to be driven by a principle of 'least effort' where speakers did not work any harder than necessary to communicate a given idea, but the basis for this relationship is still not well understood and conforms at least as well to a process of [preferential attachment](https://en.wikipedia.org/wiki/Preferential_attachment) whereby people disproportionately attend to popular words.\n"
   ]
  },
  {
   "cell_type": "markdown",
   "metadata": {},
   "source": [
    "# Getting and working with raw text\n",
    "\n",
    "First, we will retrieve a collection of press releases from a *GitHub API* that archived them, based on a number of analyses by Justin Grimmer, a political scientist whose work we will read in two weeks!\n",
    "\n",
    "GitHub API requests are made to `'https://api.github.com/'` and responses are in JSON, similar to Tumblr's API.\n",
    "\n",
    "We will get the information on [github.com/lintool/GrimmerSenatePressReleases](https://github.com/lintool/GrimmerSenatePressReleases) as it contains a nice set documents."
   ]
  },
  {
   "cell_type": "code",
   "execution_count": 34,
   "metadata": {},
   "outputs": [
    {
     "name": "stdout",
     "output_type": "stream",
     "text": [
      "dict_keys(['id', 'node_id', 'name', 'full_name', 'private', 'owner', 'html_url', 'description', 'fork', 'url', 'forks_url', 'keys_url', 'collaborators_url', 'teams_url', 'hooks_url', 'issue_events_url', 'events_url', 'assignees_url', 'branches_url', 'tags_url', 'blobs_url', 'git_tags_url', 'git_refs_url', 'trees_url', 'statuses_url', 'languages_url', 'stargazers_url', 'contributors_url', 'subscribers_url', 'subscription_url', 'commits_url', 'git_commits_url', 'comments_url', 'issue_comment_url', 'contents_url', 'compare_url', 'merges_url', 'archive_url', 'downloads_url', 'issues_url', 'pulls_url', 'milestones_url', 'notifications_url', 'labels_url', 'releases_url', 'deployments_url', 'created_at', 'updated_at', 'pushed_at', 'git_url', 'ssh_url', 'clone_url', 'svn_url', 'homepage', 'size', 'stargazers_count', 'watchers_count', 'language', 'has_issues', 'has_projects', 'has_downloads', 'has_wiki', 'has_pages', 'forks_count', 'mirror_url', 'archived', 'disabled', 'open_issues_count', 'license', 'forks', 'open_issues', 'watchers', 'default_branch', 'temp_clone_token', 'network_count', 'subscribers_count'])\n",
      "Grimmer's Senate Press Releases\n"
     ]
    }
   ],
   "source": [
    "r = requests.get('https://api.github.com/repos/lintool/GrimmerSenatePressReleases')\n",
    "senateReleasesData = json.loads(r.text)\n",
    "print(senateReleasesData.keys())\n",
    "print(senateReleasesData['description'])"
   ]
  },
  {
   "cell_type": "markdown",
   "metadata": {},
   "source": [
    "What we are interested in here is the `'contents_url'`"
   ]
  },
  {
   "cell_type": "code",
   "execution_count": 35,
   "metadata": {},
   "outputs": [
    {
     "name": "stdout",
     "output_type": "stream",
     "text": [
      "https://api.github.com/repos/lintool/GrimmerSenatePressReleases/contents/{+path}\n"
     ]
    }
   ],
   "source": [
    "print(senateReleasesData['contents_url'])"
   ]
  },
  {
   "cell_type": "markdown",
   "metadata": {},
   "source": [
    "We can use this to get any or all of the files from the repo."
   ]
  },
  {
   "cell_type": "code",
   "execution_count": 36,
   "metadata": {},
   "outputs": [
    {
     "data": {
      "text/plain": [
       "{'name': '10Apr2007Whitehouse123.txt',\n",
       " 'path': 'raw/Whitehouse/10Apr2007Whitehouse123.txt',\n",
       " 'sha': 'f524289ee563dca58690c8d36c23dce5dbd9962a',\n",
       " 'size': 2206,\n",
       " 'url': 'https://api.github.com/repos/lintool/GrimmerSenatePressReleases/contents/raw/Whitehouse/10Apr2007Whitehouse123.txt?ref=master',\n",
       " 'html_url': 'https://github.com/lintool/GrimmerSenatePressReleases/blob/master/raw/Whitehouse/10Apr2007Whitehouse123.txt',\n",
       " 'git_url': 'https://api.github.com/repos/lintool/GrimmerSenatePressReleases/git/blobs/f524289ee563dca58690c8d36c23dce5dbd9962a',\n",
       " 'download_url': 'https://raw.githubusercontent.com/lintool/GrimmerSenatePressReleases/master/raw/Whitehouse/10Apr2007Whitehouse123.txt',\n",
       " 'type': 'file',\n",
       " '_links': {'self': 'https://api.github.com/repos/lintool/GrimmerSenatePressReleases/contents/raw/Whitehouse/10Apr2007Whitehouse123.txt?ref=master',\n",
       "  'git': 'https://api.github.com/repos/lintool/GrimmerSenatePressReleases/git/blobs/f524289ee563dca58690c8d36c23dce5dbd9962a',\n",
       "  'html': 'https://github.com/lintool/GrimmerSenatePressReleases/blob/master/raw/Whitehouse/10Apr2007Whitehouse123.txt'}}"
      ]
     },
     "execution_count": 36,
     "metadata": {},
     "output_type": "execute_result"
    }
   ],
   "source": [
    "r = requests.get('https://api.github.com/repos/lintool/GrimmerSenatePressReleases/contents/raw/Whitehouse')\n",
    "whitehouseLinks = json.loads(r.text)\n",
    "whitehouseLinks[0]"
   ]
  },
  {
   "cell_type": "markdown",
   "metadata": {},
   "source": [
    "Now we have a list of information about Whitehouse press releases. Let's look at one of them."
   ]
  },
  {
   "cell_type": "code",
   "execution_count": 37,
   "metadata": {},
   "outputs": [
    {
     "name": "stdout",
     "output_type": "stream",
     "text": [
      "SEN. WHITEHOUSE SHARES WESTERLY GIRL'S STORY IN PUSH FOR STEM CELL RESEARCH\n",
      "  Sharing the story of Lila Barber, a 12 year old girl from Westerly, Sen. Sheldon Whitehouse (D-R.I.) on Tuesday, April 10, 2007, illustrated the hope stem cell research can offer in a speech on the Senate floor in favor of legislation to expand federal funding for stem cell research.  \n",
      "   Whitehouse met Lila two weeks ago. She was diagnosed two years ago with osteosarcoma, a cancerous bone condition, and last year underwent cadaver bone transplant surgery. The procedure saved her leg and is helping her remain cancer-free, but the transplanted tissue will not grow with her and likely will break down over time. Stem cell research, Whitehouse explained, could vastly improve the care of patients like Lila by allowing surgeons to enhance transplants with a patient's own stem cells, which could replace the lost bone and cartilage, or grow entirely new replacement bones and joints. \n",
      "   \"Stem cell research gives hope\n"
     ]
    },
    {
     "data": {
      "text/plain": [
       "2206"
      ]
     },
     "execution_count": 37,
     "metadata": {},
     "output_type": "execute_result"
    }
   ],
   "source": [
    "r = requests.get(whitehouseLinks[0]['download_url'])\n",
    "whitehouseRelease = r.text\n",
    "print(whitehouseRelease[:1000])\n",
    "len(whitehouseRelease)"
   ]
  },
  {
   "cell_type": "markdown",
   "metadata": {},
   "source": [
    "Now we have a string of correctly encoded text. For analysis of its words, next we need to tokenize it, or split it into a sequence of tokens or word instances."
   ]
  },
  {
   "cell_type": "code",
   "execution_count": 38,
   "metadata": {},
   "outputs": [
    {
     "data": {
      "text/plain": [
       "['STEM',\n",
       " 'CELL',\n",
       " 'RESEARCH',\n",
       " 'Sharing',\n",
       " 'the',\n",
       " 'story',\n",
       " 'of',\n",
       " 'Lila',\n",
       " 'Barber',\n",
       " 'a',\n",
       " '12',\n",
       " 'year',\n",
       " 'old',\n",
       " 'girl',\n",
       " 'from',\n",
       " 'Westerly',\n",
       " 'Sen.',\n",
       " 'Sheldon',\n",
       " 'Whitehouse',\n",
       " 'D']"
      ]
     },
     "execution_count": 38,
     "metadata": {},
     "output_type": "execute_result"
    }
   ],
   "source": [
    "whTokens = word_tokenize(whitehouseRelease)\n",
    "whTokens[10:30]"
   ]
  },
  {
   "cell_type": "markdown",
   "metadata": {},
   "source": [
    "Previous iterations of the course used `nltk`s tokenizer, but as we saw before, we used spaCy's model (https://spacy.io/api/tokenizer). We intend to avoid using NLTK when we can - for production level code, it is a lot faster and cleaner to use spaCy.\n",
    "\n",
    "That being said, `nltk` does have some useful methods for quick analysis of small corpora. We will explore a few here, and encourage you to figure out for yourself which other ones might be useful.\n",
    "\n",
    "To use the list of tokens in `nltk`, and take advantage of functions like `concordance`, shown above, we can convert it into a `Text`."
   ]
  },
  {
   "cell_type": "code",
   "execution_count": 39,
   "metadata": {},
   "outputs": [],
   "source": [
    "import nltk"
   ]
  },
  {
   "cell_type": "code",
   "execution_count": 40,
   "metadata": {},
   "outputs": [
    {
     "name": "stdout",
     "output_type": "stream",
     "text": [
      "Displaying 5 of 5 matches:\n",
      "ld girl from Westerly Sen. Sheldon Whitehouse D R.I. on Tuesday April 10 2007 il\n",
      "ral funding for stem cell research Whitehouse met Lila two weeks ago She was dia\n",
      " down over time Stem cell research Whitehouse explained could vastly improve the\n",
      "s research might help or even cure Whitehouse said Whitehouse also praised the e\n",
      " help or even cure Whitehouse said Whitehouse also praised the efforts of Rhode \n"
     ]
    }
   ],
   "source": [
    "whText = nltk.Text(whTokens)\n",
    "\n",
    "whitehouseIndex = nltk.text.ConcordanceIndex(whText) \n",
    "whitehouseIndex.print_concordance('Whitehouse')"
   ]
  },
  {
   "cell_type": "markdown",
   "metadata": {},
   "source": [
    "*Note* that the `Text` class is for doing rapid, exploratory analysis. It provides an easy interface to many of the operations we want to do, but it does not allow us much control over the particular operations it glosses. When you are doing a more complete analysis, you should be using the module specifically designed for that task instead of the shortcut method `Text` provides, e.g. use  [`collocations` Module](http://www.nltk.org/api/nltk.html#module-nltk.collocations) instead of `.collocations()`.\n",
    "\n",
    "Now that we have gotten this loaded, let's glance at few features we will delve into more deeply later.\n",
    "\n",
    "For example, we can find words that statistically tend to occur together and typically have a composite, idiomatic meaning irreducible to the semantics of its component words. We will do this later with more control over exactly how these are identified."
   ]
  },
  {
   "cell_type": "markdown",
   "metadata": {},
   "source": [
    "Or we can pick a word (or words) and find what words tend to occur around it."
   ]
  },
  {
   "cell_type": "code",
   "execution_count": 41,
   "metadata": {},
   "outputs": [
    {
     "name": "stdout",
     "output_type": "stream",
     "text": [
      "for_cell on_cells the_cell hope_cell time_cell own_cells joints_cell\n",
      "of_cell embryonic_cells\n"
     ]
    }
   ],
   "source": [
    "whText.common_contexts(['stem'])"
   ]
  },
  {
   "cell_type": "markdown",
   "metadata": {},
   "source": [
    "We can also just count the number of times the word occurs."
   ]
  },
  {
   "cell_type": "code",
   "execution_count": 42,
   "metadata": {},
   "outputs": [
    {
     "data": {
      "text/plain": [
       "5"
      ]
     },
     "execution_count": 42,
     "metadata": {},
     "output_type": "execute_result"
    }
   ],
   "source": [
    "whText.count('cell')"
   ]
  },
  {
   "cell_type": "markdown",
   "metadata": {},
   "source": [
    "\n",
    "We can also plot each time a set of words occurs."
   ]
  },
  {
   "cell_type": "code",
   "execution_count": 43,
   "metadata": {},
   "outputs": [
    {
     "data": {
      "image/png": "[encoded data removed]",
      "text/plain": [
       "<Figure size 432x288 with 1 Axes>"
      ]
     },
     "metadata": {
      "needs_background": "light"
     },
     "output_type": "display_data"
    }
   ],
   "source": [
    "sns.reset_orig() #Seaborn messes with this plot, disabling it\n",
    "whText.dispersion_plot(['Sen.','stem', 'cell', 'federal' ,'Lila', 'Barber', 'Whitehouse'])\n",
    "sns.set() #Re-enabling seaborn"
   ]
  },
  {
   "cell_type": "markdown",
   "metadata": {},
   "source": [
    "If we want to do an analysis of all the Whitehouse press releases we will first need to obtain them. By looking at the API we can see the the URL we want is [https://api.github.com/repos/lintool/GrimmerSenatePressReleases/contents/raw/Whitehouse](https://api.github.com/repos/lintool/GrimmerSenatePressReleases/contents/raw/Whitehouse), so we can create a function to scrape the individual files.\n",
    "\n",
    "If you want to know more about downloading from APIs, refer back to the 1st notebook."
   ]
  },
  {
   "cell_type": "code",
   "execution_count": 44,
   "metadata": {},
   "outputs": [
    {
     "data": {
      "text/html": [
       "<div>\n",
       "<style scoped>\n",
       "    .dataframe tbody tr th:only-of-type {\n",
       "        vertical-align: middle;\n",
       "    }\n",
       "\n",
       "    .dataframe tbody tr th {\n",
       "        vertical-align: top;\n",
       "    }\n",
       "\n",
       "    .dataframe thead th {\n",
       "        text-align: right;\n",
       "    }\n",
       "</style>\n",
       "<table border=\"1\" class=\"dataframe\">\n",
       "  <thead>\n",
       "    <tr style=\"text-align: right;\">\n",
       "      <th></th>\n",
       "      <th>name</th>\n",
       "      <th>text</th>\n",
       "      <th>path</th>\n",
       "      <th>html_url</th>\n",
       "      <th>download_url</th>\n",
       "    </tr>\n",
       "  </thead>\n",
       "  <tbody>\n",
       "    <tr>\n",
       "      <th>0</th>\n",
       "      <td>10Apr2007Whitehouse123.txt</td>\n",
       "      <td>SEN. WHITEHOUSE SHARES WESTERLY GIRL'S STORY I...</td>\n",
       "      <td>raw/Whitehouse/10Apr2007Whitehouse123.txt</td>\n",
       "      <td>https://github.com/lintool/GrimmerSenatePressR...</td>\n",
       "      <td>https://raw.githubusercontent.com/lintool/Grim...</td>\n",
       "    </tr>\n",
       "    <tr>\n",
       "      <th>1</th>\n",
       "      <td>10Apr2008Whitehouse2.txt</td>\n",
       "      <td>SEN. WHITEHOUSE SAYS PRESIDENT BUSH MUST BEGIN...</td>\n",
       "      <td>raw/Whitehouse/10Apr2008Whitehouse2.txt</td>\n",
       "      <td>https://github.com/lintool/GrimmerSenatePressR...</td>\n",
       "      <td>https://raw.githubusercontent.com/lintool/Grim...</td>\n",
       "    </tr>\n",
       "    <tr>\n",
       "      <th>2</th>\n",
       "      <td>10Apr2008Whitehouse3.txt</td>\n",
       "      <td>EPA MUST REVIEW LEGAL PROCESS TO ROOT OUT POLI...</td>\n",
       "      <td>raw/Whitehouse/10Apr2008Whitehouse3.txt</td>\n",
       "      <td>https://github.com/lintool/GrimmerSenatePressR...</td>\n",
       "      <td>https://raw.githubusercontent.com/lintool/Grim...</td>\n",
       "    </tr>\n",
       "    <tr>\n",
       "      <th>3</th>\n",
       "      <td>10Aug2007Whitehouse78.txt</td>\n",
       "      <td>R.I. SENATORS PRAISE SEN. DENIAL OF LNG FACILI...</td>\n",
       "      <td>raw/Whitehouse/10Aug2007Whitehouse78.txt</td>\n",
       "      <td>https://github.com/lintool/GrimmerSenatePressR...</td>\n",
       "      <td>https://raw.githubusercontent.com/lintool/Grim...</td>\n",
       "    </tr>\n",
       "    <tr>\n",
       "      <th>4</th>\n",
       "      <td>10Jan2008Whitehouse35.txt</td>\n",
       "      <td>SEN. WHITEHOUSE COMMENTS ON ONE-YEAR ANNIVERSA...</td>\n",
       "      <td>raw/Whitehouse/10Jan2008Whitehouse35.txt</td>\n",
       "      <td>https://github.com/lintool/GrimmerSenatePressR...</td>\n",
       "      <td>https://raw.githubusercontent.com/lintool/Grim...</td>\n",
       "    </tr>\n",
       "  </tbody>\n",
       "</table>\n",
       "</div>"
      ],
      "text/plain": [
       "                         name  \\\n",
       "0  10Apr2007Whitehouse123.txt   \n",
       "1    10Apr2008Whitehouse2.txt   \n",
       "2    10Apr2008Whitehouse3.txt   \n",
       "3   10Aug2007Whitehouse78.txt   \n",
       "4   10Jan2008Whitehouse35.txt   \n",
       "\n",
       "                                                text  \\\n",
       "0  SEN. WHITEHOUSE SHARES WESTERLY GIRL'S STORY I...   \n",
       "1  SEN. WHITEHOUSE SAYS PRESIDENT BUSH MUST BEGIN...   \n",
       "2  EPA MUST REVIEW LEGAL PROCESS TO ROOT OUT POLI...   \n",
       "3  R.I. SENATORS PRAISE SEN. DENIAL OF LNG FACILI...   \n",
       "4  SEN. WHITEHOUSE COMMENTS ON ONE-YEAR ANNIVERSA...   \n",
       "\n",
       "                                        path  \\\n",
       "0  raw/Whitehouse/10Apr2007Whitehouse123.txt   \n",
       "1    raw/Whitehouse/10Apr2008Whitehouse2.txt   \n",
       "2    raw/Whitehouse/10Apr2008Whitehouse3.txt   \n",
       "3   raw/Whitehouse/10Aug2007Whitehouse78.txt   \n",
       "4   raw/Whitehouse/10Jan2008Whitehouse35.txt   \n",
       "\n",
       "                                            html_url  \\\n",
       "0  https://github.com/lintool/GrimmerSenatePressR...   \n",
       "1  https://github.com/lintool/GrimmerSenatePressR...   \n",
       "2  https://github.com/lintool/GrimmerSenatePressR...   \n",
       "3  https://github.com/lintool/GrimmerSenatePressR...   \n",
       "4  https://github.com/lintool/GrimmerSenatePressR...   \n",
       "\n",
       "                                        download_url  \n",
       "0  https://raw.githubusercontent.com/lintool/Grim...  \n",
       "1  https://raw.githubusercontent.com/lintool/Grim...  \n",
       "2  https://raw.githubusercontent.com/lintool/Grim...  \n",
       "3  https://raw.githubusercontent.com/lintool/Grim...  \n",
       "4  https://raw.githubusercontent.com/lintool/Grim...  "
      ]
     },
     "execution_count": 44,
     "metadata": {},
     "output_type": "execute_result"
    }
   ],
   "source": [
    "def getGithubFiles(target, maxFiles = 100):\n",
    "    #We are setting a max so our examples don't take too long to run\n",
    "    #For converting to a DataFrame\n",
    "    releasesDict = {\n",
    "        'name' : [], #The name of the file\n",
    "        'text' : [], #The text of the file, watch out for binary files\n",
    "        'path' : [], #The path in the git repo to the file\n",
    "        'html_url' : [], #The url to see the file on Github\n",
    "        'download_url' : [], #The url to download the file\n",
    "    }\n",
    "\n",
    "    #Get the directory information from Github\n",
    "    r = requests.get(target)\n",
    "    filesLst = json.loads(r.text)\n",
    "\n",
    "    for fileDict in filesLst[:maxFiles]:\n",
    "        #These are provided by the directory\n",
    "        releasesDict['name'].append(fileDict['name'])\n",
    "        releasesDict['path'].append(fileDict['path'])\n",
    "        releasesDict['html_url'].append(fileDict['html_url'])\n",
    "        releasesDict['download_url'].append(fileDict['download_url'])\n",
    "\n",
    "        #We need to download the text though\n",
    "        text = requests.get(fileDict['download_url']).text\n",
    "        releasesDict['text'].append(text)\n",
    "\n",
    "    return pandas.DataFrame(releasesDict)\n",
    "\n",
    "whReleases = getGithubFiles('https://api.github.com/repos/lintool/GrimmerSenatePressReleases/contents/raw/Whitehouse', maxFiles = 10)\n",
    "whReleases[:5]"
   ]
  },
  {
   "cell_type": "markdown",
   "metadata": {},
   "source": [
    "If you are having trouble downloading the data uncomment this next cell"
   ]
  },
  {
   "cell_type": "code",
   "execution_count": 45,
   "metadata": {},
   "outputs": [
    {
     "data": {
      "text/plain": [
       "pandas.core.frame.DataFrame"
      ]
     },
     "execution_count": 45,
     "metadata": {},
     "output_type": "execute_result"
    }
   ],
   "source": [
    "#whReleases = pandas.read_csv('../data/whReleases.csv')\n",
    "type(whReleases)"
   ]
  },
  {
   "cell_type": "markdown",
   "metadata": {},
   "source": [
    "Now we have all the texts in a DataFrame we can look at a few things.\n",
    "\n",
    "First let's tokenize the texts with the same tokenizer as we used before. We will just save the tokens as a list for now; no need to convert to `Text`s."
   ]
  },
  {
   "cell_type": "code",
   "execution_count": 46,
   "metadata": {},
   "outputs": [],
   "source": [
    "whReleases['tokenized_text'] = whReleases['text'].apply(lambda x: word_tokenize(x))"
   ]
  },
  {
   "cell_type": "markdown",
   "metadata": {},
   "source": [
    "Now lets see how long each of the press releases is:"
   ]
  },
  {
   "cell_type": "code",
   "execution_count": 47,
   "metadata": {},
   "outputs": [
    {
     "data": {
      "text/plain": [
       "0    350\n",
       "1    311\n",
       "2    497\n",
       "3    189\n",
       "4    236\n",
       "5    334\n",
       "6    241\n",
       "7    469\n",
       "8    443\n",
       "9    425\n",
       "Name: word_counts, dtype: int64"
      ]
     },
     "execution_count": 47,
     "metadata": {},
     "output_type": "execute_result"
    }
   ],
   "source": [
    "whReleases['word_counts'] = whReleases['tokenized_text'].apply(lambda x: len(x))\n",
    "whReleases['word_counts']"
   ]
  },
  {
   "cell_type": "markdown",
   "metadata": {},
   "source": [
    "## <span style=\"color:red\">*Exercise 1*</span>\n",
    "\n",
    "<span style=\"color:red\">Construct cells immediately below this that input and interrogate a corpus relating to your anticipated final project. This could include one of the Davies corpora or some other you have constructed. Turn your text into an nltk `Text` object, and explore all of the features examined above, and others that relate to better understanding your corpus in relation to your research question. </span>"
   ]
  },
  {
   "cell_type": "markdown",
   "metadata": {},
   "source": [
    "# Filtering and normalizing text\n",
    "\n",
    "As we want to start comparing the different releases we may choose to do a bit of filtering and normalizing that will allow us to focus on what we most care about. We can first make all of the words lower case, then drop the non-word tokens. Next, we can remove some 'stop words', stem the remaining words to remove suffixes, prefixes and (in some languages) infixes, or lemmatize tokens by intelligently grouping inflected or variant forms of the same word (e.g., with a stemmer and a dictionary). \n",
    "\n",
    "To begin this process, we will first define a function to work over the tokenized lists, then another to add normalized tokens to a new column."
   ]
  },
  {
   "cell_type": "markdown",
   "metadata": {},
   "source": [
    "We will be using spaCy's built in stop words identifying capacity. When we run text through spaCy's language pipeline, it automatically tags it as a stop word. "
   ]
  },
  {
   "cell_type": "markdown",
   "metadata": {},
   "source": [
    "We can remove these stopwords from the analysis by fiat, but we could also take a more principled approach by looking at the frequency distribution of words and selecting a specific cut-off associated with the preservation of 'meaningful words' identified upon inspection. Alternatively, we could automatically set a cut-off by rule, such as removal of all words more frequent then the most frequent verb, or the most frequent noun (not pronoun), or some term of central interest. "
   ]
  },
  {
   "cell_type": "code",
   "execution_count": 48,
   "metadata": {},
   "outputs": [
    {
     "data": {
      "text/plain": [
       "[('the', 179),\n",
       " ('of', 112),\n",
       " ('to', 112),\n",
       " ('and', 108),\n",
       " ('in', 64),\n",
       " ('a', 61),\n",
       " (\"'s\", 50),\n",
       " ('that', 41),\n",
       " ('our', 39),\n",
       " ('for', 35),\n",
       " ('on', 33),\n",
       " ('is', 33),\n",
       " ('Whitehouse', 31),\n",
       " ('Iraq', 28),\n",
       " ('Bush', 27),\n",
       " ('President', 25),\n",
       " ('troops', 21),\n",
       " ('by', 19),\n",
       " ('American', 19),\n",
       " ('with', 18)]"
      ]
     },
     "execution_count": 48,
     "metadata": {},
     "output_type": "execute_result"
    }
   ],
   "source": [
    "countsDict = {}\n",
    "for word in whReleases['tokenized_text'].sum():\n",
    "    if word in countsDict:\n",
    "        countsDict[word] += 1\n",
    "    else:\n",
    "        countsDict[word] = 1\n",
    "word_counts = sorted(countsDict.items(), key = lambda x : x[1], reverse = True)\n",
    "word_counts[:20]"
   ]
  },
  {
   "cell_type": "markdown",
   "metadata": {},
   "source": [
    "We can look at this and pick the cutoff, often at the first noun. So we will cut all words before `'Whitehouse'`."
   ]
  },
  {
   "cell_type": "code",
   "execution_count": 49,
   "metadata": {},
   "outputs": [
    {
     "data": {
      "text/plain": [
       "['the', 'of', 'to', 'and', 'in', 'a', \"'s\", 'that', 'our', 'for', 'on', 'is']"
      ]
     },
     "execution_count": 49,
     "metadata": {},
     "output_type": "execute_result"
    }
   ],
   "source": [
    "#The stop list is then all words that occur before the first noun\n",
    "stop_words_freq = []\n",
    "for word, count in word_counts:\n",
    "    if word == 'Whitehouse':\n",
    "        break\n",
    "    else:\n",
    "        stop_words_freq.append(word)\n",
    "stop_words_freq"
   ]
  },
  {
   "cell_type": "markdown",
   "metadata": {},
   "source": [
    "If we did have any extra words to add as stop words apart from those normally considered as stop words, we would add it to our stop words by passing it to the normalize tokens method. "
   ]
  },
  {
   "cell_type": "markdown",
   "metadata": {},
   "source": [
    "Now we can create our function to normalize the tokens"
   ]
  },
  {
   "cell_type": "code",
   "execution_count": 50,
   "metadata": {},
   "outputs": [],
   "source": [
    "def normalizeTokens(word_list, extra_stop=[]):\n",
    "    #We can use a generator here as we just need to iterate over it\n",
    "    normalized = []\n",
    "    if type(word_list) == list and len(word_list) == 1:\n",
    "        word_list = word_list[0]\n",
    "\n",
    "    if type(word_list) == list:\n",
    "        word_list = ' '.join([str(elem) for elem in word_list]) \n",
    "\n",
    "    doc = nlp(word_list.lower())\n",
    "    \n",
    "    # add the property of stop word to words considered as stop words\n",
    "    if len(extra_stop) > 0:\n",
    "        for stopword in extra_stop:\n",
    "            lexeme = nlp.vocab[stopword]\n",
    "            lexeme.is_stop = True\n",
    "\n",
    "    for w in doc:\n",
    "        # if it's not a stop word or punctuation mark, add it to our article\n",
    "        if w.text != '\\n' and not w.is_stop and not w.is_punct and not w.like_num and len(w.text.strip()) > 0:\n",
    "            # we add the lematized version of the word\n",
    "            normalized.append(str(w.lemma_))\n",
    "\n",
    "    return normalized"
   ]
  },
  {
   "cell_type": "code",
   "execution_count": 51,
   "metadata": {},
   "outputs": [],
   "source": [
    "#now we can remove the frequent stop words\n",
    "#non stop words are 'normalized tokens'\n",
    "whReleases['normalized_tokens'] = whReleases['tokenized_text'].apply(lambda x: normalizeTokens(x))\n",
    "\n",
    "whReleases['normalized_tokens_count'] = whReleases['normalized_tokens'].apply(lambda x: len(x))\n",
    "\n",
    "#whReleases"
   ]
  },
  {
   "cell_type": "markdown",
   "metadata": {},
   "source": [
    "You can see that in the final step of normalizing, we add the lemmatized form of the word. spaCy's built in lemmatizer does this (https://spacy.io/api/lemmatizer). Lemmatization can be thought of as finding the root or the base of the word after removing inflections and other variations of words. Another possible way of finding the roots of words is using NLTK's porting or stemming functionalities, but we will not be getting into them.\n",
    "\n",
    "Now that it is cleaned we start analyzing the dataset. We can start by finding frequency distributions for the dataset. Lets start looking at all the press releases together. The [`ConditionalFreqDist`](http://www.nltk.org/api/nltk.html#nltk.probability.ConditionalProbDist) class reads in an iterable of tuples, the first element is the condition and the second the focal word. For starters, we will use word lengths as the conditions, but tags or clusters will provide more useful results."
   ]
  },
  {
   "cell_type": "code",
   "execution_count": 52,
   "metadata": {},
   "outputs": [
    {
     "name": "stdout",
     "output_type": "stream",
     "text": [
      "1964\n"
     ]
    }
   ],
   "source": [
    "#.sum() adds together the lists from each row into a single list\n",
    "\n",
    "#look at conditional frequency - frequency of one word on the appearance of another in the data\n",
    "whcfdist = nltk.ConditionalFreqDist(((len(w), w) for w in whReleases['normalized_tokens'].sum()))\n",
    "\n",
    "#print the number of words\n",
    "print(whcfdist.N())"
   ]
  },
  {
   "cell_type": "markdown",
   "metadata": {},
   "source": [
    "From this we can lookup the distributions of different word lengths"
   ]
  },
  {
   "cell_type": "code",
   "execution_count": 53,
   "metadata": {},
   "outputs": [
    {
     "data": {
      "image/png": "[encoded data removed]",
      "text/plain": [
       "<Figure size 432x288 with 1 Axes>"
      ]
     },
     "metadata": {},
     "output_type": "display_data"
    },
    {
     "data": {
      "text/plain": [
       "<AxesSubplot:xlabel='Samples', ylabel='Counts'>"
      ]
     },
     "execution_count": 53,
     "metadata": {},
     "output_type": "execute_result"
    }
   ],
   "source": [
    "#plot distributions of word length\n",
    "whcfdist[3].plot()"
   ]
  },
  {
   "cell_type": "markdown",
   "metadata": {},
   "source": [
    "We can also create a Conditional Probability Distribution or [`ConditionalProbDist`](http://www.nltk.org/api/nltk.html#nltk.probability.ConditionalProbDist) from the `ConditionalFreqDist`. To do this, however, we need a model for the probability distribution. A simple model is [`ELEProbDist`](http://www.nltk.org/api/nltk.html#nltk.probability.ELEProbDist) which gives the expected likelihood estimate for the probability distribution of the experiment used to generate the observed frequency distribution. "
   ]
  },
  {
   "cell_type": "code",
   "execution_count": 54,
   "metadata": {},
   "outputs": [
    {
     "name": "stdout",
     "output_type": "stream",
     "text": [
      "american\n",
      "0.07768924302788845\n"
     ]
    }
   ],
   "source": [
    "#Conditional Probability on the expected likelihood estimate\n",
    "whcpdist = nltk.ConditionalProbDist(whcfdist, nltk.ELEProbDist)\n",
    "\n",
    "#print the most common N letter word\n",
    "N=8\n",
    "print(whcpdist[N].max())\n",
    "\n",
    "#And its probability\n",
    "print(whcpdist[N].prob(whcpdist[N].max()))\n",
    "\n",
    "#will print the most common N letter word and it's probability"
   ]
  },
  {
   "cell_type": "markdown",
   "metadata": {},
   "source": [
    "Length is one feature of a word, but there are many more important features we care about. Another critical feature is a word's role in the sentence, or its part of speech (POS). \n",
    "\n",
    "The method below works similarly to ```nltk.pos_text```, and can work with the conditional frequency distributions it provides."
   ]
  },
  {
   "cell_type": "code",
   "execution_count": 55,
   "metadata": {},
   "outputs": [],
   "source": [
    "def spacy_pos(word_list):\n",
    "    tags = []\n",
    "    doc = nlp(word_list.lower())\n",
    "    for w in doc:\n",
    "        tags.append((w.text, w.tag_))\n",
    "    return tags"
   ]
  },
  {
   "cell_type": "code",
   "execution_count": 56,
   "metadata": {},
   "outputs": [],
   "source": [
    "#classifier in spacy - classifies each word as its part of speech\n",
    "whReleases['normalized_tokens_POS'] = [spacy_pos(t) for t in whReleases['text']]"
   ]
  },
  {
   "cell_type": "markdown",
   "metadata": {},
   "source": [
    "This gives us a new column with the part of speech as a short initialism and the word in a tuple, exactly how the `nltk.ConditionalFreqDist()` function wants them. We can now construct another conditional frequency distribution."
   ]
  },
  {
   "cell_type": "code",
   "execution_count": 57,
   "metadata": {},
   "outputs": [
    {
     "data": {
      "text/plain": [
       "[('sen', FreqDist({'NNP': 9})),\n",
       " ('.', FreqDist({'.': 125, 'NNP': 41})),\n",
       " ('whitehouse', FreqDist({'NN': 19, 'NNP': 12, 'VB': 8, 'VBP': 1})),\n",
       " ('shares', FreqDist({'NNS': 1})),\n",
       " ('westerly', FreqDist({'NNP': 2})),\n",
       " ('girl', FreqDist({'NN': 2})),\n",
       " (\"'s\", FreqDist({'POS': 47, 'VBZ': 5})),\n",
       " ('story', FreqDist({'NN': 2})),\n",
       " ('in', FreqDist({'IN': 72})),\n",
       " ('push', FreqDist({'NN': 1}))]"
      ]
     },
     "execution_count": 57,
     "metadata": {},
     "output_type": "execute_result"
    }
   ],
   "source": [
    "whcfdist_WordtoPOS = nltk.ConditionalFreqDist(whReleases['normalized_tokens_POS'].sum())\n",
    "list(whcfdist_WordtoPOS.items())[:10]"
   ]
  },
  {
   "cell_type": "markdown",
   "metadata": {},
   "source": [
    "This gives the frequency of each word as each part of speech...which can be uninformative and boring. What we want is the converse; the frequency of each part of speech for each word."
   ]
  },
  {
   "cell_type": "code",
   "execution_count": 58,
   "metadata": {},
   "outputs": [],
   "source": [
    "#gives frequency of word AS it's part of speech (see below for each part of speech)\n",
    "whcfdist_POStoWord = nltk.ConditionalFreqDist((p, w) for w, p in whReleases['normalized_tokens_POS'].sum())"
   ]
  },
  {
   "cell_type": "markdown",
   "metadata": {},
   "source": [
    "We can now identify and collect all of the superlative adjectives"
   ]
  },
  {
   "cell_type": "code",
   "execution_count": 59,
   "metadata": {},
   "outputs": [
    {
     "data": {
      "text/plain": [
       "FreqDist({'american': 17, 'new': 10, 'portuguese': 9, 'political': 8, 'federal': 6, 'clear': 5, 'potential': 5, 'fiscal': 5, 'last': 4, 'several': 4, ...})"
      ]
     },
     "execution_count": 59,
     "metadata": {},
     "output_type": "execute_result"
    }
   ],
   "source": [
    "whcfdist_POStoWord['JJ']"
   ]
  },
  {
   "cell_type": "markdown",
   "metadata": {},
   "source": [
    "Or look at the most common nouns"
   ]
  },
  {
   "cell_type": "code",
   "execution_count": 60,
   "metadata": {},
   "outputs": [
    {
     "data": {
      "text/plain": [
       "[('whitehouse', 19),\n",
       " ('today', 15),\n",
       " ('stem', 12),\n",
       " ('year', 12),\n",
       " ('administration', 11)]"
      ]
     },
     "execution_count": 60,
     "metadata": {},
     "output_type": "execute_result"
    }
   ],
   "source": [
    "whcfdist_POStoWord['NN'].most_common(5)"
   ]
  },
  {
   "cell_type": "markdown",
   "metadata": {},
   "source": [
    "Or plot the base form verbs against their number of occurrences"
   ]
  },
  {
   "cell_type": "code",
   "execution_count": 61,
   "metadata": {},
   "outputs": [
    {
     "data": {
      "image/png": "[encoded data removed]",
      "text/plain": [
       "<Figure size 432x288 with 1 Axes>"
      ]
     },
     "metadata": {},
     "output_type": "display_data"
    },
    {
     "data": {
      "text/plain": [
       "<AxesSubplot:xlabel='Samples', ylabel='Counts'>"
      ]
     },
     "execution_count": 61,
     "metadata": {},
     "output_type": "execute_result"
    }
   ],
   "source": [
    "whcfdist_POStoWord['VB'].plot()"
   ]
  },
  {
   "cell_type": "markdown",
   "metadata": {},
   "source": [
    "We can then do a similar analysis of the word probabilities"
   ]
  },
  {
   "cell_type": "code",
   "execution_count": 62,
   "metadata": {},
   "outputs": [
    {
     "name": "stdout",
     "output_type": "stream",
     "text": [
      "whitehouse\n",
      "0.025390625\n"
     ]
    }
   ],
   "source": [
    "whcpdist_POStoWord = nltk.ConditionalProbDist(whcfdist_POStoWord, nltk.ELEProbDist)\n",
    "\n",
    "#print the most common noun\n",
    "print(whcpdist_POStoWord['NN'].max())\n",
    "\n",
    "#And its probability\n",
    "print(whcpdist_POStoWord['NN'].prob(whcpdist_POStoWord['NN'].max()))"
   ]
  },
  {
   "cell_type": "markdown",
   "metadata": {},
   "source": [
    "We can even create a...wait for it...*WORD CLOUD* or Wordl to gaze at and draw mystical, approximate inferences about important nouns and verbs in our corpus:"
   ]
  },
  {
   "cell_type": "code",
   "execution_count": 63,
   "metadata": {},
   "outputs": [
    {
     "data": {
      "image/png": "[encoded data removed]",
      "text/plain": [
       "<Figure size 432x288 with 1 Axes>"
      ]
     },
     "metadata": {},
     "output_type": "display_data"
    }
   ],
   "source": [
    "wc = wordcloud.WordCloud(background_color=\"white\", max_words=500, width= 1000, height = 1000, mode ='RGBA', scale=.5).generate(' '.join(whReleases['normalized_tokens'].sum()))\n",
    "plt.imshow(wc)\n",
    "plt.axis(\"off\")\n",
    "plt.savefig(\"whitehouse_word_cloud.pdf\", format = 'pdf')"
   ]
  },
  {
   "cell_type": "markdown",
   "metadata": {},
   "source": [
    "## <span style=\"color:red\">*Exercise 2*</span>\n",
    "\n",
    "<span style=\"color:red\">Construct cells immediately below this that filter, stem and lemmatize the tokens in your corpus, and then creates plots (with titles and labels) that map the word frequency distribution, word probability distribution, and at least two conditional probability distributions that help us better understand the social and cultural game underlying the production of your corpus. Create a wordl of words (or normalized words) and add a few vague comments about what mysteries are revealed through it.</span>"
   ]
  },
  {
   "cell_type": "markdown",
   "metadata": {},
   "source": [
    "## Davies Corpora\n",
    "\n",
    "Now that we have our basic cleaning down, we can arrange our Davies Corpora. Let us try this with the movies corpora we have already loaded.\n",
    "\n",
    "We'll use a smaller corpus of a 1000 movies for this demonstration."
   ]
  },
  {
   "cell_type": "code",
   "execution_count": 64,
   "metadata": {},
   "outputs": [],
   "source": [
    "zfile = zipfile.ZipFile(corpus_name + \"/sources_movies.zip\")\n",
    "source = []"
   ]
  },
  {
   "cell_type": "code",
   "execution_count": 65,
   "metadata": {},
   "outputs": [],
   "source": [
    "for file in zfile.namelist():\n",
    "    with zfile.open(file) as f:\n",
    "        for line in f:\n",
    "            source.append(line)"
   ]
  },
  {
   "cell_type": "code",
   "execution_count": 66,
   "metadata": {},
   "outputs": [
    {
     "data": {
      "text/plain": [
       "[b'textID\\tfileID\\t#words\\tgenre\\tyear\\tlanguage(s)\\tcountry\\timdb\\ttitle\\r\\n',\n",
       " b'-----\\t-----\\t-----\\t-----\\t-----\\t-----\\t-----\\t-----\\t-----\\r\\n',\n",
       " b'\\r\\n',\n",
       " b'290635\\t3547424\\t4722\\tShort, Musical\\t1930\\tUK\\tEnglish\\t0290635\\tGoodbye to All That\\r\\n',\n",
       " b'21165\\t6332374\\t10220\\tCrime, Mystery, Thriller\\t1930\\tUK\\tEnglish\\t0021165\\tMurder!\\r\\n',\n",
       " b'21191\\t6013789\\t5281\\tDrama, Romance\\t1930\\tUSA\\tEnglish\\t0021191\\tA Notorious Affair\\r\\n',\n",
       " b'20620\\t3660608\\t6724\\tBiography, Drama, History\\t1930\\tUSA\\tEnglish\\t0020620\\tAbraham Lincoln\\r\\n',\n",
       " b'20629\\t60053\\t9552\\tDrama, War\\t1930\\tUSA\\tEnglish, French, German, Latin\\t0020629\\tAll Quiet on the Western Front\\r\\n',\n",
       " b'20640\\t6850720\\t13862\\tComedy, Musical\\t1930\\tUSA\\tEnglish\\t0020640\\tAnimal Crackers\\r\\n',\n",
       " b'20641\\t176501\\t11140\\tDrama, Romance\\t1930\\tUSA\\tEnglish\\t0020641\\tAnna Christie\\r\\n',\n",
       " b'20643\\t3603861\\t1748\\tComedy, Short\\t1930\\tUSA\\tEnglish\\t0020643\\tAnother Fine Mess\\r\\n',\n",
       " b'20670\\t4159455\\t6966\\tComedy, Musical\\t1930\\tUSA\\tEnglish\\t0020670\\tBe Yourself!\\r\\n',\n",
       " b'20702\\t3435788\\t6870\\tCrime, Drama, Film-Noir\\t1930\\tUSA\\tEnglish, Italian, French\\t0020702\\tBorn Reckless\\r\\n',\n",
       " b'20768\\t3128644\\t1782\\tDrama, Romance\\t1930\\tUSA\\tEnglish\\t0020768\\tCity Girl\\r\\n',\n",
       " b'20876\\t105788\\t8463\\tComedy\\t1930\\tUSA\\tEnglish\\t0020876\\tFeet First\\r\\n',\n",
       " b'20945\\t6935753\\t8669\\tComedy, Musical\\t1930\\tUSA\\tEnglish, French\\t0020945\\tHalf Shot at Sunrise\\r\\n',\n",
       " b\"20960\\t5583644\\t7331\\tDrama, War\\t1930\\tUSA\\tEnglish, German, French\\t0020960\\tHell's Angels\\r\\n\",\n",
       " b'21025\\t6922578\\t4495\\tAnimation, Music\\t1930\\tUSA\\tEnglish\\t0021025\\tKing of Jazz\\r\\n',\n",
       " b'21040\\t4056770\\t9201\\tDrama, Romance\\t1930\\tUSA\\tEnglish\\t0021040\\tLadies of Leisure\\r\\n',\n",
       " b'22058\\t3445333\\t919\\tShort, Comedy\\t1930\\tUSA\\tEnglish\\t0022058\\tLaughing Gravy\\r\\n']"
      ]
     },
     "execution_count": 66,
     "metadata": {},
     "output_type": "execute_result"
    }
   ],
   "source": [
    "source[0:20]"
   ]
  },
  {
   "cell_type": "markdown",
   "metadata": {},
   "source": [
    "It looks dirty because the file is encoded as bytes, but we can certainly see the information there. The file id is also present in the original raw text data: as the first \"word\". Look back at the normalized/tokenized words to confirm that. We're going to use this to create a dataframe with: Fileid, movie name, genre, year, and country.\n",
    "\n",
    "It is advised that you run a similar check of the source file before you do other extraction.\n",
    "\n",
    "First, let us create a dictionary mapping file-id to all the text. Each movie will be mapped to a list of the tokenized words.\n",
    "\n",
    "In this example, I only use it to load 100 movies. You can comment this out or increase/decrease the number as you see fit."
   ]
  },
  {
   "cell_type": "code",
   "execution_count": 67,
   "metadata": {},
   "outputs": [],
   "source": [
    "movie_texts = {}"
   ]
  },
  {
   "cell_type": "code",
   "execution_count": 69,
   "metadata": {},
   "outputs": [],
   "source": [
    "for files in movie_raw:\n",
    "    if len(movie_texts) > 100:\n",
    "        break\n",
    "    movies = clean_raw_text(movie_raw[files][1:])\n",
    "    for movie in movies:\n",
    "        txts = lucem_illud.word_tokenize(movie)\n",
    "        try:\n",
    "            movie_texts[txts[0][2:]] = txts[1:]\n",
    "        except IndexError:\n",
    "            continue"
   ]
  },
  {
   "cell_type": "code",
   "execution_count": 70,
   "metadata": {},
   "outputs": [],
   "source": [
    "import pandas as pd"
   ]
  },
  {
   "cell_type": "code",
   "execution_count": 71,
   "metadata": {},
   "outputs": [],
   "source": [
    "movie_df = pd.DataFrame(columns=[\"Movie Name\", \"Genre\", \"Year\", \"Country\", \"Tokenized Texts\"])"
   ]
  },
  {
   "cell_type": "code",
   "execution_count": 72,
   "metadata": {},
   "outputs": [],
   "source": [
    "for movie in source[3:]:\n",
    "    try:\n",
    "        tid, fileid, total_words, genre, year, lang, country, imdb, title = movie.decode(\"utf-8\").split(\"\\t\")\n",
    "    except UnicodeDecodeError:\n",
    "        continue\n",
    "    try:\n",
    "        movie_df.loc[fileid.strip()] = [title.strip(), genre.strip(), year.strip(), country.strip(), movie_texts[fileid.strip()]]\n",
    "    except KeyError:\n",
    "        continue"
   ]
  },
  {
   "cell_type": "code",
   "execution_count": 73,
   "metadata": {},
   "outputs": [
    {
     "data": {
      "text/html": [
       "<div>\n",
       "<style scoped>\n",
       "    .dataframe tbody tr th:only-of-type {\n",
       "        vertical-align: middle;\n",
       "    }\n",
       "\n",
       "    .dataframe tbody tr th {\n",
       "        vertical-align: top;\n",
       "    }\n",
       "\n",
       "    .dataframe thead th {\n",
       "        text-align: right;\n",
       "    }\n",
       "</style>\n",
       "<table border=\"1\" class=\"dataframe\">\n",
       "  <thead>\n",
       "    <tr style=\"text-align: right;\">\n",
       "      <th></th>\n",
       "      <th>Movie Name</th>\n",
       "      <th>Genre</th>\n",
       "      <th>Year</th>\n",
       "      <th>Country</th>\n",
       "      <th>Tokenized Texts</th>\n",
       "    </tr>\n",
       "  </thead>\n",
       "  <tbody>\n",
       "    <tr>\n",
       "      <th>6850720</th>\n",
       "      <td>Animal Crackers</td>\n",
       "      <td>Comedy, Musical</td>\n",
       "      <td>1930</td>\n",
       "      <td>English</td>\n",
       "      <td>[You, must, do, your, best, tonight, Be, on, y...</td>\n",
       "    </tr>\n",
       "    <tr>\n",
       "      <th>176501</th>\n",
       "      <td>Anna Christie</td>\n",
       "      <td>Drama, Romance</td>\n",
       "      <td>1930</td>\n",
       "      <td>English</td>\n",
       "      <td>[Either, you, 're, flat, or, I, am, I, beg, yo...</td>\n",
       "    </tr>\n",
       "    <tr>\n",
       "      <th>4056770</th>\n",
       "      <td>Ladies of Leisure</td>\n",
       "      <td>Drama, Romance</td>\n",
       "      <td>1930</td>\n",
       "      <td>English</td>\n",
       "      <td>[Look, out, There, 's, another, bottle, coming...</td>\n",
       "    </tr>\n",
       "    <tr>\n",
       "      <th>5992934</th>\n",
       "      <td>Over the Hill</td>\n",
       "      <td>Drama</td>\n",
       "      <td>1931</td>\n",
       "      <td>English</td>\n",
       "      <td>[Good, morning, kitty, Come, in, here, baby, I...</td>\n",
       "    </tr>\n",
       "    <tr>\n",
       "      <th>4436137</th>\n",
       "      <td>Design for Living</td>\n",
       "      <td>Comedy, Romance</td>\n",
       "      <td>1933</td>\n",
       "      <td>English, French</td>\n",
       "      <td>[Train_engine_grinding, 26;1426;TOOLONG, Whist...</td>\n",
       "    </tr>\n",
       "  </tbody>\n",
       "</table>\n",
       "</div>"
      ],
      "text/plain": [
       "                Movie Name            Genre  Year          Country  \\\n",
       "6850720    Animal Crackers  Comedy, Musical  1930          English   \n",
       "176501       Anna Christie   Drama, Romance  1930          English   \n",
       "4056770  Ladies of Leisure   Drama, Romance  1930          English   \n",
       "5992934      Over the Hill            Drama  1931          English   \n",
       "4436137  Design for Living  Comedy, Romance  1933  English, French   \n",
       "\n",
       "                                           Tokenized Texts  \n",
       "6850720  [You, must, do, your, best, tonight, Be, on, y...  \n",
       "176501   [Either, you, 're, flat, or, I, am, I, beg, yo...  \n",
       "4056770  [Look, out, There, 's, another, bottle, coming...  \n",
       "5992934  [Good, morning, kitty, Come, in, here, baby, I...  \n",
       "4436137  [Train_engine_grinding, 26;1426;TOOLONG, Whist...  "
      ]
     },
     "execution_count": 73,
     "metadata": {},
     "output_type": "execute_result"
    }
   ],
   "source": [
    "movie_df.head()"
   ]
  },
  {
   "cell_type": "markdown",
   "metadata": {},
   "source": [
    "# Part-of-Speech (POS) tagging"
   ]
  },
  {
   "cell_type": "markdown",
   "metadata": {},
   "source": [
    "In POS tagging, we classify each word by its semantic role in a sentence. We will be using the in-built spaCy pos-tagging.\n",
    "\n",
    "https://spacy.io/usage/linguistic-features\n",
    "\n",
    "|#. |Tag |Description |\n",
    "|---|----|------------|\n",
    "|1.\t|CC\t|Coordinating conjunction\n",
    "|2.\t|CD\t|Cardinal number\n",
    "|3.\t|DT\t|Determiner\n",
    "|4.\t|EX\t|Existential there\n",
    "|5.\t|FW\t|Foreign word\n",
    "|6.\t|IN\t|Preposition or subordinating conjunction\n",
    "|7.\t|JJ\t|Adjective\n",
    "|8.\t|JJR|\tAdjective, comparative\n",
    "|9.\t|JJS|\tAdjective, superlative\n",
    "|10.|\tLS\t|List item marker\n",
    "|11.|\tMD\t|Modal\n",
    "|12.|\tNN\t|Noun, singular or mass\n",
    "|13.|\tNNS\t|Noun, plural\n",
    "|14.|\tNNP\t|Proper noun, singular\n",
    "|15.|\tNNPS|\tProper noun, plural\n",
    "|16.|\tPDT\t|Predeterminer\n",
    "|17.|\tPOS\t|Possessive ending\n",
    "|18.|\tPRP\t|Personal pronoun\n",
    "|19.|\tPRP\\$|\tPossessive pronoun\n",
    "|20.|\tRB\t|Adverb\n",
    "|21.|\tRBR\t|Adverb, comparative\n",
    "|22.|\tRBS\t|Adverb, superlative\n",
    "|23.|\tRP\t|Particle\n",
    "|24.|\tSYM\t|Symbol\n",
    "|25.|\tTO\t|to\n",
    "|26.|\tUH\t|Interjection\n",
    "|27.|\tVB\t|Verb, base form\n",
    "|28.|\tVBD\t|Verb, past tense\n",
    "|29.|\tVBG\t|Verb, gerund or present participle\n",
    "|30.|\tVBN\t|Verb, past participle\n",
    "|31.|\tVBP\t|Verb, non-3rd person singular present\n",
    "|32.|\tVBZ\t|Verb, 3rd person singular present\n",
    "|33.|\tWDT\t|Wh-determiner\n",
    "|34.|\tWP\t|Wh-pronoun\n",
    "|35.|\tWP$\t|Possessive wh-pronoun\n",
    "|36.|\tWRB\t|Wh-adverb\n",
    "\n",
    "spaCy pos-tags word as we run it through the english language model. A small example:"
   ]
  },
  {
   "cell_type": "code",
   "execution_count": 74,
   "metadata": {},
   "outputs": [],
   "source": [
    "sent = nlp(u\"Tom went to IKEA to get some of those delicious Swedish meatballs.\")\n"
   ]
  },
  {
   "cell_type": "code",
   "execution_count": 75,
   "metadata": {},
   "outputs": [
    {
     "name": "stdout",
     "output_type": "stream",
     "text": [
      "Tom PROPN NNP\n",
      "went VERB VBD\n",
      "to ADP IN\n",
      "IKEA PROPN NNP\n",
      "to PART TO\n",
      "get AUX VB\n",
      "some DET DT\n",
      "of ADP IN\n",
      "those DET DT\n",
      "delicious ADJ JJ\n",
      "Swedish ADJ JJ\n",
      "meatballs NOUN NNS\n",
      ". PUNCT .\n"
     ]
    }
   ],
   "source": [
    "for token in sent:\n",
    "    print(token.text, token.pos_, token.tag_)"
   ]
  },
  {
   "cell_type": "markdown",
   "metadata": {},
   "source": [
    "This looks quite good. Now we will try POS tagging with a somewhat larger corpus. We consider a few of the top posts from the reddit data we used last week."
   ]
  },
  {
   "cell_type": "code",
   "execution_count": 76,
   "metadata": {},
   "outputs": [],
   "source": [
    "redditDF = pandas.read_csv('../data/reddit.csv')"
   ]
  },
  {
   "cell_type": "markdown",
   "metadata": {},
   "source": [
    "Grabbing the 10 highest scoring posts and tokenizing the sentences. Once again, notice that we aren't going to do any kind of stemming this week (although *semantic* normalization may be performed where we translate synonyms into the same focal word). Here, we will use sentences tokenized by spaCy. Like before, these methods can also be found in lucem_illud.\n",
    "\n"
   ]
  },
  {
   "cell_type": "code",
   "execution_count": 77,
   "metadata": {},
   "outputs": [],
   "source": [
    "def sent_tokenize(word_list):\n",
    "    doc = nlp(word_list)\n",
    "    sentences = [sent.string.strip() for sent in doc.sents]\n",
    "    return sentences"
   ]
  },
  {
   "cell_type": "code",
   "execution_count": 78,
   "metadata": {},
   "outputs": [
    {
     "data": {
      "text/html": [
       "<div>\n",
       "<style scoped>\n",
       "    .dataframe tbody tr th:only-of-type {\n",
       "        vertical-align: middle;\n",
       "    }\n",
       "\n",
       "    .dataframe tbody tr th {\n",
       "        vertical-align: top;\n",
       "    }\n",
       "\n",
       "    .dataframe thead th {\n",
       "        text-align: right;\n",
       "    }\n",
       "</style>\n",
       "<table border=\"1\" class=\"dataframe\">\n",
       "  <thead>\n",
       "    <tr style=\"text-align: right;\">\n",
       "      <th></th>\n",
       "      <th>Unnamed: 0</th>\n",
       "      <th>author</th>\n",
       "      <th>over_18</th>\n",
       "      <th>score</th>\n",
       "      <th>subreddit</th>\n",
       "      <th>text</th>\n",
       "      <th>title</th>\n",
       "      <th>url</th>\n",
       "      <th>sentences</th>\n",
       "    </tr>\n",
       "  </thead>\n",
       "  <tbody>\n",
       "    <tr>\n",
       "      <th>9</th>\n",
       "      <td>8</td>\n",
       "      <td>brenkelieshere</td>\n",
       "      <td>False</td>\n",
       "      <td>9448</td>\n",
       "      <td>Tales From Tech Support</td>\n",
       "      <td>Last year, Help Desk got a call from a user co...</td>\n",
       "      <td>How to fix a laptop that won't boot in under a...</td>\n",
       "      <td>https://www.reddit.com/r/talesfromtechsupport/...</td>\n",
       "      <td>[[Last, year, Help, Desk, got, a, call, from, ...</td>\n",
       "    </tr>\n",
       "    <tr>\n",
       "      <th>8</th>\n",
       "      <td>7</td>\n",
       "      <td>Bombadils</td>\n",
       "      <td>False</td>\n",
       "      <td>10528</td>\n",
       "      <td>Tales From Tech Support</td>\n",
       "      <td>First post in quite some time! I work at a loc...</td>\n",
       "      <td>OK, now the password is 'D35p41r'</td>\n",
       "      <td>https://www.reddit.com/r/talesfromtechsupport/...</td>\n",
       "      <td>[[First, post, in, quite, some, time], [I, wor...</td>\n",
       "    </tr>\n",
       "    <tr>\n",
       "      <th>7</th>\n",
       "      <td>1200</td>\n",
       "      <td>whenlifegivesyoushit</td>\n",
       "      <td>False</td>\n",
       "      <td>11003</td>\n",
       "      <td>Relationships</td>\n",
       "      <td>[Original Post](https://www.reddit.com/r/relat...</td>\n",
       "      <td>[UPDATE]My [26 F] with my husband [29 M] 1 yea...</td>\n",
       "      <td>https://www.reddit.com/r/relationships/comment...</td>\n",
       "      <td>[[Original, Post](https://www.reddit.com, r, r...</td>\n",
       "    </tr>\n",
       "    <tr>\n",
       "      <th>6</th>\n",
       "      <td>6</td>\n",
       "      <td>sfsdfd</td>\n",
       "      <td>False</td>\n",
       "      <td>11295</td>\n",
       "      <td>Tales From Tech Support</td>\n",
       "      <td>I witnessed this astounding IT meltdown around...</td>\n",
       "      <td>Company-wide email + 30,000 employees + auto-r...</td>\n",
       "      <td>https://www.reddit.com/r/talesfromtechsupport/...</td>\n",
       "      <td>[[I, witnessed, this, astounding, IT, meltdown...</td>\n",
       "    </tr>\n",
       "    <tr>\n",
       "      <th>5</th>\n",
       "      <td>5</td>\n",
       "      <td>Raitaro</td>\n",
       "      <td>False</td>\n",
       "      <td>12372</td>\n",
       "      <td>Tales From Tech Support</td>\n",
       "      <td>I work Helpdesk for a retail store chain in th...</td>\n",
       "      <td>I'm pretty sure I knocked a user out from near...</td>\n",
       "      <td>https://www.reddit.com/r/talesfromtechsupport/...</td>\n",
       "      <td>[[I, work, Helpdesk, for, a, retail, store, ch...</td>\n",
       "    </tr>\n",
       "    <tr>\n",
       "      <th>4</th>\n",
       "      <td>4</td>\n",
       "      <td>goldie-gold</td>\n",
       "      <td>False</td>\n",
       "      <td>12650</td>\n",
       "      <td>Tales From Tech Support</td>\n",
       "      <td>This just happened...  So, I had a laptop syst...</td>\n",
       "      <td>Engineer is doing drugs!! No. No they aren't.</td>\n",
       "      <td>https://www.reddit.com/r/talesfromtechsupport/...</td>\n",
       "      <td>[[This, just, happened], [So, I, had, a, lapto...</td>\n",
       "    </tr>\n",
       "    <tr>\n",
       "      <th>3</th>\n",
       "      <td>3</td>\n",
       "      <td>TheDroolinFool</td>\n",
       "      <td>False</td>\n",
       "      <td>13152</td>\n",
       "      <td>Tales From Tech Support</td>\n",
       "      <td>Another tale from the out of hours IT desk... ...</td>\n",
       "      <td>\"I need you to fix Google Bing immediately!\"</td>\n",
       "      <td>https://www.reddit.com/r/talesfromtechsupport/...</td>\n",
       "      <td>[[Another, tale, from, the, out, of, hours, IT...</td>\n",
       "    </tr>\n",
       "    <tr>\n",
       "      <th>2</th>\n",
       "      <td>2</td>\n",
       "      <td>Clickity_clickity</td>\n",
       "      <td>False</td>\n",
       "      <td>13404</td>\n",
       "      <td>Tales From Tech Support</td>\n",
       "      <td>[Part 1](http://www.reddit.com/r/talesfromtech...</td>\n",
       "      <td>Jack, the Worst End User, Part 4</td>\n",
       "      <td>https://www.reddit.com/r/talesfromtechsupport/...</td>\n",
       "      <td>[[Part, 1](http://www.reddit.com, r, talesfrom...</td>\n",
       "    </tr>\n",
       "    <tr>\n",
       "      <th>1</th>\n",
       "      <td>1</td>\n",
       "      <td>SECGaz</td>\n",
       "      <td>False</td>\n",
       "      <td>13724</td>\n",
       "      <td>Tales From Tech Support</td>\n",
       "      <td>&gt; $Me  - Hello, IT.   &gt; $Usr - Hi, I am still ...</td>\n",
       "      <td>Hi, I am still off sick but I am not.</td>\n",
       "      <td>https://www.reddit.com/r/talesfromtechsupport/...</td>\n",
       "      <td>[[&gt;], [$, Me, Hello, IT], [&gt;], [$, Usr, Hi, I,...</td>\n",
       "    </tr>\n",
       "    <tr>\n",
       "      <th>0</th>\n",
       "      <td>0</td>\n",
       "      <td>guitarsdontdance</td>\n",
       "      <td>False</td>\n",
       "      <td>14089</td>\n",
       "      <td>Tales From Tech Support</td>\n",
       "      <td>So my story starts on what was a normal day ta...</td>\n",
       "      <td>\"Don't bother sending a tech, I'll be dead by ...</td>\n",
       "      <td>https://www.reddit.com/r/talesfromtechsupport/...</td>\n",
       "      <td>[[So, my, story, starts, on, what, was, a, nor...</td>\n",
       "    </tr>\n",
       "  </tbody>\n",
       "</table>\n",
       "</div>"
      ],
      "text/plain": [
       "   Unnamed: 0                author  over_18  score                subreddit  \\\n",
       "9           8        brenkelieshere    False   9448  Tales From Tech Support   \n",
       "8           7             Bombadils    False  10528  Tales From Tech Support   \n",
       "7        1200  whenlifegivesyoushit    False  11003            Relationships   \n",
       "6           6                sfsdfd    False  11295  Tales From Tech Support   \n",
       "5           5               Raitaro    False  12372  Tales From Tech Support   \n",
       "4           4           goldie-gold    False  12650  Tales From Tech Support   \n",
       "3           3        TheDroolinFool    False  13152  Tales From Tech Support   \n",
       "2           2     Clickity_clickity    False  13404  Tales From Tech Support   \n",
       "1           1                SECGaz    False  13724  Tales From Tech Support   \n",
       "0           0      guitarsdontdance    False  14089  Tales From Tech Support   \n",
       "\n",
       "                                                text  \\\n",
       "9  Last year, Help Desk got a call from a user co...   \n",
       "8  First post in quite some time! I work at a loc...   \n",
       "7  [Original Post](https://www.reddit.com/r/relat...   \n",
       "6  I witnessed this astounding IT meltdown around...   \n",
       "5  I work Helpdesk for a retail store chain in th...   \n",
       "4  This just happened...  So, I had a laptop syst...   \n",
       "3  Another tale from the out of hours IT desk... ...   \n",
       "2  [Part 1](http://www.reddit.com/r/talesfromtech...   \n",
       "1  > $Me  - Hello, IT.   > $Usr - Hi, I am still ...   \n",
       "0  So my story starts on what was a normal day ta...   \n",
       "\n",
       "                                               title  \\\n",
       "9  How to fix a laptop that won't boot in under a...   \n",
       "8                  OK, now the password is 'D35p41r'   \n",
       "7  [UPDATE]My [26 F] with my husband [29 M] 1 yea...   \n",
       "6  Company-wide email + 30,000 employees + auto-r...   \n",
       "5  I'm pretty sure I knocked a user out from near...   \n",
       "4      Engineer is doing drugs!! No. No they aren't.   \n",
       "3       \"I need you to fix Google Bing immediately!\"   \n",
       "2                   Jack, the Worst End User, Part 4   \n",
       "1              Hi, I am still off sick but I am not.   \n",
       "0  \"Don't bother sending a tech, I'll be dead by ...   \n",
       "\n",
       "                                                 url  \\\n",
       "9  https://www.reddit.com/r/talesfromtechsupport/...   \n",
       "8  https://www.reddit.com/r/talesfromtechsupport/...   \n",
       "7  https://www.reddit.com/r/relationships/comment...   \n",
       "6  https://www.reddit.com/r/talesfromtechsupport/...   \n",
       "5  https://www.reddit.com/r/talesfromtechsupport/...   \n",
       "4  https://www.reddit.com/r/talesfromtechsupport/...   \n",
       "3  https://www.reddit.com/r/talesfromtechsupport/...   \n",
       "2  https://www.reddit.com/r/talesfromtechsupport/...   \n",
       "1  https://www.reddit.com/r/talesfromtechsupport/...   \n",
       "0  https://www.reddit.com/r/talesfromtechsupport/...   \n",
       "\n",
       "                                           sentences  \n",
       "9  [[Last, year, Help, Desk, got, a, call, from, ...  \n",
       "8  [[First, post, in, quite, some, time], [I, wor...  \n",
       "7  [[Original, Post](https://www.reddit.com, r, r...  \n",
       "6  [[I, witnessed, this, astounding, IT, meltdown...  \n",
       "5  [[I, work, Helpdesk, for, a, retail, store, ch...  \n",
       "4  [[This, just, happened], [So, I, had, a, lapto...  \n",
       "3  [[Another, tale, from, the, out, of, hours, IT...  \n",
       "2  [[Part, 1](http://www.reddit.com, r, talesfrom...  \n",
       "1  [[>], [$, Me, Hello, IT], [>], [$, Usr, Hi, I,...  \n",
       "0  [[So, my, story, starts, on, what, was, a, nor...  "
      ]
     },
     "execution_count": 78,
     "metadata": {},
     "output_type": "execute_result"
    }
   ],
   "source": [
    "redditTopScores = redditDF.sort_values('score')[-10:]\n",
    "redditTopScores['sentences'] = redditTopScores['text'].apply(lambda x: [word_tokenize(s) for s in sent_tokenize(x)])\n",
    "redditTopScores.index = range(len(redditTopScores) - 1, -1,-1) #Reindex to make things nice in the future\n",
    "redditTopScores"
   ]
  },
  {
   "cell_type": "code",
   "execution_count": 94,
   "metadata": {},
   "outputs": [],
   "source": [
    "def tag_sents_pos(sentences):\n",
    "    \"\"\"\n",
    "    function which replicates NLTK pos tagging on sentences.\n",
    "    \"\"\"\n",
    "    new_sents = []\n",
    "    for sentence in sentences:\n",
    "        new_sent = ' '.join(sentence)\n",
    "        new_sents.append(new_sent)\n",
    "    final_string = ' '.join(new_sents)\n",
    "    doc = nlp(final_string)\n",
    "    #print(\"doc = \", doc)\n",
    "    \n",
    "    pos_sents = []\n",
    "    for sent in doc.sents:\n",
    "        #print(\"sent=\", sent)\n",
    "        pos_sent = []\n",
    "        for token in sent:\n",
    "            #print(\"token.text =\", token.text, \"token.tag = \", token.tag_)\n",
    "            pos_sent.append((token.text, token.tag_))\n",
    "        pos_sents.append(pos_sent)\n",
    "    \n",
    "    return pos_sents"
   ]
  },
  {
   "cell_type": "code",
   "execution_count": 95,
   "metadata": {},
   "outputs": [],
   "source": [
    "#redditTopScores['sentences'][1]\n",
    "#tag_sents_pos(redditTopScores['sentences'][1])"
   ]
  },
  {
   "cell_type": "code",
   "execution_count": 96,
   "metadata": {},
   "outputs": [],
   "source": [
    "redditTopScores['POS_sents'] = redditTopScores['sentences'].apply(lambda x: tag_sents_pos(x))"
   ]
  },
  {
   "cell_type": "code",
   "execution_count": 81,
   "metadata": {},
   "outputs": [
    {
     "data": {
      "text/plain": [
       "9    [[(Last, JJ), (year, NN), (Help, NNP), (Desk, ...\n",
       "8    [[(First, RB), (post, NN), (in, IN), (quite, P...\n",
       "7    [[(Original, JJ), (Post](https://www.reddit.co...\n",
       "6    [[(I, PRP), (witnessed, VBD), (this, DT), (ast...\n",
       "5    [[(I, PRP), (work, VBP), (Helpdesk, NNP), (for...\n",
       "4    [[(This, DT), (just, RB), (happened, VBD)], [(...\n",
       "3    [[(Another, DT), (tale, NN), (from, IN), (the,...\n",
       "2    [[(Part, NNP), (1](http://www.reddit.com, NNP)...\n",
       "1    [[(>, XX)], [($, $), (Me, PRP), (Hello, UH), (...\n",
       "0    [[(So, RB), (my, PRP$), (story, NN), (starts, ...\n",
       "Name: POS_sents, dtype: object"
      ]
     },
     "execution_count": 81,
     "metadata": {},
     "output_type": "execute_result"
    }
   ],
   "source": [
    "redditTopScores['POS_sents']"
   ]
  },
  {
   "cell_type": "markdown",
   "metadata": {},
   "source": [
    "And count the number of `NN` (nouns)"
   ]
  },
  {
   "cell_type": "code",
   "execution_count": 82,
   "metadata": {},
   "outputs": [
    {
     "data": {
      "text/plain": [
       "[('password', 21),\n",
       " ('time', 14),\n",
       " ('Usr', 14),\n",
       " ('m', 13),\n",
       " ('computer', 13),\n",
       " ('lot', 12),\n",
       " ('life', 11),\n",
       " ('email', 11),\n",
       " ('system', 10),\n",
       " ('laptop', 9),\n",
       " ('message', 9),\n",
       " ('day', 9),\n",
       " ('auto', 9),\n",
       " ('call', 8),\n",
       " ('office', 8),\n",
       " ('part', 8),\n",
       " ('today', 8),\n",
       " ('story', 8),\n",
       " ('user', 7),\n",
       " ('job', 7)]"
      ]
     },
     "execution_count": 82,
     "metadata": {},
     "output_type": "execute_result"
    }
   ],
   "source": [
    "countTarget = 'NN'\n",
    "targetCounts = {}\n",
    "for entry in redditTopScores['POS_sents']:\n",
    "    for sentence in entry:\n",
    "        for ent, kind in sentence:\n",
    "            if kind != countTarget:\n",
    "                continue\n",
    "            elif ent in targetCounts:\n",
    "                targetCounts[ent] += 1\n",
    "            else:\n",
    "                targetCounts[ent] = 1\n",
    "sortedTargets = sorted(targetCounts.items(), key = lambda x: x[1], reverse = True)\n",
    "sortedTargets[:20]"
   ]
  },
  {
   "cell_type": "markdown",
   "metadata": {},
   "source": [
    "What about the adjectives that modify the word, \"computer\"?"
   ]
  },
  {
   "cell_type": "code",
   "execution_count": 83,
   "metadata": {},
   "outputs": [
    {
     "name": "stdout",
     "output_type": "stream",
     "text": [
      "{'unrestricted', 'own'}\n"
     ]
    }
   ],
   "source": [
    "NTarget = 'JJ'\n",
    "Word = 'computer'\n",
    "NResults = set()\n",
    "for entry in redditTopScores['POS_sents']:\n",
    "    for sentence in entry:\n",
    "        for (ent1, kind1),(ent2,kind2) in zip(sentence[:-1], sentence[1:]):\n",
    "            if (kind1,ent2.lower())==(NTarget,Word):\n",
    "                NResults.add(ent1)\n",
    "            else:\n",
    "                continue\n",
    "\n",
    "print(NResults)     "
   ]
  },
  {
   "cell_type": "markdown",
   "metadata": {},
   "source": [
    "## <span style=\"color:red\">*Your turn*</span>\n",
    "\n",
    "<span style=\"color:red\">In the cells immediately following, perform POS tagging on a meaningful (but modest) subset of a corpus associated with your final project. Examine the list of words associated with at least three different parts of speech. Consider conditional associations (e.g., adjectives associated with nouns or adverbs with verbs of interest). What do these distributions suggest about your corpus?"
   ]
  },
  {
   "cell_type": "markdown",
   "metadata": {},
   "source": [
    "# Collocations"
   ]
  },
  {
   "cell_type": "markdown",
   "metadata": {},
   "source": [
    "As illustrated above, we might want to find significant bigrams (two-word phrases), trigrams (three-word phrases), n-grams (*n*-word phrases) or skip-grams (noncontinguous 'phrases' with skip-length *n*). \n",
    "\n",
    "We will begin with the [`nltk.collocations.BigramCollocationFinder`](http://www.nltk.org/api/nltk.html?highlight=bigramcollocationfinder#nltk.collocations.BigramCollocationFinder) class, which can be given raw lists of strings with the `from_words()` method. By default it only looks at continuous bigrams but there is an option (`window_size`) to allow skip-grams."
   ]
  },
  {
   "cell_type": "code",
   "execution_count": 97,
   "metadata": {},
   "outputs": [
    {
     "name": "stdout",
     "output_type": "stream",
     "text": [
      "There are 1964 bigrams in the finder\n"
     ]
    }
   ],
   "source": [
    "whBigrams = nltk.collocations.BigramCollocationFinder.from_words(whReleases['normalized_tokens'].sum())\n",
    "print(\"There are {} bigrams in the finder\".format(whBigrams.N))"
   ]
  },
  {
   "cell_type": "markdown",
   "metadata": {},
   "source": [
    "To compare the bigrams we need to tell nltk what our score function is. Initially, we will look at the raw counts."
   ]
  },
  {
   "cell_type": "code",
   "execution_count": 98,
   "metadata": {},
   "outputs": [
    {
     "name": "stdout",
     "output_type": "stream",
     "text": [
      "[('president', 'bush'), ('rhode', 'island'), ('sheldon', 'whitehouse'), ('stem', 'cell'), ('whitehouse', 'd'), ('d', 'r.i'), ('bush', 'administration'), ('whitehouse', 'say'), ('american', 'people'), ('bring', 'troop')]\n"
     ]
    }
   ],
   "source": [
    "def bigramScoring(count, wordsTuple, total):\n",
    "    return count\n",
    "\n",
    "print(whBigrams.nbest(bigramScoring, 10))"
   ]
  },
  {
   "cell_type": "markdown",
   "metadata": {},
   "source": [
    "One note about how `BigramCollocationFinder` works. It doesn't use the strings internally."
   ]
  },
  {
   "cell_type": "code",
   "execution_count": 99,
   "metadata": {},
   "outputs": [
    {
     "name": "stdout",
     "output_type": "stream",
     "text": [
      "The first word is:  28, The second word is: 31\n",
      "The first word is:  20, The second word is: 17\n",
      "The first word is:  12, The second word is: 12\n",
      "The first word is:  12, The second word is: 40\n",
      "The first word is:  40, The second word is: 17\n",
      "The first word is:  17, The second word is: 10\n",
      "The first word is:  40, The second word is: 17\n",
      "The first word is:  31, The second word is: 11\n",
      "The first word is:  9, The second word is: 24\n",
      "The first word is:  24, The second word is: 13\n"
     ]
    }
   ],
   "source": [
    "birgramScores = []\n",
    "\n",
    "def bigramPrinting(count, wordsTuple, total):\n",
    "    global birgramScores\n",
    "    birgramScores.append(\"The first word is:  {}, The second word is: {}\".format(*wordsTuple))\n",
    "    #Returns None so all the tuples are considered to have the same rank\n",
    "\n",
    "whBigrams.nbest(bigramPrinting, 10)\n",
    "print('\\n'.join(birgramScores[:10]))"
   ]
  },
  {
   "cell_type": "markdown",
   "metadata": {},
   "source": [
    "The words are each given numeric IDs and there is a dictionary that maps the IDs to the words they represent. This is a common performance optimization.\n",
    "\n",
    "Two words can appear together by chance. Recall from  Manning and Schütze's textbook that a t-value can be computed for each bigram to see how significant the association is. You may also want to try computing the $\\chi^2$, likelihood ratio, and pointwise mutual information statistics. "
   ]
  },
  {
   "cell_type": "code",
   "execution_count": 100,
   "metadata": {},
   "outputs": [
    {
     "data": {
      "text/plain": [
       "[(('rhode', 'island'), 178.42791632631025),\n",
       " (('stem', 'cell'), 146.27449459815534),\n",
       " (('president', 'bush'), 126.23062149808423),\n",
       " (('sheldon', 'whitehouse'), 97.40535043376386),\n",
       " (('d', 'r.i'), 84.89634183337617),\n",
       " (('united', 'states'), 81.47339960284599),\n",
       " (('whitehouse', 'd'), 57.74744623651276),\n",
       " (('senator', 'sheldon'), 49.710393897443225),\n",
       " (('jack', 'reed'), 48.00268738075493),\n",
       " (('american', 'people'), 46.35726044599012),\n",
       " (('bush', 'administration'), 45.4509557751863),\n",
       " (('honor', 'society'), 44.900172381728815),\n",
       " (('bring', 'troop'), 43.07951375003984),\n",
       " (('cell', 'research'), 41.08298559892974),\n",
       " (('d', 'ri'), 39.013185331609264),\n",
       " (('potential', 'closing'), 38.17005571163625),\n",
       " (('youth', 'program'), 38.17005571163625),\n",
       " (('u.s', 'senator'), 37.28800351091628),\n",
       " (('troop', 'home'), 36.666015832295386),\n",
       " (('come', 'home'), 36.52029777577777),\n",
       " (('epw', 'committee'), 34.315160571201105),\n",
       " (('whitehouse', 'say'), 33.09869922194955),\n",
       " (('budget', 'resolution'), 32.08678784585971),\n",
       " (('district', 'columbia'), 31.556327881857438),\n",
       " (('greenhouse', 'gas'), 31.556327881857438),\n",
       " (('humpty', 'dumpty'), 31.556327881857438),\n",
       " (('jose', 'socrate'), 31.556327881857438),\n",
       " (('prime', 'minister'), 31.556327881857438),\n",
       " (('weaver', 'cove'), 31.556327881857438),\n",
       " (('change', 'course'), 31.444022758433917),\n",
       " (('send', 'clear'), 31.444022758433917),\n",
       " (('new', 'direction'), 30.35193688607352),\n",
       " (('senate', 'youth'), 29.888099675583184),\n",
       " (('rhode', 'islander'), 27.991808869489184),\n",
       " (('enhancement', 'act'), 27.73724287208856),\n",
       " (('harm', 'way'), 27.73724287208856),\n",
       " (('interest', 'payment'), 27.73724287208856),\n",
       " (('foregone', 'surplus'), 26.01115043737788),\n",
       " (('million', 'americans'), 26.01115043737788),\n",
       " (('senators', 'jack'), 26.01115043737788)]"
      ]
     },
     "execution_count": 100,
     "metadata": {},
     "output_type": "execute_result"
    }
   ],
   "source": [
    "bigram_measures = nltk.collocations.BigramAssocMeasures()\n",
    "whBigrams.score_ngrams(bigram_measures.likelihood_ratio)[:40]\n",
    "# other options include student_t, chi_sq, likelihood_ratio, pmi"
   ]
  },
  {
   "cell_type": "markdown",
   "metadata": {},
   "source": [
    "There are a few other available measures"
   ]
  },
  {
   "cell_type": "code",
   "execution_count": 101,
   "metadata": {},
   "outputs": [
    {
     "data": {
      "text/plain": [
       "['chi_sq',\n",
       " 'dice',\n",
       " 'fisher',\n",
       " 'jaccard',\n",
       " 'likelihood_ratio',\n",
       " 'mi_like',\n",
       " 'phi_sq',\n",
       " 'pmi',\n",
       " 'poisson_stirling',\n",
       " 'raw_freq',\n",
       " 'student_t']"
      ]
     },
     "execution_count": 101,
     "metadata": {},
     "output_type": "execute_result"
    }
   ],
   "source": [
    "[s for s in dir(bigram_measures) if s[0] != '_']"
   ]
  },
  {
   "cell_type": "markdown",
   "metadata": {},
   "source": [
    "We can also look at trigrams"
   ]
  },
  {
   "cell_type": "code",
   "execution_count": 103,
   "metadata": {},
   "outputs": [
    {
     "data": {
      "text/plain": [
       "[(('sheldon', 'whitehouse', 'd'), 3.1616086893217816),\n",
       " (('whitehouse', 'd', 'r.i'), 2.6450850001523705),\n",
       " (('bring', 'troop', 'home'), 2.449192549827382),\n",
       " (('senator', 'sheldon', 'whitehouse'), 2.4489309184218513),\n",
       " (('stem', 'cell', 'research'), 2.235917719697493),\n",
       " (('u.s', 'senator', 'sheldon'), 2.2358690250393414),\n",
       " (('senate', 'youth', 'program'), 1.7320171301402933),\n",
       " (('united', 'states', 'senator'), 1.7319915352945694),\n",
       " (('jack', 'reed', 'd'), 1.7319795610977395),\n",
       " (('new', 'direction', 'iraq'), 1.7318496410621351),\n",
       " (('rhode', 'island', 'state'), 1.731694575213188),\n",
       " (('whitehouse', 'd', 'ri'), 1.731643684876661),\n",
       " (('sen', 'sheldon', 'whitehouse'), 1.7312605105781043),\n",
       " (('reconsider', 'potential', 'closing'), 1.4142080628720362),\n",
       " (('responsibility', 'security', 'governance'), 1.4142047631714012),\n",
       " (('senators', 'jack', 'reed'), 1.4142032966377853),\n",
       " (('$', 'foregone', 'surplus'), 1.4142018301041699),\n",
       " (('v.', 'epa', 'decide'), 1.4142018301041699),\n",
       " (('cell', 'enhancement', 'act'), 1.4142003635705542),\n",
       " (('select', 'committee', 'intelligence'), 1.4142003635705542)]"
      ]
     },
     "execution_count": 103,
     "metadata": {},
     "output_type": "execute_result"
    }
   ],
   "source": [
    "trigram_measures = nltk.collocations.TrigramAssocMeasures()\n",
    "whTrigrams = nltk.collocations.TrigramCollocationFinder.from_words(whReleases['normalized_tokens'].sum())\n",
    "whTrigrams.score_ngrams(trigram_measures.student_t)[:20]"
   ]
  },
  {
   "cell_type": "markdown",
   "metadata": {},
   "source": [
    "Or n-grams (for any number n)"
   ]
  },
  {
   "cell_type": "code",
   "execution_count": 104,
   "metadata": {},
   "outputs": [
    {
     "name": "stdout",
     "output_type": "stream",
     "text": [
      "{('sen', 'sheldon', 'whitehouse', 'd'): 2, ('sheldon', 'whitehouse', 'd', 'r.i'): 7, ('stem', 'cell', 'research', 'whitehouse'): 2, ('stem', 'cell', 'enhancement', 'act'): 2, ('begin', 'bring', 'troop', 'home'): 2, ('bring', 'troop', 'home', 'iraq'): 2, ('u.s', 'senator', 'sheldon', 'whitehouse'): 5, ('senator', 'sheldon', 'whitehouse', 'd'): 5, ('sheldon', 'whitehouse', 'd', 'ri'): 3, ('whitehouse', 'd', 'ri', 'say'): 2, ('d', 'ri', 'say', 'today'): 2, ('member', 'senate', 'select', 'committee'): 2, ('senate', 'select', 'committee', 'intelligence'): 2, ('california', 'rhode', 'island', 'state'): 2, ('u.s', 'senators', 'jack', 'reed'): 2, ('senators', 'jack', 'reed', 'd'): 2, ('jack', 'reed', 'd', 'r.i'): 2, ('reed', 'd', 'r.i', 'sheldon'): 2, ('d', 'r.i', 'sheldon', 'whitehouse'): 2, ('r.i', 'sheldon', 'whitehouse', 'd'): 2, ('iraq', 'sen', 'sheldon', 'whitehouse'): 2, ('portuguese', 'american', 'citizen', 'rhode'): 2, ('american', 'citizen', 'rhode', 'island'): 2}\n"
     ]
    }
   ],
   "source": [
    "Ngrams = nltk.ngrams(whReleases['normalized_tokens'].sum(), 4)\n",
    "Counts = {}\n",
    "for ngram in list(Ngrams):\n",
    "    if ngram in Counts.keys():\n",
    "        Counts[ngram] += 1\n",
    "    else:\n",
    "        Counts[ngram] = 1\n",
    "Filtered = {}\n",
    "for key in Counts.keys():\n",
    "    if Counts[key] < 2:\n",
    "        pass\n",
    "    else:\n",
    "        Filtered[key] = Counts[key]\n",
    "print(Filtered)"
   ]
  },
  {
   "cell_type": "markdown",
   "metadata": {},
   "source": [
    "Gensim is another important python text processing package which allows us to use collocations, among other cool methods (which we will explore later weeks)."
   ]
  },
  {
   "cell_type": "code",
   "execution_count": 105,
   "metadata": {},
   "outputs": [],
   "source": [
    "import gensim"
   ]
  },
  {
   "cell_type": "code",
   "execution_count": 106,
   "metadata": {},
   "outputs": [],
   "source": [
    "bigram = gensim.models.Phrases(whReleases['normalized_tokens'])"
   ]
  },
  {
   "cell_type": "code",
   "execution_count": 107,
   "metadata": {},
   "outputs": [],
   "source": [
    "texts = [bigram[line] for line in whReleases['normalized_tokens']]"
   ]
  },
  {
   "cell_type": "code",
   "execution_count": 109,
   "metadata": {},
   "outputs": [],
   "source": [
    "#texts[0]"
   ]
  },
  {
   "cell_type": "markdown",
   "metadata": {},
   "source": [
    "## <span style=\"color:red\">*Exercise 3*</span>\n",
    "\n",
    "<span style=\"color:red\">Construct cells immediately below this that identify statistically significant bigrams, trigrams, quadgrams, higher-order *n*grams and skipgrams. Explore whether these collocations are idiomatic and so irreducible to the semantic sum of their component words. You can do this by examination of conditional frequencies (e.g., what else is 'united' besides the 'United States'). If these phrases are idiomatic, what do they suggest about the culture of the world producing them?\n",
    "\n",
    "<span style=\"color:red\">**Stretch**: In Manning and Schütze's textbook, there Section 5.3.2 explores how to use the *t*-test to find words whose co-occurance patterns best distinguish two words. Implement that and use it to explore phrases in your corpus. For instance, you could tell what words come after \"America\" much more often than after \"Iraq\"?</span> "
   ]
  },
  {
   "cell_type": "markdown",
   "metadata": {},
   "source": [
    "# Named-Entity Recognition\n",
    "\n",
    "Named Entity Recognition (NER) is also a classification task, which identifies named objects. \n",
    "Like every other part of the pipeline, spaCy also tags words with their tagged entity (https://spacy.io/api/entityrecognizer). You can see the full capacity of what spaCy does by checking out: https://spacy.io/usage/linguistic-features.\n",
    "\n",
    "For training the identification of such entities, spaCy uses a deep learning model."
   ]
  },
  {
   "cell_type": "markdown",
   "metadata": {},
   "source": [
    "Let's try it on a basic sentence:"
   ]
  },
  {
   "cell_type": "code",
   "execution_count": 110,
   "metadata": {},
   "outputs": [],
   "source": [
    "sent = nlp(u\"Tom went to IKEA to get some of those delicious Swedish meatballs.\")"
   ]
  },
  {
   "cell_type": "code",
   "execution_count": 111,
   "metadata": {},
   "outputs": [
    {
     "name": "stdout",
     "output_type": "stream",
     "text": [
      "Tom PERSON\n",
      "went \n",
      "to \n",
      "IKEA ORG\n",
      "to \n",
      "get \n",
      "some \n",
      "of \n",
      "those \n",
      "delicious \n",
      "Swedish NORP\n",
      "meatballs \n",
      ". \n"
     ]
    }
   ],
   "source": [
    "for token in sent:\n",
    "    print(token.text, token.ent_type_)"
   ]
  },
  {
   "cell_type": "markdown",
   "metadata": {},
   "source": [
    "For only finding ents-"
   ]
  },
  {
   "cell_type": "code",
   "execution_count": 112,
   "metadata": {},
   "outputs": [
    {
     "name": "stdout",
     "output_type": "stream",
     "text": [
      "Tom PERSON\n",
      "IKEA ORG\n",
      "Swedish NORP\n"
     ]
    }
   ],
   "source": [
    "for ent in sent.ents:\n",
    "    print(ent.text, ent.label_)"
   ]
  },
  {
   "cell_type": "code",
   "execution_count": 113,
   "metadata": {},
   "outputs": [],
   "source": [
    "def tag_sents_ner(sentences):\n",
    "    \"\"\"\n",
    "    function which replicates NLTK ner tagging on sentences.\n",
    "    \"\"\"\n",
    "    new_sents = []\n",
    "    for sentence in sentences:\n",
    "        new_sent = ' '.join(sentence)\n",
    "        new_sents.append(new_sent)\n",
    "    final_string = ' '.join(new_sents)\n",
    "    doc = nlp(final_string)\n",
    "    \n",
    "    pos_sents = []\n",
    "    for sent in doc.sents:\n",
    "        pos_sent = []\n",
    "        for ent in sent.ents:\n",
    "            pos_sent.append((ent.text, ent.label_))\n",
    "        pos_sents.append(pos_sent)\n",
    "    \n",
    "    return pos_sents"
   ]
  },
  {
   "cell_type": "markdown",
   "metadata": {},
   "source": [
    "We can also run NER over our entire corpus:"
   ]
  },
  {
   "cell_type": "code",
   "execution_count": 114,
   "metadata": {},
   "outputs": [],
   "source": [
    "redditTopScores['classified_sents'] = redditTopScores['sentences'].apply(lambda x: tag_sents_ner(x))"
   ]
  },
  {
   "cell_type": "code",
   "execution_count": 115,
   "metadata": {},
   "outputs": [
    {
     "data": {
      "text/plain": [
       "9    [[(Last year, DATE)], [(one, CARDINAL)], [], [...\n",
       "8    [[(First, ORDINAL)], [], [], [(today, DATE)], ...\n",
       "7    [[(my_26_f_with_my_husband_29_m_1_year_he_has_...\n",
       "6    [[(2004, DATE)], [], [], [(30,000, CARDINAL), ...\n",
       "5    [[(Helpdesk, PERSON), (UK, GPE)], [], [], [], ...\n",
       "4    [[], [(Engineer, PERSON)], [(All good, TIME)],...\n",
       "3    [[(the out of hours, TIME)], [], [], [], [], [...\n",
       "2    [[], [], [], [], [(4, CARDINAL)], [], [], [], ...\n",
       "1    [[], [], [], [], [], [], [], [], [], [], [], [...\n",
       "0    [[(normal day, DATE)], [], [], [(recently past...\n",
       "Name: classified_sents, dtype: object"
      ]
     },
     "execution_count": 115,
     "metadata": {},
     "output_type": "execute_result"
    }
   ],
   "source": [
    "redditTopScores['classified_sents']"
   ]
  },
  {
   "cell_type": "markdown",
   "metadata": {},
   "source": [
    "Find the most common entities (which are, of course, boring):"
   ]
  },
  {
   "cell_type": "code",
   "execution_count": 116,
   "metadata": {},
   "outputs": [
    {
     "data": {
      "text/plain": [
       "[('Jack', 14),\n",
       " ('today', 8),\n",
       " ('one', 6),\n",
       " ('Smith', 6),\n",
       " ('Google Bing', 5),\n",
       " ('Boss', 5),\n",
       " ('4', 4),\n",
       " ('two', 4),\n",
       " ('9', 3),\n",
       " ('second', 3)]"
      ]
     },
     "execution_count": 116,
     "metadata": {},
     "output_type": "execute_result"
    }
   ],
   "source": [
    "entityCounts = {}\n",
    "for entry in redditTopScores['classified_sents']:\n",
    "    for sentence in entry:\n",
    "        for ent, kind in sentence:\n",
    "            if ent in entityCounts:\n",
    "                entityCounts[ent] += 1\n",
    "            else:\n",
    "                entityCounts[ent] = 1\n",
    "sortedEntities = sorted(entityCounts.items(), key = lambda x: x[1], reverse = True)\n",
    "sortedEntities[:10]"
   ]
  },
  {
   "cell_type": "markdown",
   "metadata": {},
   "source": [
    "Or those occurring only twice:"
   ]
  },
  {
   "cell_type": "code",
   "execution_count": 117,
   "metadata": {},
   "outputs": [
    {
     "data": {
      "text/plain": [
       "['Windows',\n",
       " 'first',\n",
       " '3',\n",
       " '5',\n",
       " '10',\n",
       " 'each day',\n",
       " '30k',\n",
       " 'hours',\n",
       " 'last week',\n",
       " 'three',\n",
       " 'Usr',\n",
       " 'last Thursday']"
      ]
     },
     "execution_count": 117,
     "metadata": {},
     "output_type": "execute_result"
    }
   ],
   "source": [
    "[x[0] for x in sortedEntities if x[1] == 2]"
   ]
  },
  {
   "cell_type": "markdown",
   "metadata": {},
   "source": [
    "We could also list the most common \"non-objects\". (We note that we're not graphing these because there are so few here.)"
   ]
  },
  {
   "cell_type": "code",
   "execution_count": 118,
   "metadata": {},
   "outputs": [
    {
     "data": {
      "text/plain": [
       "[('Jack', 14),\n",
       " ('today', 8),\n",
       " ('one', 6),\n",
       " ('Smith', 6),\n",
       " ('Google Bing', 5),\n",
       " ('4', 4),\n",
       " ('two', 4),\n",
       " ('Boss', 4),\n",
       " ('9', 3),\n",
       " ('second', 3)]"
      ]
     },
     "execution_count": 118,
     "metadata": {},
     "output_type": "execute_result"
    }
   ],
   "source": [
    "nonObjCounts = {}\n",
    "for entry in redditTopScores['classified_sents']:\n",
    "    for sentence in entry:\n",
    "        for ent, kind in sentence:\n",
    "            if kind == 'ORG':\n",
    "                continue\n",
    "            elif ent in nonObjCounts:\n",
    "                nonObjCounts[ent] += 1\n",
    "            else:\n",
    "                nonObjCounts[ent] = 1\n",
    "sortedNonObj = sorted(nonObjCounts.items(), key = lambda x: x[1], reverse = True)\n",
    "sortedNonObj[:10]"
   ]
  },
  {
   "cell_type": "markdown",
   "metadata": {},
   "source": [
    "What about the Organizations?"
   ]
  },
  {
   "cell_type": "code",
   "execution_count": 119,
   "metadata": {},
   "outputs": [
    {
     "name": "stdout",
     "output_type": "stream",
     "text": [
      "Computer C O M P U T E\n",
      "CAPITAL P. NUMBER FOUR\n",
      "X'mas\n",
      "6 Needless\n",
      "picture](http://imgur.com\n",
      "Email\n",
      "REAL\n",
      "POS\n",
      "COM\n",
      "CMD\n",
      "UGHHHHH\n",
      "Edit\n",
      "Bing Search\n",
      "Google Chrome\n",
      "Caller\n",
      "Boss Wife 's\n",
      "Boss\n",
      "USB\n",
      "Boss 's Wife\n",
      "Edit 2\n",
      "TodaysDate\n",
      "Proceed\n",
      "Usr\n"
     ]
    }
   ],
   "source": [
    "OrgCounts = {}\n",
    "for entry in redditTopScores['classified_sents']:\n",
    "    for sentence in entry:\n",
    "        for ent, kind in sentence:\n",
    "            if kind == 'ORG':\n",
    "                print(ent)"
   ]
  },
  {
   "cell_type": "markdown",
   "metadata": {},
   "source": [
    "These, of course, have much smaller counts.\n",
    "\n",
    "In this particular example we didn't find the most interesting entities - you can remedy that in exercise 4!"
   ]
  },
  {
   "cell_type": "markdown",
   "metadata": {},
   "source": [
    "## <span style=\"color:red\">*Exercise 4*</span>\n",
    "\n",
    "<span style=\"color:red\">In the cells immediately following, perform NER on a (modest) subset of your corpus of interest. List all of the different kinds of entities tagged? What does their distribution suggest about the focus of your corpus? For a subset of your corpus, tally at least one type of named entity and calculate the Precision, Recall and F-score for the NER classification just performed."
   ]
  },
  {
   "cell_type": "markdown",
   "metadata": {},
   "source": [
    "## Dependency parsing and graph representations\n",
    "\n",
    "Dependency parsing was developed to robustly capture linguistic dependencies from text. The complex tags associated with these parses are detailed [here]('http://universaldependencies.org/u/overview/syntax.html'). When parsing with the dependency parser, we will work directly from the untokenized text. Note that no *processing* takes place before parsing sentences--we do not remove so-called stop words or anything that plays a syntactic role in the sentence, although anaphora resolution and related normalization may be performed before or after parsing to enhance the value of information extraction. "
   ]
  },
  {
   "cell_type": "markdown",
   "metadata": {},
   "source": [
    "We will be using spaCy's built in dependancy parser to go about exploring the tree.\n",
    "Note that unlike previous examples, large corpuses or collections of sentences don't give us as much information, so we will be navigating smaller sentences.\n",
    "\n",
    "Let us start by exploring noun chunks. Noun chunks are “base noun phrases” – flat phrases that have a noun as their head. You can think of noun chunks as a noun plus the words describing the noun – for example, “the lavish green grass” or “the world’s largest tech fund”. To get the noun chunks in a document, simply iterate over the sentences noun chunks."
   ]
  },
  {
   "cell_type": "code",
   "execution_count": 120,
   "metadata": {},
   "outputs": [],
   "source": [
    "from spacy import displacy"
   ]
  },
  {
   "cell_type": "code",
   "execution_count": 121,
   "metadata": {},
   "outputs": [],
   "source": [
    "doc = nlp(\"Autonomous cars shift insurance liability toward manufacturers\")"
   ]
  },
  {
   "cell_type": "code",
   "execution_count": 122,
   "metadata": {},
   "outputs": [
    {
     "data": {
      "text/html": [
       "<span class=\"tex2jax_ignore\"><svg xmlns=\"http://www.w3.org/2000/svg\" xmlns:xlink=\"http://www.w3.org/1999/xlink\" xml:lang=\"en\" id=\"96e5b39895074f258967f16f89af2be9-0\" class=\"displacy\" width=\"1275\" height=\"312.0\" direction=\"ltr\" style=\"max-width: none; height: 312.0px; color: #000000; background: #ffffff; font-family: Arial; direction: ltr\">\n",
       "<text class=\"displacy-token\" fill=\"currentColor\" text-anchor=\"middle\" y=\"222.0\">\n",
       "    <tspan class=\"displacy-word\" fill=\"currentColor\" x=\"50\">Autonomous</tspan>\n",
       "    <tspan class=\"displacy-tag\" dy=\"2em\" fill=\"currentColor\" x=\"50\">ADJ</tspan>\n",
       "</text>\n",
       "\n",
       "<text class=\"displacy-token\" fill=\"currentColor\" text-anchor=\"middle\" y=\"222.0\">\n",
       "    <tspan class=\"displacy-word\" fill=\"currentColor\" x=\"225\">cars</tspan>\n",
       "    <tspan class=\"displacy-tag\" dy=\"2em\" fill=\"currentColor\" x=\"225\">NOUN</tspan>\n",
       "</text>\n",
       "\n",
       "<text class=\"displacy-token\" fill=\"currentColor\" text-anchor=\"middle\" y=\"222.0\">\n",
       "    <tspan class=\"displacy-word\" fill=\"currentColor\" x=\"400\">shift</tspan>\n",
       "    <tspan class=\"displacy-tag\" dy=\"2em\" fill=\"currentColor\" x=\"400\">VERB</tspan>\n",
       "</text>\n",
       "\n",
       "<text class=\"displacy-token\" fill=\"currentColor\" text-anchor=\"middle\" y=\"222.0\">\n",
       "    <tspan class=\"displacy-word\" fill=\"currentColor\" x=\"575\">insurance</tspan>\n",
       "    <tspan class=\"displacy-tag\" dy=\"2em\" fill=\"currentColor\" x=\"575\">NOUN</tspan>\n",
       "</text>\n",
       "\n",
       "<text class=\"displacy-token\" fill=\"currentColor\" text-anchor=\"middle\" y=\"222.0\">\n",
       "    <tspan class=\"displacy-word\" fill=\"currentColor\" x=\"750\">liability</tspan>\n",
       "    <tspan class=\"displacy-tag\" dy=\"2em\" fill=\"currentColor\" x=\"750\">NOUN</tspan>\n",
       "</text>\n",
       "\n",
       "<text class=\"displacy-token\" fill=\"currentColor\" text-anchor=\"middle\" y=\"222.0\">\n",
       "    <tspan class=\"displacy-word\" fill=\"currentColor\" x=\"925\">toward</tspan>\n",
       "    <tspan class=\"displacy-tag\" dy=\"2em\" fill=\"currentColor\" x=\"925\">ADP</tspan>\n",
       "</text>\n",
       "\n",
       "<text class=\"displacy-token\" fill=\"currentColor\" text-anchor=\"middle\" y=\"222.0\">\n",
       "    <tspan class=\"displacy-word\" fill=\"currentColor\" x=\"1100\">manufacturers</tspan>\n",
       "    <tspan class=\"displacy-tag\" dy=\"2em\" fill=\"currentColor\" x=\"1100\">NOUN</tspan>\n",
       "</text>\n",
       "\n",
       "<g class=\"displacy-arrow\">\n",
       "    <path class=\"displacy-arc\" id=\"arrow-96e5b39895074f258967f16f89af2be9-0-0\" stroke-width=\"2px\" d=\"M70,177.0 C70,89.5 220.0,89.5 220.0,177.0\" fill=\"none\" stroke=\"currentColor\"/>\n",
       "    <text dy=\"1.25em\" style=\"font-size: 0.8em; letter-spacing: 1px\">\n",
       "        <textPath xlink:href=\"#arrow-96e5b39895074f258967f16f89af2be9-0-0\" class=\"displacy-label\" startOffset=\"50%\" side=\"left\" fill=\"currentColor\" text-anchor=\"middle\">amod</textPath>\n",
       "    </text>\n",
       "    <path class=\"displacy-arrowhead\" d=\"M70,179.0 L62,167.0 78,167.0\" fill=\"currentColor\"/>\n",
       "</g>\n",
       "\n",
       "<g class=\"displacy-arrow\">\n",
       "    <path class=\"displacy-arc\" id=\"arrow-96e5b39895074f258967f16f89af2be9-0-1\" stroke-width=\"2px\" d=\"M245,177.0 C245,89.5 395.0,89.5 395.0,177.0\" fill=\"none\" stroke=\"currentColor\"/>\n",
       "    <text dy=\"1.25em\" style=\"font-size: 0.8em; letter-spacing: 1px\">\n",
       "        <textPath xlink:href=\"#arrow-96e5b39895074f258967f16f89af2be9-0-1\" class=\"displacy-label\" startOffset=\"50%\" side=\"left\" fill=\"currentColor\" text-anchor=\"middle\">nsubj</textPath>\n",
       "    </text>\n",
       "    <path class=\"displacy-arrowhead\" d=\"M245,179.0 L237,167.0 253,167.0\" fill=\"currentColor\"/>\n",
       "</g>\n",
       "\n",
       "<g class=\"displacy-arrow\">\n",
       "    <path class=\"displacy-arc\" id=\"arrow-96e5b39895074f258967f16f89af2be9-0-2\" stroke-width=\"2px\" d=\"M595,177.0 C595,89.5 745.0,89.5 745.0,177.0\" fill=\"none\" stroke=\"currentColor\"/>\n",
       "    <text dy=\"1.25em\" style=\"font-size: 0.8em; letter-spacing: 1px\">\n",
       "        <textPath xlink:href=\"#arrow-96e5b39895074f258967f16f89af2be9-0-2\" class=\"displacy-label\" startOffset=\"50%\" side=\"left\" fill=\"currentColor\" text-anchor=\"middle\">compound</textPath>\n",
       "    </text>\n",
       "    <path class=\"displacy-arrowhead\" d=\"M595,179.0 L587,167.0 603,167.0\" fill=\"currentColor\"/>\n",
       "</g>\n",
       "\n",
       "<g class=\"displacy-arrow\">\n",
       "    <path class=\"displacy-arc\" id=\"arrow-96e5b39895074f258967f16f89af2be9-0-3\" stroke-width=\"2px\" d=\"M420,177.0 C420,2.0 750.0,2.0 750.0,177.0\" fill=\"none\" stroke=\"currentColor\"/>\n",
       "    <text dy=\"1.25em\" style=\"font-size: 0.8em; letter-spacing: 1px\">\n",
       "        <textPath xlink:href=\"#arrow-96e5b39895074f258967f16f89af2be9-0-3\" class=\"displacy-label\" startOffset=\"50%\" side=\"left\" fill=\"currentColor\" text-anchor=\"middle\">dobj</textPath>\n",
       "    </text>\n",
       "    <path class=\"displacy-arrowhead\" d=\"M750.0,179.0 L758.0,167.0 742.0,167.0\" fill=\"currentColor\"/>\n",
       "</g>\n",
       "\n",
       "<g class=\"displacy-arrow\">\n",
       "    <path class=\"displacy-arc\" id=\"arrow-96e5b39895074f258967f16f89af2be9-0-4\" stroke-width=\"2px\" d=\"M770,177.0 C770,89.5 920.0,89.5 920.0,177.0\" fill=\"none\" stroke=\"currentColor\"/>\n",
       "    <text dy=\"1.25em\" style=\"font-size: 0.8em; letter-spacing: 1px\">\n",
       "        <textPath xlink:href=\"#arrow-96e5b39895074f258967f16f89af2be9-0-4\" class=\"displacy-label\" startOffset=\"50%\" side=\"left\" fill=\"currentColor\" text-anchor=\"middle\">prep</textPath>\n",
       "    </text>\n",
       "    <path class=\"displacy-arrowhead\" d=\"M920.0,179.0 L928.0,167.0 912.0,167.0\" fill=\"currentColor\"/>\n",
       "</g>\n",
       "\n",
       "<g class=\"displacy-arrow\">\n",
       "    <path class=\"displacy-arc\" id=\"arrow-96e5b39895074f258967f16f89af2be9-0-5\" stroke-width=\"2px\" d=\"M945,177.0 C945,89.5 1095.0,89.5 1095.0,177.0\" fill=\"none\" stroke=\"currentColor\"/>\n",
       "    <text dy=\"1.25em\" style=\"font-size: 0.8em; letter-spacing: 1px\">\n",
       "        <textPath xlink:href=\"#arrow-96e5b39895074f258967f16f89af2be9-0-5\" class=\"displacy-label\" startOffset=\"50%\" side=\"left\" fill=\"currentColor\" text-anchor=\"middle\">pobj</textPath>\n",
       "    </text>\n",
       "    <path class=\"displacy-arrowhead\" d=\"M1095.0,179.0 L1103.0,167.0 1087.0,167.0\" fill=\"currentColor\"/>\n",
       "</g>\n",
       "</svg></span>"
      ],
      "text/plain": [
       "<IPython.core.display.HTML object>"
      ]
     },
     "metadata": {},
     "output_type": "display_data"
    }
   ],
   "source": [
    "displacy.render(doc, style='dep')"
   ]
  },
  {
   "cell_type": "code",
   "execution_count": 123,
   "metadata": {},
   "outputs": [
    {
     "name": "stdout",
     "output_type": "stream",
     "text": [
      "Autonomous cars cars nsubj shift\n",
      "insurance liability liability dobj shift\n",
      "manufacturers manufacturers pobj toward\n"
     ]
    }
   ],
   "source": [
    "for chunk in doc.noun_chunks:\n",
    "    print(chunk.text, chunk.root.text, chunk.root.dep_, chunk.root.head.text)"
   ]
  },
  {
   "cell_type": "markdown",
   "metadata": {},
   "source": [
    "spaCy uses the terms head and child to describe the words connected by a single arc in the dependency tree. The term dep is used for the arc label, which describes the type of syntactic relation that connects the child to the head. As with other attributes, the value of .dep is a hash value. You can get the string value with .dep_.\n",
    "\n",
    "For your reference:\n",
    "\n",
    "Text: The original token text.\n",
    "\n",
    "Dep: The syntactic relation connecting child to head.\n",
    "\n",
    "Head text: The original text of the token head.\n",
    "\n",
    "Head POS: The part-of-speech tag of the token head.\n",
    "\n",
    "Children: The immediate syntactic dependents of the token."
   ]
  },
  {
   "cell_type": "code",
   "execution_count": 124,
   "metadata": {},
   "outputs": [
    {
     "name": "stdout",
     "output_type": "stream",
     "text": [
      "Autonomous amod cars NOUN []\n",
      "cars nsubj shift VERB [Autonomous]\n",
      "shift ROOT shift VERB [cars, liability]\n",
      "insurance compound liability NOUN []\n",
      "liability dobj shift VERB [insurance, toward]\n",
      "toward prep liability NOUN [manufacturers]\n",
      "manufacturers pobj toward ADP []\n"
     ]
    }
   ],
   "source": [
    "for token in doc:\n",
    "    print(token.text, token.dep_, token.head.text, token.head.pos_,\n",
    "            [child for child in token.children])"
   ]
  },
  {
   "cell_type": "markdown",
   "metadata": {},
   "source": [
    "Because the syntactic relations form a tree, every word has exactly one head. You can therefore iterate over the arcs in the tree by iterating over the words in the sentence. This is usually the best way to match an arc of interest — from below:"
   ]
  },
  {
   "cell_type": "code",
   "execution_count": 125,
   "metadata": {},
   "outputs": [],
   "source": [
    "from spacy.symbols import nsubj, VERB"
   ]
  },
  {
   "cell_type": "code",
   "execution_count": 126,
   "metadata": {},
   "outputs": [
    {
     "name": "stdout",
     "output_type": "stream",
     "text": [
      "{shift}\n"
     ]
    }
   ],
   "source": [
    "verbs = set()\n",
    "for possible_subject in doc:\n",
    "    if possible_subject.dep == nsubj and possible_subject.head.pos == VERB:\n",
    "        verbs.add(possible_subject.head)\n",
    "print(verbs)"
   ]
  },
  {
   "cell_type": "markdown",
   "metadata": {},
   "source": [
    "You can *also* navigate from above. It isn't as efficient though."
   ]
  },
  {
   "cell_type": "code",
   "execution_count": 127,
   "metadata": {},
   "outputs": [],
   "source": [
    "verbs = []\n",
    "for possible_verb in doc:\n",
    "    if possible_verb.pos == VERB:\n",
    "        for possible_subject in possible_verb.children:\n",
    "            if possible_subject.dep == nsubj:\n",
    "                verbs.append(possible_verb)\n",
    "                break"
   ]
  },
  {
   "cell_type": "code",
   "execution_count": 128,
   "metadata": {},
   "outputs": [
    {
     "name": "stdout",
     "output_type": "stream",
     "text": [
      "[shift]\n"
     ]
    }
   ],
   "source": [
    "print(verbs)"
   ]
  },
  {
   "cell_type": "markdown",
   "metadata": {},
   "source": [
    "### Iterating around the local tree\n",
    "A few more convenience attributes are provided for iterating around the local tree from the token. Token.lefts and Token.rights attributes provide sequences of syntactic children that occur before and after the token. Both sequences are in sentence order. There are also two integer-typed attributes, Token.n_lefts and Token.n_rights that give the number of left and right children."
   ]
  },
  {
   "cell_type": "code",
   "execution_count": 129,
   "metadata": {},
   "outputs": [
    {
     "name": "stdout",
     "output_type": "stream",
     "text": [
      "['bright', 'red']\n",
      "['on']\n",
      "2\n",
      "1\n"
     ]
    }
   ],
   "source": [
    "doc = nlp(\"bright red apples on the tree\")\n",
    "print([token.text for token in doc[2].lefts])  # ['bright', 'red']\n",
    "print([token.text for token in doc[2].rights])  # ['on']\n",
    "print(doc[2].n_lefts)  # 2\n",
    "print(doc[2].n_rights)  # 1"
   ]
  },
  {
   "cell_type": "markdown",
   "metadata": {},
   "source": [
    "You can get a whole phrase by its syntactic head using the Token.subtree attribute. This returns an ordered sequence of tokens. You can walk up the tree with the Token.ancestors attribute, and check dominance with Token.is_ancestor"
   ]
  },
  {
   "cell_type": "code",
   "execution_count": 130,
   "metadata": {},
   "outputs": [
    {
     "name": "stdout",
     "output_type": "stream",
     "text": [
      "Credit nmod 0 2 ['holders', 'submit']\n",
      "and cc 0 0 ['Credit', 'holders', 'submit']\n",
      "mortgage compound 0 0 ['account', 'Credit', 'holders', 'submit']\n",
      "account conj 1 0 ['Credit', 'holders', 'submit']\n",
      "holders nsubj 1 0 ['submit']\n"
     ]
    }
   ],
   "source": [
    "doc = nlp(\"Credit and mortgage account holders must submit their requests\")\n",
    "\n",
    "root = [token for token in doc if token.head == token][0]\n",
    "subject = list(root.lefts)[0]\n",
    "for descendant in subject.subtree:\n",
    "    assert subject is descendant or subject.is_ancestor(descendant)\n",
    "    print(descendant.text, descendant.dep_, descendant.n_lefts,\n",
    "            descendant.n_rights,\n",
    "            [ancestor.text for ancestor in descendant.ancestors])"
   ]
  },
  {
   "cell_type": "markdown",
   "metadata": {},
   "source": [
    "Finally, the .left_edge and .right_edge attributes can be especially useful, because they give you the first and last token of the subtree. This is the easiest way to create a Span object for a syntactic phrase. Note that .right_edge gives a token within the subtree — so if you use it as the end-point of a range, don’t forget to +1!"
   ]
  },
  {
   "cell_type": "code",
   "execution_count": 131,
   "metadata": {},
   "outputs": [
    {
     "name": "stdout",
     "output_type": "stream",
     "text": [
      "Credit and mortgage account holders NOUN nsubj submit\n",
      "must VERB aux submit\n",
      "submit VERB ROOT submit\n",
      "their DET poss requests\n",
      "requests NOUN dobj submit\n"
     ]
    }
   ],
   "source": [
    "span = doc[doc[4].left_edge.i : doc[4].right_edge.i+1]\n",
    "with doc.retokenize() as retokenizer:\n",
    "    retokenizer.merge(span)\n",
    "for token in doc:\n",
    "    print(token.text, token.pos_, token.dep_, token.head.text)"
   ]
  },
  {
   "cell_type": "code",
   "execution_count": 132,
   "metadata": {},
   "outputs": [
    {
     "data": {
      "text/html": [
       "<span class=\"tex2jax_ignore\"><svg xmlns=\"http://www.w3.org/2000/svg\" xmlns:xlink=\"http://www.w3.org/1999/xlink\" xml:lang=\"en\" id=\"e29d24aae78643c6b88d7a9005fd9f60-0\" class=\"displacy\" width=\"925\" height=\"312.0\" direction=\"ltr\" style=\"max-width: none; height: 312.0px; color: #000000; background: #ffffff; font-family: Arial; direction: ltr\">\n",
       "<text class=\"displacy-token\" fill=\"currentColor\" text-anchor=\"middle\" y=\"222.0\">\n",
       "    <tspan class=\"displacy-word\" fill=\"currentColor\" x=\"50\">Credit and mortgage account holders</tspan>\n",
       "    <tspan class=\"displacy-tag\" dy=\"2em\" fill=\"currentColor\" x=\"50\">NOUN</tspan>\n",
       "</text>\n",
       "\n",
       "<text class=\"displacy-token\" fill=\"currentColor\" text-anchor=\"middle\" y=\"222.0\">\n",
       "    <tspan class=\"displacy-word\" fill=\"currentColor\" x=\"225\">must</tspan>\n",
       "    <tspan class=\"displacy-tag\" dy=\"2em\" fill=\"currentColor\" x=\"225\">VERB</tspan>\n",
       "</text>\n",
       "\n",
       "<text class=\"displacy-token\" fill=\"currentColor\" text-anchor=\"middle\" y=\"222.0\">\n",
       "    <tspan class=\"displacy-word\" fill=\"currentColor\" x=\"400\">submit</tspan>\n",
       "    <tspan class=\"displacy-tag\" dy=\"2em\" fill=\"currentColor\" x=\"400\">VERB</tspan>\n",
       "</text>\n",
       "\n",
       "<text class=\"displacy-token\" fill=\"currentColor\" text-anchor=\"middle\" y=\"222.0\">\n",
       "    <tspan class=\"displacy-word\" fill=\"currentColor\" x=\"575\">their</tspan>\n",
       "    <tspan class=\"displacy-tag\" dy=\"2em\" fill=\"currentColor\" x=\"575\">DET</tspan>\n",
       "</text>\n",
       "\n",
       "<text class=\"displacy-token\" fill=\"currentColor\" text-anchor=\"middle\" y=\"222.0\">\n",
       "    <tspan class=\"displacy-word\" fill=\"currentColor\" x=\"750\">requests</tspan>\n",
       "    <tspan class=\"displacy-tag\" dy=\"2em\" fill=\"currentColor\" x=\"750\">NOUN</tspan>\n",
       "</text>\n",
       "\n",
       "<g class=\"displacy-arrow\">\n",
       "    <path class=\"displacy-arc\" id=\"arrow-e29d24aae78643c6b88d7a9005fd9f60-0-0\" stroke-width=\"2px\" d=\"M70,177.0 C70,2.0 400.0,2.0 400.0,177.0\" fill=\"none\" stroke=\"currentColor\"/>\n",
       "    <text dy=\"1.25em\" style=\"font-size: 0.8em; letter-spacing: 1px\">\n",
       "        <textPath xlink:href=\"#arrow-e29d24aae78643c6b88d7a9005fd9f60-0-0\" class=\"displacy-label\" startOffset=\"50%\" side=\"left\" fill=\"currentColor\" text-anchor=\"middle\">nsubj</textPath>\n",
       "    </text>\n",
       "    <path class=\"displacy-arrowhead\" d=\"M70,179.0 L62,167.0 78,167.0\" fill=\"currentColor\"/>\n",
       "</g>\n",
       "\n",
       "<g class=\"displacy-arrow\">\n",
       "    <path class=\"displacy-arc\" id=\"arrow-e29d24aae78643c6b88d7a9005fd9f60-0-1\" stroke-width=\"2px\" d=\"M245,177.0 C245,89.5 395.0,89.5 395.0,177.0\" fill=\"none\" stroke=\"currentColor\"/>\n",
       "    <text dy=\"1.25em\" style=\"font-size: 0.8em; letter-spacing: 1px\">\n",
       "        <textPath xlink:href=\"#arrow-e29d24aae78643c6b88d7a9005fd9f60-0-1\" class=\"displacy-label\" startOffset=\"50%\" side=\"left\" fill=\"currentColor\" text-anchor=\"middle\">aux</textPath>\n",
       "    </text>\n",
       "    <path class=\"displacy-arrowhead\" d=\"M245,179.0 L237,167.0 253,167.0\" fill=\"currentColor\"/>\n",
       "</g>\n",
       "\n",
       "<g class=\"displacy-arrow\">\n",
       "    <path class=\"displacy-arc\" id=\"arrow-e29d24aae78643c6b88d7a9005fd9f60-0-2\" stroke-width=\"2px\" d=\"M595,177.0 C595,89.5 745.0,89.5 745.0,177.0\" fill=\"none\" stroke=\"currentColor\"/>\n",
       "    <text dy=\"1.25em\" style=\"font-size: 0.8em; letter-spacing: 1px\">\n",
       "        <textPath xlink:href=\"#arrow-e29d24aae78643c6b88d7a9005fd9f60-0-2\" class=\"displacy-label\" startOffset=\"50%\" side=\"left\" fill=\"currentColor\" text-anchor=\"middle\">poss</textPath>\n",
       "    </text>\n",
       "    <path class=\"displacy-arrowhead\" d=\"M595,179.0 L587,167.0 603,167.0\" fill=\"currentColor\"/>\n",
       "</g>\n",
       "\n",
       "<g class=\"displacy-arrow\">\n",
       "    <path class=\"displacy-arc\" id=\"arrow-e29d24aae78643c6b88d7a9005fd9f60-0-3\" stroke-width=\"2px\" d=\"M420,177.0 C420,2.0 750.0,2.0 750.0,177.0\" fill=\"none\" stroke=\"currentColor\"/>\n",
       "    <text dy=\"1.25em\" style=\"font-size: 0.8em; letter-spacing: 1px\">\n",
       "        <textPath xlink:href=\"#arrow-e29d24aae78643c6b88d7a9005fd9f60-0-3\" class=\"displacy-label\" startOffset=\"50%\" side=\"left\" fill=\"currentColor\" text-anchor=\"middle\">dobj</textPath>\n",
       "    </text>\n",
       "    <path class=\"displacy-arrowhead\" d=\"M750.0,179.0 L758.0,167.0 742.0,167.0\" fill=\"currentColor\"/>\n",
       "</g>\n",
       "</svg></span>"
      ],
      "text/plain": [
       "<IPython.core.display.HTML object>"
      ]
     },
     "metadata": {},
     "output_type": "display_data"
    }
   ],
   "source": [
    "displacy.render(doc, style='dep')"
   ]
  },
  {
   "cell_type": "markdown",
   "metadata": {},
   "source": [
    "### Information Extraction\n",
    "\n",
    "How can dependancy graphs be useful? We can extract information from the sentences based on relationships between words within parsed phrases. Let us see if we can do this to glean any information, from, say, our movies dataset. \n",
    "\n",
    "How violent are the movies? Who is killing who?"
   ]
  },
  {
   "cell_type": "code",
   "execution_count": 133,
   "metadata": {},
   "outputs": [],
   "source": [
    "movie_violences = {}"
   ]
  },
  {
   "cell_type": "code",
   "execution_count": 134,
   "metadata": {},
   "outputs": [
    {
     "name": "stderr",
     "output_type": "stream",
     "text": [
      "<>:15: SyntaxWarning: \"is not\" with a literal. Did you mean \"!=\"?\n",
      "<>:17: SyntaxWarning: \"is not\" with a literal. Did you mean \"!=\"?\n",
      "<>:15: SyntaxWarning: \"is not\" with a literal. Did you mean \"!=\"?\n",
      "<>:17: SyntaxWarning: \"is not\" with a literal. Did you mean \"!=\"?\n",
      "<ipython-input-134-9d395d491929>:15: SyntaxWarning: \"is not\" with a literal. Did you mean \"!=\"?\n",
      "  if subject is not 0:\n",
      "<ipython-input-134-9d395d491929>:17: SyntaxWarning: \"is not\" with a literal. Did you mean \"!=\"?\n",
      "  if object_ is not 0:\n"
     ]
    }
   ],
   "source": [
    "for index, row in movie_df.iterrows():\n",
    "    text = ' '.join(row['Tokenized Texts'])\n",
    "    movie_violences[row['Movie Name']] = ([], [])\n",
    "    doc = nlp(text)\n",
    "    for chunk in doc.noun_chunks:\n",
    "        subject = 0\n",
    "        object_ = 0\n",
    "        # if the verb or the root of the sentence is kill\n",
    "        if chunk.root.head.text == 'kill':\n",
    "            # we find the subjects and objects around the word, and if it does exist, add it to the tuple\n",
    "            if chunk.root.dep_ == 'nsubj':\n",
    "                subject = chunk.root.text\n",
    "            if chunk.root.dep_ == 'dobj':\n",
    "                object_ = chunk.root.text\n",
    "            if subject is not 0:\n",
    "                movie_violences[row['Movie Name']][0].append(subject)\n",
    "            if object_ is not 0:\n",
    "                movie_violences[row['Movie Name']][1].append(object_)"
   ]
  },
  {
   "cell_type": "code",
   "execution_count": 135,
   "metadata": {},
   "outputs": [
    {
     "data": {
      "text/plain": [
       "{'Animal Crackers': ([], []),\n",
       " 'Anna Christie': (['I', 'I'], ['them', 'you', 'Glory', 'you']),\n",
       " 'Ladies of Leisure': ([], []),\n",
       " 'Over the Hill': ([], ['Thou', 'Ma']),\n",
       " 'Design for Living': ([], []),\n",
       " 'Lady for a Day': (['It'], ['yourself', 'Louise']),\n",
       " 'Lady Killer': ([], ['horse']),\n",
       " 'The Mind Reader': (['woman'], ['herself']),\n",
       " 'Here Is My Heart': ([], ['herself']),\n",
       " 'Peculiar Penguins': ([], []),\n",
       " 'Sadie McKee': (['You', 'I'], ['SOBBING', 'you']),\n",
       " 'Star of Midnight': (['you', 'I', 'They'],\n",
       "  ['story', 'him', 'him', 'dal', 'her']),\n",
       " 'The Littlest Rebel': (['men'], ['army']),\n",
       " 'The Robber Kitten': ([], []),\n",
       " 'Charlie Chan at the Circus': ([], []),\n",
       " 'Charlie Chan at the Opera': (['I'], ['me', 'him', 'you', 'intrusion']),\n",
       " 'Charlie Chan at the Race Track': (['shoe', 'you'], ['major']),\n",
       " 'The Prisoner of Shark Island': (['government'], ['husband']),\n",
       " 'The Prince and the Pauper': ([], ['me']),\n",
       " 'The Lady Vanishes': (['They'], ['lot']),\n",
       " 'Holiday': ([], []),\n",
       " \"Donald's Cousin Gus\": ([], []),\n",
       " 'A Chump at Oxford': ([], []),\n",
       " 'I Wake Up Screaming': (['He', 'I', 'I'],\n",
       "  ['you', 'mice', 'her', 'me', 'anybody']),\n",
       " \"Sullivan's Travels\": ([], ['Huh']),\n",
       " 'Sun Valley Serenade': ([], []),\n",
       " 'Fly-By-Night': (['He', 'they'], ['me', 'us', 'us', 'man', 'you']),\n",
       " 'Now, Voyager': ([], []),\n",
       " 'The Boogie Man Will Get You': (['You', 'I'], ['him', 'nobody']),\n",
       " 'The Outlaw': (['you', 'he', 'you'],\n",
       "  ['him', 'him', 'ya', 'him', 'him', 'you']),\n",
       " 'The Seventh Victim': ([], []),\n",
       " 'Tin Pan Alley Cats': ([], []),\n",
       " 'Between Two Worlds': ([], []),\n",
       " \"Frenchman's Creek\": (['I'], ['you', 'you', 'Gentlemen', 'me']),\n",
       " \"I'll Be Seeing You\": ([], []),\n",
       " 'A Royal Scandal': (['They'], ['me', 'Alexei']),\n",
       " 'The Naughty Nineties': (['We'], ['time']),\n",
       " 'Dreams That Money Can Buy': ([], []),\n",
       " 'Smash-Up: The Story of a Woman': ([], []),\n",
       " 'The Unsuspected': (['I', 'I', 'I', 'Nothing', 'Oliver'],\n",
       "  ['her', 'you', 'you', 'you', 'anybody', 'me']),\n",
       " 'Road House': (['You', 'I', 'You', 'I', 'I', 'I', 'You', 'You'],\n",
       "  ['me', 'you', 'baby', 'me', 'Susie', 'you', 'you', 'me', 'Jefty']),\n",
       " 'Whisky Galore': ([], []),\n",
       " 'Champion': (['I', 'I'], ['him', 'you', 'you']),\n",
       " 'Sands of Iwo Jima': ([], ['me']),\n",
       " 'White Heat': (['You', 'Ed'], ['me', 'you', 'Cody', 'her']),\n",
       " 'The Happiest Days of Your Life': ([], []),\n",
       " 'This Side of the Law': (['I', 'I', 'Calder', 'I'],\n",
       "  ['you', 'you', 'anyone', 'you', 'you']),\n",
       " 'Whirlpool': (['him', 'he', 'I'],\n",
       "  ['her', 'her', 'her', 'woman', 'her', 'me', 'you']),\n",
       " 'Five': ([], ['yourself']),\n",
       " 'Fixed Bayonets!': (['I', 'you'], ['man', 'fire', 'men', 'man', 'him']),\n",
       " 'Sirocco': (['I', 'I', 'Frenchmen', 'I', 'You'],\n",
       "  ['you', 'you', 'lot', 'lot', 'me']),\n",
       " 'The Big Night': (['I', 'Frances', 'Frances', 'I', 'They', 'father'],\n",
       "  ['ya', 'YOU', 'herself', 'herself', 'him', 'YOU', 'him', 'Judge']),\n",
       " 'The Company She Keeps': ([], []),\n",
       " 'My Son John': (['it', 'he', 'What'], ['him', 'you', 'him', 'mother']),\n",
       " 'The Little House': ([], []),\n",
       " 'The World in His Arms': (['he', 'they'],\n",
       "  ['partner', 'him', 'seal', 'anything', 'you', 'us', 'seals']),\n",
       " 'Gilbert and Sullivan': ([], []),\n",
       " 'The Juggler': (['We', 'You', 'You', 'I', 'you'],\n",
       "  ['people', 'someone', 'him', 'man', 'man', 'man']),\n",
       " 'Man on a Tightrope': (['I'], ['him', 'ZAMA', 'you']),\n",
       " 'Oh... Rosalinda!!': (['I'], ['everything']),\n",
       " 'Touch and Go': (['they', 'you', 'You', 'they', 'I', 'you'],\n",
       "  ['me', 'him', 'man', 'me', 'Mind', 'me', 'me', 'them', 'death', 'her']),\n",
       " 'Artists and Models': ([], []),\n",
       " 'Guys and Dolls': ([], []),\n",
       " 'Man with the Gun': (['Lescaux'], ['Jeff']),\n",
       " 'Man Without a Star': (['I', 'I', 'I', 'I'],\n",
       "  ['it', 'you', 'you', 'Sheriff', 'him', 'you']),\n",
       " 'Soldier of Fortune': ([], []),\n",
       " 'The Proud Ones': (['I', 'pride', 'I', 'pride'],\n",
       "  ['you', 'you', 'you', 'you']),\n",
       " 'Feathers in the Wind': ([], []),\n",
       " 'Peyton Place': (['I', 'She', 'you'], ['me', 'you', 'Japanese', 'me', 'him']),\n",
       " 'The Incredible Shrinking Man': ([], []),\n",
       " 'Until They Sail': ([], []),\n",
       " \"The Horse's Mouth\": ([], []),\n",
       " 'Lafayette Escadrille': ([], []),\n",
       " 'Rock-a-Bye Baby': (['He'], ['me']),\n",
       " 'Operation Amsterdam': (['it'], ['her', 'them']),\n",
       " 'The Man Who Could Cheat Death': ([], []),\n",
       " 'The Gene Krupa Story': ([], []),\n",
       " 'The Manster': ([], []),\n",
       " 'From the Terrace': (['I'], ['you']),\n",
       " 'Journey Beneath the Desert': (['you'], ['you', 'him']),\n",
       " 'Town Without Pity': (['them', 'men', 'I'],\n",
       "  ['me', 'Frank', 'you', 'me', 'somebody']),\n",
       " 'A Kind of Loving': (['You'], ['yourself']),\n",
       " 'Almost Angels': ([], []),\n",
       " 'Sweet Bird of Youth': ([], []),\n",
       " 'The Miracle Worker': ([], []),\n",
       " 'Cheyenne Autumn': ([], ['Indians', 'Injun', 'Injun', 'Indians']),\n",
       " 'The Americanization of Emily': ([], ['me']),\n",
       " 'Hallo Satchmo': ([], []),\n",
       " 'Red Light, Green Light: Meeting Strangers': ([], []),\n",
       " 'Red Line 7000': ([], []),\n",
       " 'The Sons of Katie Elder': (['They'], ['us', 'him']),\n",
       " 'The Plague of the Zombies': (['I', 'I'], ['her', 'her']),\n",
       " 'Lt. Robin Crusoe, U.S.N.': (['god', 'Kill', 'They'],\n",
       "  ['me', 'mash', 'me', 'us']),\n",
       " 'Tarzan and the Great River': (['it'], []),\n",
       " 'Poor Cow': (['I'], ['him']),\n",
       " 'Camelot': (['feud'], ['kin', 'truth', 'us', 'queen', 'people']),\n",
       " 'The Blood of Fu Manchu': (['I', 'I'],\n",
       "  ['regiment', 'him', 'you', 'him', 'poison']),\n",
       " 'Isadora': ([], []),\n",
       " 'Never a Dull Moment': (['who',\n",
       "   'I',\n",
       "   'you',\n",
       "   'I',\n",
       "   'me',\n",
       "   'You',\n",
       "   'It',\n",
       "   'I',\n",
       "   'I',\n",
       "   'you',\n",
       "   'I'],\n",
       "  ['him',\n",
       "   'him',\n",
       "   'you',\n",
       "   'you',\n",
       "   'him',\n",
       "   'him',\n",
       "   'him',\n",
       "   'him',\n",
       "   'guards',\n",
       "   'guards',\n",
       "   'him',\n",
       "   'anybody',\n",
       "   'me']),\n",
       " 'Kes': (['I'], ['git', 'it']),\n",
       " 'The Prime of Miss Jean Brodie': (['what'], ['pray']),\n",
       " 'Marooned': (['bailey'], ['it', 'me', 'me']),\n",
       " 'The Arrangement': (['It', 'I', 'I'],\n",
       "  ['you', 'him', 'spades', 'him', 'Leibman', 'myself', 'Florence', 'look']),\n",
       " 'Hoffman': (['him'], ['you', 'you']),\n",
       " 'Wake in Fright': ([], ['headache', 'people']),\n",
       " 'The Night Visitor': (['I', 'Jenks', 'I', 'I'],\n",
       "  ['Ca',\n",
       "   'man',\n",
       "   'woman',\n",
       "   'people',\n",
       "   'her',\n",
       "   'people',\n",
       "   'you',\n",
       "   'everyone',\n",
       "   'me',\n",
       "   'you',\n",
       "   'sister',\n",
       "   'him',\n",
       "   'it',\n",
       "   'me',\n",
       "   'you',\n",
       "   'him',\n",
       "   'Emmie',\n",
       "   'Ester']),\n",
       " 'The Abominable Dr. Phibes': (['I', 'I', 'I'],\n",
       "  ['you', 'Vesalius', 'everyone', 'you', 'wife']),\n",
       " 'Glen and Randa': ([], []),\n",
       " \"Let's Scare Jessica to Death\": ([], []),\n",
       " 'Shaft': (['they', 'I'], ['Marcy', 'him']),\n",
       " 'The Valachi Papers': (['I', 'we', 'you'],\n",
       "  ['bastard', 'me', 'charge', 'him', 'friend']),\n",
       " 'Avanti!': ([], []),\n",
       " 'Carry On Matron': (['I', 'I'], ['it', 'him', 'him']),\n",
       " 'Tales from the Crypt': (['accident', 'You'], ['him', 'him']),\n",
       " 'Love Comes Quietly': ([], []),\n",
       " 'Jesus Christ Superstar': ([], []),\n",
       " 'Save the Tiger': (['stuff'], ['you']),\n",
       " 'Symptoms': ([], []),\n",
       " 'Picnic at Hanging Rock': ([], []),\n",
       " 'Royal Flash': (['I', 'they', 'I'], ['you', 'you', 'sip', 'them', 'you']),\n",
       " 'The Man Who Would Be King': (['Peachy', 'you'], ['ruler', 'you', 'murder']),\n",
       " 'Nashville': (['You', 'They'], ['anybody', 'anyone', 'ya', 'you']),\n",
       " 'The Killer Elite': (['you'], ['him', 'everybody', 'me']),\n",
       " 'The Duchess and the Dirtwater Fox': (['Mormons'], []),\n",
       " 'The Food of the Gods': ([], ['us']),\n",
       " 'Perfumed Nightmare': ([], []),\n",
       " 'High Anxiety': (['me', 'I', 'me', 'him', 'You'],\n",
       "  ['him',\n",
       "   'him',\n",
       "   'him',\n",
       "   'him',\n",
       "   'them',\n",
       "   'one',\n",
       "   'them',\n",
       "   'them',\n",
       "   'him',\n",
       "   'him',\n",
       "   'somebody']),\n",
       " 'Roseland': ([], []),\n",
       " 'Sorcerer': (['I'], ['you']),\n",
       " 'Jubilee': (['you', 'you', 'We'],\n",
       "  ['her', 'her', 'anyone', 'weeds', 'us', 'Britannia', 'him', 'you']),\n",
       " 'The Great Train Robbery': ([], []),\n",
       " \"Sgt. Pepper's Lonely Hearts Club Band\": ([], []),\n",
       " 'Meatballs': (['We', \"'s\", \"'s\"],\n",
       "  ['bear',\n",
       "   'what',\n",
       "   'them',\n",
       "   'them',\n",
       "   'them',\n",
       "   'them',\n",
       "   'them',\n",
       "   'them',\n",
       "   'Attention',\n",
       "   'them',\n",
       "   'em']),\n",
       " 'North Dallas Forty': (['I'],\n",
       "  ['something', 'you', 'you', 'cocksuckers', 'you']),\n",
       " \"The Concorde... Airport '79\": ([], ['source']),\n",
       " 'The Great Santini': ([], []),\n",
       " 'The Last Ride of the Dalton Gang': (['you', 'I'],\n",
       "  ['brother', 'you', 'you', 'him', 'ya', 'you', 'him', 'Grat']),\n",
       " 'The North Avenue Irregulars': ([], []),\n",
       " 'Tourist Trap': (['he'], ['What', 'us', 'me', 'them', 'them']),\n",
       " 'Winter Kills': (['I', 'I', 'wan', 'people'],\n",
       "  ['brother', 'brother', 'reasons', 'me', 'you', 'president', 'president']),\n",
       " 'Wise Blood': ([], ['it', 'Friends']),\n",
       " 'Being There': ([], []),\n",
       " 'Fist of Fear, Touch of Death': (['I', 'you'],\n",
       "  ['yourself', 'Detective', 'herself', 'yourself']),\n",
       " 'The Dogs of War': (['I'], ['people', 'him', 'him']),\n",
       " 'Airplane!': ([], []),\n",
       " \"Bob Hope's Overseas Christmas Tours: Around the World with the Troops - 1941-1972\": (['I',\n",
       "   'I'],\n",
       "  ['you', 'wife', 'him']),\n",
       " 'The Black Cat': (['him', 'I', 'I'], ['fucker', 'him', 'me', 'me', 'you']),\n",
       " \"Lady Chatterley's Lover\": ([], []),\n",
       " 'Escape from New York': (['they', 'They', 'he', 'Duke'],\n",
       "  ['him', 'you', 'you', 'us', 'Plissken', 'me']),\n",
       " 'Class of 1984': (['They', 'I', 'I', 'I', 'I', 'I', 'I'],\n",
       "  ['you', 'you', 'me', 'me', 'Calm', 'you', 'you', 'you', 'you', 'you']),\n",
       " 'Superstition': (['You', 'You', 'You', 'You'], ['me', 'me', 'me', 'me']),\n",
       " 'Privileged': ([], []),\n",
       " 'Best Friends': (['You', 'It'],\n",
       "  ['parents', 'you', 'what', 'father', 'yourself', 'myself', 'him', 'him']),\n",
       " 'Hammett': (['Callaghan', 'she'], ['himself', 'husband']),\n",
       " 'Ladies and Gentlemen, the Fabulous Stains': (['you'], ['yourself', 'girls']),\n",
       " 'Videodrome': (['I'], ['me', 'people', 'flesh']),\n",
       " 'Rocky Mountain Holiday with John Denver and the Muppets': ([],\n",
       "  ['Peruvians', 'money']),\n",
       " 'Private Resort': (['me', 'I', 'husband', 'I', 'I'],\n",
       "  ['her',\n",
       "   'her',\n",
       "   'us',\n",
       "   'barber',\n",
       "   'you',\n",
       "   'you',\n",
       "   'you',\n",
       "   'me',\n",
       "   'Lady',\n",
       "   'somebody']),\n",
       " \"Prizzi's Honor\": (['you', 'I', 'I'], ['me', 'him', 'you', 'Charley']),\n",
       " 'Runaway Train': (['I',\n",
       "   'God',\n",
       "   'You',\n",
       "   'I',\n",
       "   'I',\n",
       "   'I',\n",
       "   'me',\n",
       "   'I',\n",
       "   'I',\n",
       "   'me',\n",
       "   'I',\n",
       "   'I',\n",
       "   'me'],\n",
       "  ['me',\n",
       "   'ya',\n",
       "   'you',\n",
       "   'them',\n",
       "   'me',\n",
       "   'somebody',\n",
       "   'him',\n",
       "   'me',\n",
       "   'you',\n",
       "   'you',\n",
       "   'you',\n",
       "   'you',\n",
       "   'you',\n",
       "   'you',\n",
       "   'you',\n",
       "   'you',\n",
       "   'you']),\n",
       " 'The Color Purple': (['It', 'I', 'I'], ['mama', 'you', 'mail', 'him', 'me']),\n",
       " \"She's Gotta Have It\": ([], []),\n",
       " 'The Money Pit': (['it'], ['herself', 'him']),\n",
       " 'The Wraith': (['he', 'they', 'you'],\n",
       "  ['him', 'you', 'people', 'him', 'me', 'packard', 'Let']),\n",
       " \"I've Heard the Mermaids Singing\": ([], []),\n",
       " 'Best Seller': (['it', 'me', 'You', 'I', 'Anybody', 'I'],\n",
       "  ['us',\n",
       "   'Pearlman',\n",
       "   'me',\n",
       "   'you',\n",
       "   'Fair',\n",
       "   'thing',\n",
       "   'men',\n",
       "   'you',\n",
       "   'people',\n",
       "   'people',\n",
       "   'him',\n",
       "   'anybody',\n",
       "   'anybody',\n",
       "   'Dad']),\n",
       " 'Body Count': (['me', 'I', 'you', 'I'],\n",
       "  ['you', 'them', 'him', 'him', 'him', 'you', 'me']),\n",
       " 'No Way Out': (['I', 'They', 'apes'],\n",
       "  ['family', 'pig', 'you', 'person', 'me', 'him', 'him']),\n",
       " 'September': (['it'], ['evening']),\n",
       " 'Three for the Road': ([], []),\n",
       " 'Rowing with the Wind': (['You'], ['myself', 'yourself']),\n",
       " 'Big Business': (['They'], ['a']),\n",
       " \"Daffy Duck's Quackbusters\": ([], []),\n",
       " 'The Unholy': (['I', 'I', 'I', 'L', 'it'],\n",
       "  ['him', 'father', 'you', 'you', 'anybody', 'you', 'you']),\n",
       " 'Uninvited': ([], []),\n",
       " 'The Punisher': ([], []),\n",
       " 'Little Nemo: Adventures in Slumberland': ([], []),\n",
       " 'Driving Miss Daisy': ([], []),\n",
       " 'Drugstore Cowboy': ([], []),\n",
       " 'Glory': (['he'], ['him']),\n",
       " 'My Name Is Bill W.': ([], []),\n",
       " 'Tango & Cash': (['we', 'we', 'he', 'I'], ['them', 'them', 'me', 'me']),\n",
       " 'Mystery Train': (['you', 'I', 'gon'], ['him', 'guy', 'guy', 'me']),\n",
       " 'Ski School': ([], []),\n",
       " 'King of New York': (['I', 'I'], ['you', 'you']),\n",
       " 'An Angel at My Table': ([], []),\n",
       " 'Hardware': (['you'], ['Yo', 'enemy', 'him', 'Jill', 'him']),\n",
       " 'Bird on a Wire': (['you', 'you', 'I', 'They', 'He'],\n",
       "  ['gooder', 'guy', 'me', 'her', 'me']),\n",
       " 'Hard to Kill': (['I'], ['him', 'you', 'you']),\n",
       " 'Meridian': (['her',\n",
       "   'someone',\n",
       "   'you',\n",
       "   'I',\n",
       "   'you',\n",
       "   'you',\n",
       "   'I',\n",
       "   'He',\n",
       "   'I',\n",
       "   'him'],\n",
       "  ['you',\n",
       "   'beast',\n",
       "   'me',\n",
       "   'you',\n",
       "   'me',\n",
       "   'me',\n",
       "   'beast',\n",
       "   'me',\n",
       "   'him',\n",
       "   'me',\n",
       "   'Audrey',\n",
       "   'him',\n",
       "   'me']),\n",
       " 'Mermaids': (['I', 'I', 'it', 'She'], ['you', 'you', 'you']),\n",
       " 'Slumber Party Massacre III': (['morn', \"'s\", 'We', 'you'],\n",
       "  ['me', 'me', 'yourself', 'me', 'him', 'him', 'somebody']),\n",
       " 'Small Time': ([], []),\n",
       " 'Tales from the Darkside: The Movie': (['I', 'I', 'I', 'I', 'I', 'I', 'it'],\n",
       "  ['them', 'you', 'cat', 'it', 'it', 'it', 'it', 'cat', 'you', 'me', 'him']),\n",
       " 'The NeverEnding Story II: The Next Chapter': ([], []),\n",
       " 'Cape Fear': (['you', 'she'],\n",
       "  ['him', 'myself', 'man', 'dog', 'anything', 'you']),\n",
       " 'What About Bob?': (['I'], ['you', 'you']),\n",
       " 'Wedlock': (['I', 'collar'], ['you', 'you', 'you', 'him']),\n",
       " 'Chaplin': (['I'], ['you']),\n",
       " 'The Reincarnation of Khensur Rinpoche': ([], []),\n",
       " 'Aladdin': (['I'], ['anybody', 'you']),\n",
       " 'Medicine Man': ([], []),\n",
       " 'The Cutting Edge': (['they'], []),\n",
       " 'Dr. Giggles': ([], ['me']),\n",
       " 'The Muppet Christmas Carol': ([], []),\n",
       " 'Bad Boy Bubby': ([], ['me', 'them']),\n",
       " 'Cyborg 2: Glass Shadow': (['you', 'I', 'what'],\n",
       "  ['Colt', 'people', 'me', 'man', 'me']),\n",
       " 'For Love or Money': (['I'], ['you']),\n",
       " 'Poetic Justice': (['husband'], ['me']),\n",
       " 'Sade - Life Promise Pride Love': ([], []),\n",
       " \"Weekend at Bernie's II\": (['you'], ['us', 'him', 'them']),\n",
       " 'For the Sake of Haniyeh': ([], []),\n",
       " 'Josef von Sternberg, the Man Who Made Dietrich': ([], []),\n",
       " 'The Browning Version': ([], []),\n",
       " 'Backbeat': (['I', 'I'], ['you', 'you']),\n",
       " 'Ace Ventura: Pet Detective': (['I'], ['me', 'dolphin', 'Marino']),\n",
       " \"City Slickers II: The Legend of Curly's Gold\": (['I'], ['you']),\n",
       " 'Radioland Murders': (['I', 'Nobody', 'I', 'I', 'I', 'I', 'I', 'you'],\n",
       "  ['revolve',\n",
       "   'them',\n",
       "   'anybody',\n",
       "   'QUACKING',\n",
       "   'him',\n",
       "   'them',\n",
       "   'them',\n",
       "   'her',\n",
       "   'me',\n",
       "   'husband']),\n",
       " 'Shao nu xiao yu': ([], ['myself', 'me', 'mess']),\n",
       " 'Blue in the Face': ([], ['neighborhood']),\n",
       " 'Crimson Tide': ([], ['you']),\n",
       " 'Father of the Bride Part II': ([], []),\n",
       " 'Kids': (['bitch', 'We'], ['shit', 'him']),\n",
       " 'The Nature of the Beast': (['you', 'Jack', 'You'],\n",
       "  ['yourself', 'me', 'me', 'Jack', 'devil']),\n",
       " 'Casino': (['you', 'I', 'you'],\n",
       "  ['him', 'me', 'him', 'you', 'you', 'you', 'him', 'him', 'me']),\n",
       " 'Lupin the Third: The Legend of Twilight Gemini': (['me', 'I', 'men'],\n",
       "  ['you', 'you', 'him', 'you', 'W-', 'you', 'Hmph', 'them']),\n",
       " 'Beautiful Thing': (['He'], ['me', 'you', 'you']),\n",
       " 'Michael Collins': (['you', 'They'], ['me', 'me']),\n",
       " 'Beautiful Girls': (['you'], ['me']),\n",
       " 'Beauty and the Beast: A Concert on Ice': (['we', 'We', \"'s\"],\n",
       "  ['Beast', 'cheering', 'COGSWORTH', 'Beast']),\n",
       " 'Beavis and Butt-Head Do America': (['I', \"We'regonna\"],\n",
       "  ['you', 'them', 'them', 'DRIVER', 'Ngaah']),\n",
       " 'Daylight': ([], []),\n",
       " 'George Carlin: Back in Town': (['We', 'I', 'we'],\n",
       "  ['it', 'm', 'people', 'rest', 'you', 'motherfucker', 'family', 'others']),\n",
       " 'Lawnmower Man 2: Beyond Cyberspace': ([], []),\n",
       " 'The Evening Star': (['I'], ['yourself']),\n",
       " 'Unforgettable': (['He', 'he', 'you', 'It', 'He'],\n",
       "  ['her', 'wife', 'you', 'me', 'me', 'me', 'Mary', 'Eddie']),\n",
       " 'Gotti': (['You'], ['him', 'him', 'me']),\n",
       " '4 Little Girls': ([], ['guys', 'children']),\n",
       " 'Against the Law': (['he', 'I'], ['guy', 'me', 'anybody']),\n",
       " 'Bleak Future': ([], ['me', 'him']),\n",
       " 'Fools Rush In': (['gon'], ['myself', 'me', 'me', 'him']),\n",
       " \"McHale's Navy\": (['they', 'I'], ['him', 'me', 'Vladakov', 'lot']),\n",
       " 'SUBWAYStories: Tales from the Underground': ([], []),\n",
       " 'Suicide Kings': (['You', 'we'],\n",
       "  ['you',\n",
       "   'Screaming_continues',\n",
       "   'you',\n",
       "   'us',\n",
       "   'me',\n",
       "   'snake',\n",
       "   'time',\n",
       "   'me',\n",
       "   'me',\n",
       "   'me']),\n",
       " 'The Manson Family': (['you', 'you', 'We', 'I', 'You', 'you'],\n",
       "  ['me',\n",
       "   'us',\n",
       "   'him',\n",
       "   'anyone',\n",
       "   'somebody',\n",
       "   'Bunch',\n",
       "   'anyone',\n",
       "   'them',\n",
       "   'us',\n",
       "   'her',\n",
       "   'Patty',\n",
       "   'Shorty']),\n",
       " '8 Heads in a Duffel Bag': (['you', 'you', 'You', 'you', 'you', 'You'],\n",
       "  ['me', 'us', 'people', 'me', 'me', 'people']),\n",
       " 'Shot Through the Heart': (['I'], ['me', 'you']),\n",
       " 'Poika ja ilves': (['It', 'You'], ['Leevi', 'him']),\n",
       " 'The Second Bakery Attack': ([], []),\n",
       " 'A Rather English Marriage': ([], []),\n",
       " 'RPM': (['Biggerman', 'You'], ['you', 'you']),\n",
       " '3 Ninjas: High Noon at Mega Mountain': (['she'], ['us']),\n",
       " 'Crocodile Tears': (['they'], ['everything']),\n",
       " 'Host': ([], ['us', 'everyone']),\n",
       " \"Jerry Seinfeld: 'I'm Telling You for the Last Time'\": (['what'],\n",
       "  ['me', 'you', 'kids']),\n",
       " 'Judas Kiss': (['I', 'you', 'you', 'You', 'you', 'I'],\n",
       "  ['everything', 'me', 'Patty', 'me', 'her', 'you']),\n",
       " 'Mafia!': (['things', 'I', 'I', 'I', 'I', 'you'],\n",
       "  ['Pop',\n",
       "   'Scoffs',\n",
       "   'boy',\n",
       "   'Gorgoni',\n",
       "   'father',\n",
       "   'you',\n",
       "   'Mine',\n",
       "   'brother',\n",
       "   'me',\n",
       "   'them',\n",
       "   'son']),\n",
       " 'Species II': (['I'], ['her', 'him', 'me']),\n",
       " 'The Love Letter': (['game', 'we'], ['us', 'em']),\n",
       " 'Titanic: Untold Stories': ([], []),\n",
       " \"Video Playback: TNN's First 15 Years\": (['they'], ['you', 'Strike']),\n",
       " 'Dollar for the Dead': (['me', 'I', 'you', 'He'],\n",
       "  ['you',\n",
       "   'differences',\n",
       "   'us',\n",
       "   'me',\n",
       "   'man',\n",
       "   'him',\n",
       "   'you',\n",
       "   'him',\n",
       "   'him',\n",
       "   'him',\n",
       "   'He',\n",
       "   'you']),\n",
       " 'Three to Tango': ([], ['you']),\n",
       " 'The Old Man and the Sea': (['who', 'I'],\n",
       "  ['them', 'him', 'stars', 'moon', 'sun', 'brothers']),\n",
       " 'Carnival of Monsters': ([], []),\n",
       " \"S Club 7 - It's an S Club Thing\": ([], ['you', 'James']),\n",
       " \"The Making of 'Walking with Dinosaurs'\": ([], []),\n",
       " 'TV Hits Awards 1999': ([], []),\n",
       " 'Grey Owl': (['we', 'bear', 'men'], []),\n",
       " 'An Ideal Husband': ([], []),\n",
       " 'Notting Hill': (['I'], ['birds']),\n",
       " 'The Turn of the Screw': ([], []),\n",
       " 'Galapagos': ([], []),\n",
       " 'Go': (['we', 'him'], ['us', 'her', 'me']),\n",
       " 'Red Silk': ([], []),\n",
       " 'Deeply': ([], []),\n",
       " 'Moon': (['Stratos', 'Stratos', 'Stratos'],\n",
       "  ['you',\n",
       "   'e',\n",
       "   'you',\n",
       "   'Whispering',\n",
       "   'you',\n",
       "   'hy',\n",
       "   'me',\n",
       "   'me',\n",
       "   'you',\n",
       "   'me',\n",
       "   'him',\n",
       "   '@speaking_greek']),\n",
       " 'Greenfingers': ([], []),\n",
       " 'Beat': ([], []),\n",
       " 'Best in Show': ([], []),\n",
       " 'Dinner Rush': ([], []),\n",
       " 'Dragonheart: A New Beginning': (['shot'], ['him']),\n",
       " 'Hate.Com: Extremists on the Internet': (['you'], ['me', 'you', 'me', 'us']),\n",
       " 'Hellraiser: Inferno': (['you', 'I', 'I'],\n",
       "  ['her', 'girl', 'child', 'people', 'king']),\n",
       " \"Locked Up Down Shorty's\": (['we', 'you'], ['girls', 'women', 'you']),\n",
       " 'Sordid Lives': (['me', 'Daddy', 'I'], ['you', 'me', 'me', 'you', 'Mama']),\n",
       " 'The Kennedy Center Presents: Speak Truth to Power': ([], ['you']),\n",
       " \"The Making of 'Evil Dead II' or The Gore the Merrier\": ([], []),\n",
       " 'The Next Best Thing': ([], []),\n",
       " 'Tripping the Rift': (['I'], ['em', 'competition']),\n",
       " 'Two Family House': ([], ['ya']),\n",
       " \"Daria in 'Is It Fall Yet?'\": ([], []),\n",
       " 'Russian Doll': ([], []),\n",
       " '18,000 Dead in Gordon Head': ([], ['her']),\n",
       " 'Prozac Nation': (['I', 'I'],\n",
       "  ['you', 'you', 'you', 'joy', 'myself', 'lovers']),\n",
       " 'Mean Machine': ([], ['me']),\n",
       " \"Varian's War: The Forgotten Hero\": ([], []),\n",
       " 'The Lost World': (['I', 'We', 'him', 'me', 'me'],\n",
       "  ['them', 'it', 'them', 'them']),\n",
       " 'Barbie in the Nutcracker': ([], []),\n",
       " 'Diary of a Sex Addict': (['I', 'I', 'he'], ['you', 'you', 'me']),\n",
       " 'Extreme Championship Wrestling: The Best of Cactus Jack': (['I'], []),\n",
       " 'Final Exit': ([], []),\n",
       " 'Hail Sid Caesar! The Golden Age of Comedy': ([], ['them', 'you', 'him']),\n",
       " 'Mimic 2': ([], []),\n",
       " 'Osmosis Jones': (['He'], ['man']),\n",
       " 'Sister Mary Explains It All': (['me', 'I', 'I', 'shalt'],\n",
       "  ['babies', 'babies', 'babies', 'babies']),\n",
       " 'Two Can Play That Game': ([], []),\n",
       " 'Venomous': ([], []),\n",
       " 'Wooly Boys': ([], ['him']),\n",
       " 'Final Fantasy: The Spirits Within': (['It'], ['Phantoms']),\n",
       " 'Hard Cash': (['I', 'I', 'I', 'I'],\n",
       "  ['host', 'myself', 'him', 'everybody', 'you', 'people', 'us', 'you']),\n",
       " 'Edge of Madness': (['you', 'you'], ['him', 'him', 'husband']),\n",
       " 'Try Seventeen': (['fall'], ['me', 'you']),\n",
       " 'Caesar': (['you', 'him'], ['me', 'you', 'friends', 'her', 'you']),\n",
       " 'Nine Tenths': (['I', 'you', 'I'],\n",
       "  ['battery', 'me', 'one', 'us', 'us', 'sheep', 'it']),\n",
       " \"101 Dalmatians 2: Patch's London Adventure\": (['you'], ['them']),\n",
       " '13th Child': (['l', 'We', 'you'], ['dog', 'species', 'reason', 'animal']),\n",
       " 'Dead/Undead': ([], ['Tanage']),\n",
       " 'Joan Crawford: The Ultimate Movie Star': (['I', 'I', 'I'],\n",
       "  ['you', 'you', 'you', 'you']),\n",
       " 'Rabbits': ([], []),\n",
       " 'The Hot Chick': ([], []),\n",
       " \"The Making of 'Amadeus'\": ([], []),\n",
       " 'Treasure Planet': (['we'], ['em']),\n",
       " 'White Oleander': (['She'], ['you', 'guy', 'you']),\n",
       " \"Bang Bang You're Dead\": (['you', 'it', 'I', 'you', 'you', 'me'],\n",
       "  ['you', 'girl', 'you', 'you', 'bunch', 'shots', 'me', 'me', 'you', 'you']),\n",
       " \"Virginia's Run\": ([], []),\n",
       " 'Undead': ([], []),\n",
       " 'Ned Kelly': (['They', 'They', 'They', 'They'],\n",
       "  ['me',\n",
       "   'him',\n",
       "   'him',\n",
       "   'me',\n",
       "   'him',\n",
       "   'him',\n",
       "   'questions',\n",
       "   'blackguard',\n",
       "   'him',\n",
       "   'him',\n",
       "   'me',\n",
       "   'him',\n",
       "   'him',\n",
       "   'questions']),\n",
       " 'Evil Breed: The Legend of Samhain': ([], []),\n",
       " 'The Event': (['someone'], ['themselves', 'manslaughter', 'himself']),\n",
       " 'Marilyn Manson: Rock am Ring 2003': (['men'],\n",
       "  ['battery', 'battery', 'battery']),\n",
       " 'The Sunsilk Femina Miss India 2003': (['you',\n",
       "   'who',\n",
       "   'we',\n",
       "   'them',\n",
       "   'you',\n",
       "   'them',\n",
       "   'we',\n",
       "   'We',\n",
       "   'I',\n",
       "   'I',\n",
       "   'I'],\n",
       "  ['child',\n",
       "   'friend',\n",
       "   'them',\n",
       "   'Azumi',\n",
       "   'them',\n",
       "   'assassins',\n",
       "   'them',\n",
       "   'assassins',\n",
       "   'insect',\n",
       "   'you',\n",
       "   'girl',\n",
       "   'you',\n",
       "   'story',\n",
       "   'world',\n",
       "   'them',\n",
       "   'allies',\n",
       "   'him',\n",
       "   'You',\n",
       "   'bitch']),\n",
       " 'Dead Bodies': (['I', 'I', 'I', 'I', 'you'],\n",
       "  ['me',\n",
       "   'me',\n",
       "   'you',\n",
       "   'her',\n",
       "   'her',\n",
       "   'her',\n",
       "   'Jean',\n",
       "   'Jean',\n",
       "   'Ellis',\n",
       "   'anyone',\n",
       "   'me']),\n",
       " 'Earth Ride': ([], []),\n",
       " 'Particles of Truth': ([], ['myself']),\n",
       " 'Scooby-Doo and the Legend of the Vampire': ([], []),\n",
       " 'Shade': ([], []),\n",
       " \"Something's Gotta Give\": (['it', 'You', 'smoke'], ['me', 'me', 'you']),\n",
       " 'The Hebrew Hammer': ([], []),\n",
       " 'The Lizzie McGuire Movie': ([], []),\n",
       " 'Underground': (['I',\n",
       "   'I',\n",
       "   'I',\n",
       "   'I',\n",
       "   'They',\n",
       "   'I',\n",
       "   'I',\n",
       "   'I',\n",
       "   'You',\n",
       "   'Germans',\n",
       "   'Serbs',\n",
       "   'Croats'],\n",
       "  ['them',\n",
       "   'mate',\n",
       "   'them',\n",
       "   'you',\n",
       "   'dirtbags',\n",
       "   'him',\n",
       "   'brother',\n",
       "   'director',\n",
       "   'you',\n",
       "   'you',\n",
       "   'Tito',\n",
       "   'you',\n",
       "   'you',\n",
       "   'me',\n",
       "   'us',\n",
       "   'me',\n",
       "   'me',\n",
       "   'Croats',\n",
       "   'Serbs']),\n",
       " 'The Italian Job': ([], ['you']),\n",
       " 'Curse of the Ring': (['you', 'I', 'you', 'I'],\n",
       "  ['Fafnir',\n",
       "   'dragon',\n",
       "   'dragon',\n",
       "   'dragon',\n",
       "   'dragon',\n",
       "   'you',\n",
       "   'Fafnir',\n",
       "   'him',\n",
       "   'myself',\n",
       "   'man',\n",
       "   'you']),\n",
       " 'Rabbit on the Moon': (['they', 'we', 'we', 'way', 'I'],\n",
       "  ['Parra',\n",
       "   'someone',\n",
       "   'you',\n",
       "   'birds',\n",
       "   'woman',\n",
       "   'her',\n",
       "   'Calm',\n",
       "   'Julie',\n",
       "   'Parra',\n",
       "   'Julie',\n",
       "   'Julie',\n",
       "   'her',\n",
       "   'Santos',\n",
       "   'you',\n",
       "   'him']),\n",
       " 'Incident at Loch Ness': ([], []),\n",
       " 'Maria Callas: Living and Dying for Art and Love': ([], ['them']),\n",
       " \"The Rutles 2: Can't Buy Me Lunch\": ([], ['themselves']),\n",
       " \"It's All Gone Pete Tong\": ([], []),\n",
       " 'Harry Potter and the Prisoner of Azkaban': (['He',\n",
       "   'He',\n",
       "   'who',\n",
       "   'He',\n",
       "   \"'s\",\n",
       "   \"'s\",\n",
       "   'Voldemort'],\n",
       "  ['me',\n",
       "   'Ron',\n",
       "   'friend',\n",
       "   'Pettigrew',\n",
       "   'him',\n",
       "   'you',\n",
       "   'Pettigrew',\n",
       "   'Buckbeak',\n",
       "   'Harry',\n",
       "   'us',\n",
       "   'me',\n",
       "   'Expelliarmus',\n",
       "   'him',\n",
       "   'him',\n",
       "   'you',\n",
       "   'him']),\n",
       " 'Bettie Page: Dark Angel': ([], []),\n",
       " 'Collateral': (['you', 'I', 'They', 'you', 'you'],\n",
       "  ['one',\n",
       "   'him',\n",
       "   'people',\n",
       "   'you',\n",
       "   'him',\n",
       "   'Fanning',\n",
       "   'him',\n",
       "   'me',\n",
       "   'you',\n",
       "   'ass',\n",
       "   'us',\n",
       "   'us',\n",
       "   'you',\n",
       "   'you',\n",
       "   'you']),\n",
       " 'Costume Party Capers: The Incredibles': (['They'], ['us', 'you', 'us']),\n",
       " 'Iron Jawed Angels': ([], []),\n",
       " 'Judas': (['They', 'you', 'I'], ['us', 'him', 'him']),\n",
       " 'Little Black Book': (['you'], ['her']),\n",
       " 'Miles Electric: A Different Kind of Blue': ([], []),\n",
       " 'Scooby-Doo and the Loch Ness Monster': ([], []),\n",
       " 'Spartacus': (['You', 'they', 'I', 'he', 'he', 'Draba', 'I'],\n",
       "  ['man', 'man', 'you', 'him', 'me', 'you', 'me', 'Move', 'Move', 'Move']),\n",
       " 'Terminal 29': (['I'], ['you', 'man']),\n",
       " 'The Crusaders': (['She'], []),\n",
       " 'The Dog Days of Summer': ([], ['us', 'us', 'us', 'us']),\n",
       " 'The Perfect Husband: The Laci Peterson Story': ([], ['me']),\n",
       " 'Tremors 4: The Legend Begins': (['me'], ['who', 'Injun', 'it']),\n",
       " 'The Cutting Edge: The Magic of Movie Editing': (['we'], ['her', 'son']),\n",
       " 'Chasing Liberty': (['Charlie'], ['birds', 'thing', 'dimmer']),\n",
       " 'Closer': (['I'], ['you', 'you']),\n",
       " 'A Little Trip to Heaven': ([], ['us', 'Kelvin']),\n",
       " 'D-Day to Berlin': ([], []),\n",
       " 'Infestation': (['air', 'terrorists', 'virus', 'age', 'Hunger'],\n",
       "  ['Penny', 'them', 'people', 'them', 'them', 'them', 'youth', 'everybody']),\n",
       " 'Dead Fish': (['We', 'Danny', 'you', 'I'],\n",
       "  ['me', 'you', 'you', 'me', 'you', 'fuckin']),\n",
       " 'Discovering Monk and Trane: One Night at Carnegie Hall': ([],\n",
       "  ['them', 'them', 'Posner']),\n",
       " 'Fun with Dick and Jane': (['I'], ['witnesses', 'you']),\n",
       " 'Live from the Red Carpet: The 2005 Emmy Awards': ([], ['woman', 'someone']),\n",
       " 'Red Eye': (['couple'], ['Keefe', 'dad', 'family', 'minutes', 'him', 'me']),\n",
       " 'The Madagascar Penguins in a Christmas Caper': ([], []),\n",
       " 'The Zodiac': (['he', 'he', 'he'], ['feet', 'Newman', 'something']),\n",
       " 'War of the Worlds': ([], ['them']),\n",
       " 'The Demons Among Us': (['he'], ['me', 'Lauren', 'her']),\n",
       " 'Dark Storm': ([], []),\n",
       " 'The Entrance': ([], ['you', 'Superior']),\n",
       " 'On Air': ([], []),\n",
       " 'Renaissance': (['you', 'I'], ['men', 'you', 'me']),\n",
       " 'A Thousand Kisses': ([], []),\n",
       " 'Elephants Dream': ([], []),\n",
       " 'The Real Group: Stockholm Concert Hall - April 2005': ([], []),\n",
       " 'Cashback': ([], ['me', 'ya']),\n",
       " \"Jeff Wayne's Musical Version of 'The War of the Worlds'\": ([], []),\n",
       " 'Bugcrush': ([], []),\n",
       " 'Drift': ([], []),\n",
       " 'Farce of the Penguins': (['It'], ['him']),\n",
       " 'Five Fingers': ([], ['you', 'us', 'us', 'me', 'you']),\n",
       " 'Kisses and Caroms': ([], ['you']),\n",
       " \"Pixar's 20th Anniversary Special\": ([], []),\n",
       " 'The Beales of Grey Gardens': ([], ['yourself']),\n",
       " 'The Hills Have Eyes': (['Bobby'],\n",
       "  ['motherfuckers', 'Beast', 'me', 'me', 'me', 'me']),\n",
       " 'The Holiday': ([], ['myself']),\n",
       " 'The Last Kiss': ([], ['you', 'you', 'him']),\n",
       " 'Unknown': (['I', 'We', 'I'],\n",
       "  ['us', 'Fuck', 'you', 'me', 'them', 'them', 'you', 'me', 'me']),\n",
       " 'World Trade Center': (['They', 'They'], ['him', 'him', 'us']),\n",
       " 'Home of the Brave': ([], []),\n",
       " 'Wristcutters: A Love Story': (['Kneller'], ['germs', 'himself']),\n",
       " 'Jack Brooks: Monster Slayer': ([], []),\n",
       " 'Numb': ([], []),\n",
       " 'Lagerfeld Confidential': ([], []),\n",
       " 'My Dear Rosetta': ([], []),\n",
       " 'Doctor Who: The Infinite Quest': ([], []),\n",
       " 'Futureshock: Comet': ([], []),\n",
       " 'Miss Marie Lloyd': ([], []),\n",
       " 'The Old, Old, Very Old Man': (['Who'], ['man', 'you', 'Miles', 'him']),\n",
       " 'The Riddle': (['you'], ['Sadie']),\n",
       " 'Amazing Journey: The Story of The Who': ([], ['DALTREY']),\n",
       " 'Joy Division': (['wife'], ['me', 'you']),\n",
       " 'A Plumm Summer': ([], []),\n",
       " 'Alvin and the Chipmunks': ([], []),\n",
       " 'Born': (['you', 'you'],\n",
       "  ['people', 'someone', 'people', 'demons', 'bitch', 'father']),\n",
       " 'Cinderella 3: A Twist in Time': ([], []),\n",
       " \"Classic Game Room: The Rise and Fall of the Internet's Greatest Video Game Review Show\": ([],\n",
       "  []),\n",
       " 'Ghost Town: The Movie': (['I', 'Boys', 'He', 'we', 'I', 'He', 'gon'],\n",
       "  ['anybody', 'him', 'us', 'you', 'him', 'you', 'us', 'us', 'me', 'you']),\n",
       " 'I Could Never Be Your Woman': ([], []),\n",
       " 'Love in the Time of Cholera': (['You', 'suffering'], ['yourself', 'me']),\n",
       " \"Mama's Boy\": ([], []),\n",
       " 'New York City Serenade': (['people'], []),\n",
       " 'No Reservations': ([], []),\n",
       " 'Return of the Living Dead: The Dead Have Risen': (['I'],\n",
       "  ['it', 'it', 'me', 'myself']),\n",
       " 'Ripple Effect': ([], ['himself', 'you']),\n",
       " 'Sex Trek: Charly XXX': ([], []),\n",
       " 'Shiloh Falls': (['I', 'bullets', 'he', 'You', 'bullets'],\n",
       "  ['us', 'you', 'him', 'brother', 'monster', 'them']),\n",
       " 'Stomp the Yard': ([], []),\n",
       " 'The Heartbreak Kid': ([], []),\n",
       " 'Postal': (['we', 'we'],\n",
       "  ['you', 'you', 'me', 'guys', 'motherfuckers', 'you', 'you', 'me', 'me']),\n",
       " 'Bloodspit': (['We'], ['them']),\n",
       " 'Infected': ([], ['you']),\n",
       " 'All Together Now': ([], []),\n",
       " 'Vinyan': ([], []),\n",
       " 'Kiss Me Deadly': (['mother', 'I', 'I', 'he'],\n",
       "  ['me', 'ya', 'Fuck', 'you', 'people', 'them']),\n",
       " 'Adam Resurrected': (['I'], ['woman', 'him', 'yourself']),\n",
       " 'Compulsion 1897': (['I'], ['anyone', 'anyone']),\n",
       " 'The Studebakers: Episode 1 - Money, Please!': (['I', 'he', 'he'],\n",
       "  ['daughter', 'you', 'us']),\n",
       " 'Surviving Everest: A Tribute to Sir Edmund Hillary': ([], []),\n",
       " 'Bathory: Countess of Blood': (['she', 'I', 'he', 'I', 'I', 'I', 't'],\n",
       "  ['us', 'him', 'you', 'him', 'you', 'you', 'me', 'me']),\n",
       " 'Transsiberian': (['poison', 'They', 'He'], ['you', 'us', 'Roy', 'us', 'us']),\n",
       " 'Miss Austen Regrets': (['sort'], ['anybody']),\n",
       " \"A Gunfighter's Pledge\": (['you'], ['me', 'sister', 'lawman']),\n",
       " 'Bachelor Party 2: The Last Temptation': (['she', 'it'],\n",
       "  ['you', 'me', 'No_Audible_Dialogue', 'me', 'you']),\n",
       " 'Beer for My Horses': (['They',\n",
       "   'They',\n",
       "   'me',\n",
       "   'Mexican',\n",
       "   'Cigarettes',\n",
       "   'I',\n",
       "   'You'],\n",
       "  ['you',\n",
       "   'me',\n",
       "   'you',\n",
       "   'you',\n",
       "   'her',\n",
       "   'me',\n",
       "   'Becky',\n",
       "   'you',\n",
       "   'man',\n",
       "   'you',\n",
       "   'daughter']),\n",
       " 'Belly 2: Millionaire Boyz Club': ([], ['you', 'man']),\n",
       " 'Deception': (['lights', 'I', 'you'], ['you', 'someone', 'her', 'me', 'you']),\n",
       " \"Disney's Christmas Favorites\": ([], []),\n",
       " 'Forgetting Sarah Marshall': (['He', 'I', 'I', 'he', 'her', 'phone'],\n",
       "  ['owner',\n",
       "   'you',\n",
       "   'you',\n",
       "   'you',\n",
       "   'you',\n",
       "   'herself',\n",
       "   'yourself',\n",
       "   'people',\n",
       "   'me',\n",
       "   'Joy']),\n",
       " 'Ghost Town': (['what'], ['it', 'it']),\n",
       " 'Goliath': (['cup', 'you'], ['him']),\n",
       " 'Hoochie Mamma Drama': ([], []),\n",
       " 'Nothing But the Truth': ([], []),\n",
       " 'Pathology': (['stuff', 'you', 'you', 'you'],\n",
       "  ['you', 'anyone', 'guy', 'guy', 'simple', 'anyone', 'anyone', 'Remember']),\n",
       " 'Religulous': (['you', 'they'], ['himself', 'yourself', 'you']),\n",
       " 'Seventh Moon': (['them', 'they'], ['us', 'you', 'Yul', 'you']),\n",
       " 'The Burrowers': (['Indians', 'we'],\n",
       "  ['them',\n",
       "   'girls',\n",
       "   'everybody',\n",
       "   'CREATURESGROWLING',\n",
       "   'them',\n",
       "   'burrowers',\n",
       "   'them']),\n",
       " 'The Lost Coast': ([], []),\n",
       " 'Tru Loved': ([], []),\n",
       " 'The Burning Plain': ([], ['you']),\n",
       " 'Joy Ride 2: Dead Ahead': (['They', 'They'],\n",
       "  ['me', 'me', 'me', 'Bobby', 'us', 'us']),\n",
       " 'The Lazarus Project': ([], ['me']),\n",
       " 'Made of Honor': (['I'], ['anything']),\n",
       " 'Blue Seduction': (['I', 'he'], ['you', 'me', 'me', 'wife', 'me', 'her']),\n",
       " 'The Coca-Cola Case': (['they'], ['me', 'us']),\n",
       " 'Barbie Presents: Thumbelina': ([], []),\n",
       " 'From Time to Time': ([], []),\n",
       " 'The Shock Doctrine': ([], []),\n",
       " 'Harry Potter and the Half-Blood Prince': (['drop'],\n",
       "  ['us', 'me', 'it', 'you', 'me']),\n",
       " 'The Tournament': (['rule', 'I', 'I', 'I', 'people', 'you', 'I', 'you'],\n",
       "  ['you', 'you', 'him', 'me', 'her', 'anyone', 'me', 'Mary', 'wife']),\n",
       " 'Couples Retreat': ([], []),\n",
       " 'Dead Air': (['Cats', 'man', 'it', 'It', 'I', 'I', 'I', 'I'],\n",
       "  ['fish', 'them', 'Muslims', 'them', 'What', 'you', 'friend', 'you']),\n",
       " 'Echelon Conspiracy': (['I'], ['you', 'me']),\n",
       " 'G-Force': ([], []),\n",
       " 'Ghosts of Girlfriends Past': ([], []),\n",
       " 'Paul Blart: Mall Cop': (['I'], ['you']),\n",
       " 'Portal': (['fog', 'They', 'I'], ['somebody', 'people', 'her']),\n",
       " 'Princess Protection Program': ([], []),\n",
       " 'Superman/Batman: Public Enemies': (['We'], ['people', 'people']),\n",
       " 'ThanksKilling': (['Turkey', 'we', 'I'],\n",
       "  ['Billy',\n",
       "   'Johnny',\n",
       "   'me',\n",
       "   'son',\n",
       "   'Turkey',\n",
       "   'him',\n",
       "   'him',\n",
       "   'person',\n",
       "   'him',\n",
       "   'God',\n",
       "   'Turkey',\n",
       "   'him',\n",
       "   'you',\n",
       "   'assholes',\n",
       "   'you',\n",
       "   'Oscar']),\n",
       " 'The Answer Man': (['I'], ['you', 'me']),\n",
       " 'The Brotherhood V: Alumni': (['I', 'I'], ['who', 'birds']),\n",
       " 'The Butterfly Effect 3: Revelations': (['Lonnie',\n",
       "   'You',\n",
       "   'you',\n",
       "   'I',\n",
       "   'you',\n",
       "   'you',\n",
       "   'you',\n",
       "   'he',\n",
       "   'I',\n",
       "   'you'],\n",
       "  ['her',\n",
       "   'Godspeed',\n",
       "   'sister',\n",
       "   'them',\n",
       "   'anybody',\n",
       "   'her',\n",
       "   'sister',\n",
       "   'Flennons',\n",
       "   'Barnes']),\n",
       " 'The Canyon': ([], []),\n",
       " 'Perestroika': ([], []),\n",
       " 'Away We Go': ([], ['you']),\n",
       " 'Tomorrow, When the War Began': (['who', 'You'], ['me']),\n",
       " 'Meant to Be': ([], []),\n",
       " 'Good Neighbors': ([], ['Victor', 'you']),\n",
       " 'Paradox': (['It', 'you'],\n",
       "  ['cancer', 'him', 'millions', 'him', 'me', 'him', 'us', 'us', 'billions']),\n",
       " 'This Movie Is Broken': ([], []),\n",
       " 'Brownian Movement': ([], []),\n",
       " 'Boy': (['he'], ['you', 'them']),\n",
       " 'The Last Norwegian Troll': (['you'], ['troll', 'gender', 'him']),\n",
       " '4.3.2.1.': (['I'],\n",
       "  ['you', 'bitches', 'you', 'bitches', 'you', 'Kerrys', 'you', 'yourself']),\n",
       " 'Bonny & Clide': (['we'], ['him']),\n",
       " 'Burke and Hare': (['you', 'he'], ['em', 'people']),\n",
       " 'Steve': ([], []),\n",
       " 'The Secret Life of Chaos': ([], []),\n",
       " \"Anton Chekhov's The Duel\": ([], []),\n",
       " 'Blood Done Sign My Name': (['you', 'you', 'I'],\n",
       "  ['me', 'him', 'boy', 'anybody', 'him', 'snake']),\n",
       " 'Brotherhood': ([], []),\n",
       " 'Ceremony': (['You'], ['me']),\n",
       " 'Easy A': ([], ['myself']),\n",
       " 'Elena Undone': (['You'], ['me', 'him', 'Mom']),\n",
       " 'Firebreather': (['you', 'Duncan', 'it', 'You', 'We', 'They', 'You'],\n",
       "  ['them',\n",
       "   'me',\n",
       "   'you',\n",
       "   'xornga',\n",
       "   'you',\n",
       "   'him',\n",
       "   'monsters',\n",
       "   'Abaddon',\n",
       "   'you',\n",
       "   'them']),\n",
       " 'Inhale': (['You', 'I'], ['him', 'you']),\n",
       " 'Journey to Promethea': (['beast', 'you', 'they', 'They'],\n",
       "  ['beast', 'sir', 'me', 'you', 'newborn', 'wife', 'soldier', 'him', 'me']),\n",
       " 'Living Will...': (['I'],\n",
       "  ['myself', 'myself', 'you', 'me', 'me', 'yourself']),\n",
       " \"Madso's War\": (['he', 'guys', 'I', 'I'],\n",
       "  ['him', 'guys', 'cousin', 'them', 'him', 'you', 'man', 'him', 'What', 'me']),\n",
       " 'The Buddha': ([], []),\n",
       " 'The Client List': (['you'], []),\n",
       " 'Diary of a Wimpy Kid': (['he', 'he', \"Mine'll\"],\n",
       "  ['you', 'you', 'you', 'you', 'me', 'me', 'MALONE', 'me']),\n",
       " 'A 2nd Chance': ([], []),\n",
       " 'Lloyd the Conqueror': ([], ['you']),\n",
       " 'You Got Served: Beat the World': ([], []),\n",
       " 'Abandoned': (['I'], ['you']),\n",
       " 'The Boy in the Bubble': ([], []),\n",
       " 'Love Birds': ([], []),\n",
       " 'Winnie Mandela': ([], ['them']),\n",
       " 'Tyrannosaur': (['He'],\n",
       "  ['you', 'wankers', 'man', 'us', 'you', 'you', 'Hannah', 'you']),\n",
       " '51': (['you'], ['man', 'it', 'her']),\n",
       " \"A Valentine's Date\": ([], []),\n",
       " \"A Warrior's Heart\": ([], []),\n",
       " 'Answers to Nothing': ([], []),\n",
       " 'Atlas Shrugged: Part I': ([], []),\n",
       " 'Barbie: A Perfect Christmas': ([], []),\n",
       " 'Captain America: The First Avenger': (['Bullets'],\n",
       "  ['Nazis', 'anyone', 'Nazis', 'you']),\n",
       " 'Certainty': (['I', 'it'], ['myself', 'you', 'me', 'Chuckles']),\n",
       " 'Donner Pass': (['they', 'dude', 'We'],\n",
       "  ['anyone', 'him', 'him', 'him', 'guy', 'Epstein']),\n",
       " 'Dragon Crusaders': (['you', 'we', 'You'], ['you', 'girl', 'him', 'me']),\n",
       " 'I Am Number Four': ([], ['me']),\n",
       " 'Method to the Madness of Jerry Lewis': ([], []),\n",
       " 'Piled Higher and Deeper': (['chemical', 'one'], ['you', 'you']),\n",
       " \"Sharpay's Fabulous Adventure\": ([], []),\n",
       " 'Sironia': ([], []),\n",
       " 'Some Guy Who Kills People': (['you', 'I', 'he', 'You'],\n",
       "  ['Marty', 'em', 'bunch', 'them', 'sheriff', 'them']),\n",
       " 'Stuck Between Stations': (['you'], ['them']),\n",
       " 'The Lincoln Lawyer': (['you', 'you', 'I', 'he', 'he', 'He', 'son'],\n",
       "  ['yourself',\n",
       "   'me',\n",
       "   'her',\n",
       "   'her',\n",
       "   'Frank',\n",
       "   'her',\n",
       "   'her',\n",
       "   'her',\n",
       "   'him',\n",
       "   'Levin']),\n",
       " 'The Oranges': ([], ['myself']),\n",
       " 'Thin Ice': (['they'], ['him', 'doggy']),\n",
       " 'Apollo 18': (['you', 'you', 'you', 'you'], ['me', 'us', 'us', 'us']),\n",
       " 'Dream House': (['I'], ['us', 'you', 'Ward']),\n",
       " 'Jock the Hero Dog': (['it', 'You'], ['us']),\n",
       " \"You're Next\": (['I'], ['brother', 'you', 'me']),\n",
       " '41': ([], []),\n",
       " 'Any Questions for Ben?': (['I'], ['you']),\n",
       " \"Daddy's Little Girl\": (['I', 'What'],\n",
       "  ['me', 'you', 'you', 'her', 'him', 'me']),\n",
       " 'I Declare War': ([\"'s\", 'He', 'You', 'I'],\n",
       "  ['everyone',\n",
       "   'Kwon',\n",
       "   'him',\n",
       "   'him',\n",
       "   'him',\n",
       "   'people',\n",
       "   'him',\n",
       "   'them',\n",
       "   'you',\n",
       "   'me']),\n",
       " 'The Lesser Blessed': ([], ['her']),\n",
       " 'Wrong': ([], []),\n",
       " 'Sins Expiation': (['you', 'They', 'they'],\n",
       "  ['bagaribossen', 'him', 'you', 'him', 'family', 'me', 'you']),\n",
       " 'A Fantastic Fear of Everything': (['you', 'nigga', 'I', 'I'],\n",
       "  ['someone', 'you', 'him']),\n",
       " 'Broken': (['I', 'I'], ['you', 'you', 'you', 'Twats', 'me', 'her']),\n",
       " 'Private Peaceful': (['I', 'I'], ['you', 'you']),\n",
       " \"We'll Take Manhattan\": ([], []),\n",
       " 'Crossfire Hurricane': ([], []),\n",
       " 'A Late Quartet': ([], []),\n",
       " \"Bro'\": (['I'], ['you', 'it']),\n",
       " 'Firelight': ([], []),\n",
       " 'First Freedom: The Fight for Religious Liberty': ([], []),\n",
       " 'Flicka: Country Pride': ([], []),\n",
       " 'Gayby': (['I', \"'s\", 'I'], ['myself', 'it', 'you']),\n",
       " 'Hannah Has a Ho-Phase': ([], ['pride']),\n",
       " 'Hardflip': ([], []),\n",
       " \"It's a Disaster\": ([], ['Cheese', 'C', 'us']),\n",
       " 'Last Kind Words': (['I'], ['him', 'father']),\n",
       " 'Lovely': (['I', 'he', 'I', 'I'], ['you', 'girl', 'you', 'me', 'you', 'you']),\n",
       " 'Parental Guidance': (['they'], ['time', 'Carl']),\n",
       " 'Playback': ([], []),\n",
       " 'Raising Izzie': ([], []),\n",
       " 'Spring Breakers': (['I', 'we', 'I'],\n",
       "  ['you', 'me', 'him', 'ass', 'man', 'friend']),\n",
       " 'Step Up Revolution': (['Emily', 'people'], []),\n",
       " 'Sushi Girl': (['You', 'Max', 'I'], ['man', 'cops', 'you']),\n",
       " 'The 69th Annual Golden Globe Awards': (['place', 'we'], ['man']),\n",
       " 'The Frozen': ([], ['me']),\n",
       " 'Wreck-It Ralph': ([], ['you']),\n",
       " \"Wyatt Earp's Revenge\": (['I', 'they', 'Thou', 'I', 'I', 'I', 'I', 'I'],\n",
       "  ['lawman',\n",
       "   'you',\n",
       "   'him',\n",
       "   'Wyatt',\n",
       "   'you',\n",
       "   'you',\n",
       "   'you',\n",
       "   'you',\n",
       "   'Spike',\n",
       "   'man',\n",
       "   'folks',\n",
       "   'folks',\n",
       "   'man']),\n",
       " 'Branded': ([], []),\n",
       " \"Jayne Mansfield's Car\": (['Grandpa'],\n",
       "  ['us', 'us', 'Caller', 'me', 'me', 'me', 'you']),\n",
       " 'The Turning': ([], ['you', 'myself']),\n",
       " 'Around the Block': ([], []),\n",
       " 'Shaolin Warrior': (['me',\n",
       "   'I',\n",
       "   'I',\n",
       "   'I',\n",
       "   'I',\n",
       "   'I',\n",
       "   'I',\n",
       "   'I',\n",
       "   'I',\n",
       "   'I',\n",
       "   'I',\n",
       "   'I',\n",
       "   'I',\n",
       "   'people'],\n",
       "  ['monk',\n",
       "   'you',\n",
       "   'you',\n",
       "   'you',\n",
       "   'him',\n",
       "   'Amt',\n",
       "   'you',\n",
       "   'him',\n",
       "   'me',\n",
       "   'you',\n",
       "   'them',\n",
       "   'you',\n",
       "   'you',\n",
       "   'him',\n",
       "   'us',\n",
       "   'us',\n",
       "   'you',\n",
       "   'you',\n",
       "   'people']),\n",
       " 'The Last Exorcism Part II': (['He', 'we', 'It'],\n",
       "  ['us', 'you', 'it', 'us', 'JEFFREY']),\n",
       " 'Ishkq in Paris': ([], []),\n",
       " 'The Lost Medallion: The Adventures of Billy Stone': ([], []),\n",
       " 'Not Another Happy Ending': (['We', 'you'], ['thing', 'dog', 'it', 'Scott']),\n",
       " 'The Great Martian War 1913 - 1917': ([], []),\n",
       " 'A Single Shot': ([], []),\n",
       " 'American Hustle': (['we', 'boyfriend', 'he', 'he'],\n",
       "  ['us', 'CARMINEEXHALES', 'him', 'you', 'me', 'me', 'me', 'Danny', 'you']),\n",
       " 'Anchorman 2: The Legend Continues': (['I'], ['you']),\n",
       " 'Cutie and the Boxer': ([], ['me']),\n",
       " 'Dead Man Down': (['you', 'you', 'I', 'He', 'you', 'Laszlo', 'You', 'I'],\n",
       "  ['me',\n",
       "   'me',\n",
       "   'man',\n",
       "   'him',\n",
       "   'man',\n",
       "   'bug',\n",
       "   'me',\n",
       "   'devil',\n",
       "   'you',\n",
       "   'you',\n",
       "   'monster',\n",
       "   'man',\n",
       "   'you',\n",
       "   'him',\n",
       "   'me',\n",
       "   'you']),\n",
       " \"Ender's Game\": (['I', 'Bonzo', 'I'], ['you', 'you', 'you']),\n",
       " 'Free Birds': ([], ['me']),\n",
       " \"Hallows' Eve\": (['Wan', 'Nicole'], ['women', 'me', 'me']),\n",
       " 'House of Last Things': ([], ['herself', 'herself', 'herself', 'house']),\n",
       " 'Runner Runner': (['you'], ['what', 'me', 'you']),\n",
       " 'Safe Haven': (['you'], ['Who']),\n",
       " 'Snow Bride': ([], []),\n",
       " 'The Big Ask': (['you', 'I', 'it', 'I', 'I', 'I', 'I', 'I', 'I', 'I', 'I'],\n",
       "  ['HANNAH',\n",
       "   'it',\n",
       "   'it',\n",
       "   'it',\n",
       "   'man',\n",
       "   'it',\n",
       "   'CRIES',\n",
       "   'him',\n",
       "   'dog',\n",
       "   'dog',\n",
       "   'dog',\n",
       "   'dog',\n",
       "   'dog',\n",
       "   'you',\n",
       "   'me']),\n",
       " 'The Falls: Testament of Love': ([], []),\n",
       " 'The Last of Robin Hood': ([], []),\n",
       " 'The Marine 3: Homefront': (['buzz', 'we', 'you'], ['them', 'you', 'couple']),\n",
       " 'The Office Retrospective': ([], ['myself']),\n",
       " 'Toy Story of Terror': ([], ['vampire']),\n",
       " 'Zombieland': ([], ['her', 'cookies']),\n",
       " 'Swindle': ([], []),\n",
       " 'The Purge': (['it', 'they', 'We'],\n",
       "  ['people', 'someone', 'me', 'me', 'you', 'him', 'us', 'me', 'them', 'us']),\n",
       " 'After the Dark': (['it', 'I'],\n",
       "  ['him', 'people', 'Ways', 'us', 'you', 'you']),\n",
       " 'Fast & Furious 6': (['he'], []),\n",
       " \"Devil's Pass\": (['They'], ['us', 'us', 'us', 'someone', 'us']),\n",
       " 'Heatstroke': ([], ['women']),\n",
       " 'Garm Wars: The Last Druid': (['you', 'I', 'cable'],\n",
       "  ['Garm', 'Giants', 'Skellig']),\n",
       " 'Wolves': (['I', 'it', 'we', 'they', 'He', 'he', 'we', 'I', 'I', 'they'],\n",
       "  ['us',\n",
       "   'her',\n",
       "   'spending',\n",
       "   'anyone',\n",
       "   'him',\n",
       "   'us',\n",
       "   'you',\n",
       "   'you',\n",
       "   'me',\n",
       "   'them',\n",
       "   'him',\n",
       "   'you',\n",
       "   'her',\n",
       "   'you',\n",
       "   'you',\n",
       "   'me']),\n",
       " \"Quiet Riot: Well Now You're Here, There's No Way Back\": (['alcohol', 'none'],\n",
       "  ['you']),\n",
       " 'Stem Cell Universe with Stephen Hawking': ([], ['them']),\n",
       " 'Skin Trade': (['I', 'I', 'me'], ['cop', 'him', 'her']),\n",
       " '20,000 Days on Earth': ([], []),\n",
       " 'Set Fire to the Stars': ([], ['man']),\n",
       " 'The Last Showing': (['you', 'he', 'he'],\n",
       "  ['me',\n",
       "   'me',\n",
       "   'me',\n",
       "   'me',\n",
       "   'ONPLAYBACK',\n",
       "   'me',\n",
       "   'me',\n",
       "   'ALLIEGROANS',\n",
       "   'him',\n",
       "   'you',\n",
       "   'someone',\n",
       "   'friend',\n",
       "   'someone',\n",
       "   'me']),\n",
       " 'Seve the Movie': ([], []),\n",
       " 'Get Santa': ([], []),\n",
       " 'The Woman in Black 2: Angel of Death': ([], []),\n",
       " 'Achmed Saves America': (['I', 'I', 'I', 'it', 'I', 'I'],\n",
       "  ['you', 'myself', 'you', 'things', 'you', 'Thrill']),\n",
       " 'Alexander and the Terrible, Horrible, No Good, Very Bad Day': ([],\n",
       "  ['anybody', 'us', 'me']),\n",
       " 'Annabelle': ([], []),\n",
       " 'Food Chains': ([], []),\n",
       " 'Girltrash: All Night Long': (['Mom', 'sister', 'what'], ['you', 'me', 'me']),\n",
       " 'Hairy Who & The Chicago Imagists': ([], []),\n",
       " 'Horrible Bosses 2': ([\"'s\", 'We', 'Peter', 'they', 'guy', 'we', 'I', 'snap'],\n",
       "  ['boss',\n",
       "   'motherfuckers',\n",
       "   'them',\n",
       "   'them',\n",
       "   'Bobby',\n",
       "   'me',\n",
       "   'Fuck',\n",
       "   'me',\n",
       "   'bosses',\n",
       "   'anybody',\n",
       "   'Dalton',\n",
       "   'crackle',\n",
       "   'pop']),\n",
       " 'Killer Legends': (['father', 'He', 'I', 'Althoughgacyneverdid'],\n",
       "  ['child', 'friends', 'wife', 'you', 'anyone']),\n",
       " 'Marvel One-Shot: All Hail the King': ([], ['you']),\n",
       " 'Mr. Dynamite: The Rise of James Brown': ([], []),\n",
       " 'Night Has Settled': ([], []),\n",
       " 'Selena Gomez: Forever': ([], []),\n",
       " \"The Devil's Hand\": ([], ['What', 'me', 'daughter', 'me', 'me']),\n",
       " 'The Offseason: Kevin Durant': ([], []),\n",
       " 'The Other Woman': (['I'], ['him']),\n",
       " 'The Outsider': ([], ['me']),\n",
       " 'The Single Moms Club': ([], ['him']),\n",
       " 'The World Famous Kid Detective': ([], []),\n",
       " 'The Eurovision Song Contest': ([], []),\n",
       " 'Moonwalkers': (['me', 'they', 'I', 'me'],\n",
       "  ['everyone', 'me', 'you', 'you', 'somebody', 'us']),\n",
       " 'Mercenary: Absolution': (['They', 'they', 'They'],\n",
       "  ['you', 'boss', 'me', 'me', 'me', 'you', 'him', 'you']),\n",
       " '7 Cases': (['You', 'we', 'you'], ['her', 'you', 'him', 'me', 'him', 'me']),\n",
       " 'Arthur & Merlin': (['me', 'they', 'You'],\n",
       "  ['him', 'her', 'woman', 'it', 'him', 'you', 'gods', 'gods']),\n",
       " 'Closets': ([], []),\n",
       " 'Robot World': ([], []),\n",
       " 'Departure': ([], []),\n",
       " 'Life': (['I', 'I', 'I'], ['you', 'you', 'Elope', 'son']),\n",
       " \"A Ballerina's Tale\": ([], []),\n",
       " 'Batman Unlimited: Animal Instincts': (['gon'], ['me', 'work']),\n",
       " 'Beyond the Mask': ([], []),\n",
       " 'Curious George 3: Back to the Jungle': ([], []),\n",
       " 'Deep Dark': (['I'], []),\n",
       " 'Evil Bong 420': ([], ['her', 'us']),\n",
       " 'Fifty Shades of Grey': ([], []),\n",
       " 'Joe Dirt 2: Beautiful Loser': (['I', 'guys', 'we'],\n",
       "  ['nobody', 'me', 'time', 'you']),\n",
       " 'Last Girl Standing': (['you'], ['you']),\n",
       " 'Love the Coopers': ([], ['hour']),\n",
       " 'Minions': (['one', 'I'], ['me', 'Villains', 'Stuart']),\n",
       " \"Raven's Touch\": ([], []),\n",
       " 'Focus': (['You', 'I', 'I'], ['you', 'partner', 'you', 'you', 'you', 'you']),\n",
       " 'The Age of Adaline': ([], []),\n",
       " 'Late Night Double Feature': (['You', 'guys'], ['being', 'somebody']),\n",
       " 'I Am Not a Serial Killer': (['bind', 'I'],\n",
       "  ['somebody', 'men', 'somebody', 'him', 'you', 'anybody']),\n",
       " 'The Truth Commissioner': (['he', 'I', 'I'], ['Connor', 'Roche', 'Connor']),\n",
       " 'Bunker: Project 12': ([], ['him', 'him', 'me', 'them']),\n",
       " 'The Truants': ([], []),\n",
       " 'The Legend of Tarzan': ([], ['husband', 'me']),\n",
       " 'Angel of Reckoning': (['me', 'they', 'she'], ['me', 'me', 'me']),\n",
       " 'Blue Mountain State: The Rise of Thadland': (['We', 'We', 'You'],\n",
       "  ['Dean', 'family', 'me', 'you', 'm']),\n",
       " 'Cameraperson': ([], ['people']),\n",
       " 'Cell': (['We', 'we', 'you', 'you'], ['freaks', 'them', 'him', 'him']),\n",
       " \"Emma's Chance\": (['friend'], ['it']),\n",
       " 'Face 2 Face': (['he'], ['moon', 'yourself', 'Teel', 'you', 'Alack', 'you']),\n",
       " 'Freshwater': (['they', 'You', 'I'], ['anybody', 'her', 'you']),\n",
       " 'Hidden Figures': ([], []),\n",
       " 'Ice Age: The Great Egg-Scapade': ([], []),\n",
       " 'Independence Day: Resurgence': (['You', 'You'],\n",
       "  ['him', 'them', 'her', 'everyone']),\n",
       " 'Loserville': ([], ['herself']),\n",
       " 'Mothers and Daughters': ([], []),\n",
       " 'My Dead Boyfriend': ([], []),\n",
       " 'New Life': ([], []),\n",
       " 'Planet of the Sharks': ([], ['Fishing']),\n",
       " 'Sausage Party': (['me', 'we', 'gods', 'gods', 'they'],\n",
       "  ['yourself',\n",
       "   'lavash',\n",
       "   'prick',\n",
       "   'him',\n",
       "   'me',\n",
       "   'asses',\n",
       "   'asses',\n",
       "   'us',\n",
       "   'us',\n",
       "   'Douche',\n",
       "   'us',\n",
       "   'What',\n",
       "   'me',\n",
       "   'Brenda',\n",
       "   'us',\n",
       "   'fuck']),\n",
       " 'The Darkness': ([], ['cat']),\n",
       " 'The Trans List': (['somebody'], ['me']),\n",
       " 'When the Bough Breaks': (['It', 'I', 'I', 'She'],\n",
       "  ['her', 'you', 'ROLAND', 'baby']),\n",
       " \"I'll Be Home for Christmas\": ([], []),\n",
       " 'The BFG': (['stuff'], ['you', 'CHATTERCEASES']),\n",
       " 'Till We Meet Again': ([], ['you']),\n",
       " 'Bottom of the World': ([], []),\n",
       " 'A Christmas Star': (['I'], ['me', 'you', 'Move']),\n",
       " 'Ghosts of Darkness': (['you'], ['her', 'something', 'it']),\n",
       " 'Fun Mom Dinner': ([], ['buzz', 'them', 'Ladies', 'Jamie']),\n",
       " 'Secrets of Deception': (['you', 'I', 'I', 'I'],\n",
       "  ['kid',\n",
       "   'kid',\n",
       "   'you',\n",
       "   'us',\n",
       "   'Lucas',\n",
       "   'us',\n",
       "   'spiral',\n",
       "   'Kim',\n",
       "   'ass',\n",
       "   'me',\n",
       "   'kid',\n",
       "   'kid',\n",
       "   'kid']),\n",
       " 'The Horse Dancer': ([], []),\n",
       " 'The Oscars': (['I'], ['friend']),\n",
       " 'To the Bone': (['I', 'I'], ['you', 'you', 'you']),\n",
       " 'Top Coat Cash': ([], ['you', 'you', 'son']),\n",
       " 'Western World': (['it', 'I', 'She'], ['you', 'him', 'him']),\n",
       " 'Smurfs: The Lost Village': (['us'], ['bird', 'bird'])}"
      ]
     },
     "execution_count": 135,
     "metadata": {},
     "output_type": "execute_result"
    }
   ],
   "source": [
    "movie_violences"
   ]
  },
  {
   "cell_type": "markdown",
   "metadata": {},
   "source": [
    "That's pretty neat: we can see who tried to kill who, or at least talked about it. A lot of 'I' killing 'you', as we'd imagine. What else can we see?\n",
    "\n",
    "The movie, about time, which is about time travel, funnily enough has:\n",
    "`'About Time': (['I'], ['Hitler'])`"
   ]
  },
  {
   "cell_type": "markdown",
   "metadata": {},
   "source": [
    "## <span style=\"color:red\">*Your turn*</span>\n",
    "\n",
    "<span style=\"color:red\">In the cells immediately following, parse a (modest) subset of your corpus of interest. How deep are the phrase structure and dependency parse trees nested? How does parse depth relate to perceived sentence complexity? What are five things you can extract from these parses for subsequent analysis? (e.g., nouns collocated in a noun phrase; adjectives that modify a noun; etc.) Capture these sets of things for a focal set of words (e.g., \"Bush\", \"Obama\", \"Trump\"). What do they reveal about the roles that these entities are perceive to play in the social world inscribed by your texts?"
   ]
  },
  {
   "cell_type": "markdown",
   "metadata": {},
   "source": [
    "# Distributional distances\n",
    "\n",
    "If we want to compare different corpora, we need a distance or divergence that compares the two distributions.\n",
    "\n",
    "We will use the: \n",
    "\n",
    "+ Kullback-Leibler (KL) divergence\n",
    "+ $\\chi^2$ divergence\n",
    "+ Kolmogorov-Smirnov (KS) distance\n",
    "+ Wasserstein distance\n",
    "\n",
    "### Kullback-Leibler and $x^2$ divergences ###\n",
    "\n",
    "KL and $\\chi^2$ divergences are members of the broader <a \"href=https://en.wikipedia.org/wiki/F-divergence\" target=\"_blank\">$f$-divergence</a> family, a function of $D_f (P || Q)$ that calculates the difference between two probability distributions P and Q. The KL $f(t)$ is $ t \\text{ log } t $, while the $\\chi^2$ is $t^2-1$. KL comes from information and $\\chi^2$ from measure theory. As such, the KL divergence computes the relative entropy between two distributions--how they differ in bits, while the $\\chi^2$ whether the same statistical inferences can be drawn from them both.  \n",
    "\n",
    "Specifically, given two discrete probability distributions $P$ and $Q$, the Kullback-Leibler divergence from $Q$ to $P$ is defined as:\n",
    "\n",
    "$D_{\\mathrm{KL}}(P\\|Q) = \\sum_i P(i) \\, \\log\\frac{P(i)}{Q(i)}$.\n",
    "\n",
    "The [scipy.stats.entropy()](https://docs.scipy.org/doc/scipy/reference/generated/scipy.stats.entropy.html) function does the calculation for you, which takes in two arrays of probabilities and computes the KL divergence. Note that the KL divergence is in general not commutative, i.e. $D_{\\mathrm{KL}}(P\\|Q) \\neq D_{\\mathrm{KL}}(Q\\|P)$ .\n",
    "\n",
    "Also note that the KL divernce is the sum of elementwise divergences. Scipy provides [scipy.special.kl_div()](https://docs.scipy.org/doc/scipy/reference/generated/scipy.special.kl_div.html#scipy-special-kl-div) which calculates elementwise divergences for you.\n",
    "\n",
    "The $\\chi^2$ Divergence is defined as:\n",
    "\n",
    "$D_{\\mathrm{\\chi^2}}(P\\|Q) = \\sum_i \\left(\\frac{P(i)}{Q(i)}-1\\right)^2$. \n",
    "\n",
    "This is also noncommutative, and the code can be drawn directly from scipy.\n",
    "\n",
    "### Kolmogorov-Smirnov ###\n",
    "\n",
    "The two-sample Kolmogovorov-Smirnov test statistic calculates the distance between the cumulative distribution function of the two distributions to be compared, and, along with the $x^2$ divergence, is among the most common approaches two calculating a distance in statistics. It can be interpreted as a test of whether two distributions are drawn from the same underlying distribution. As with the others, the code is readily available in scipy.\n",
    "\n",
    "### Wasserstein Distance ###\n",
    "\n",
    "When this is computed on a Euclidian metric structure (e.g., numbers of words), this is also known as the earth mover’s distance, because it can be seen as the minimum amount of \"work\" required to transform $P$ into $Q$, where \"work\" is measured as the amount of distribution weight that must be moved, multiplied by the distance it has to be moved.\n",
    "\n",
    "### Computing ###\n",
    "\n",
    "To do this we will need to create the arrays, lets compare the Whitehouse releases with the Kennedy releases. First we have to download them and load them into a DataFrame."
   ]
  },
  {
   "cell_type": "code",
   "execution_count": 136,
   "metadata": {},
   "outputs": [
    {
     "data": {
      "text/html": [
       "<div>\n",
       "<style scoped>\n",
       "    .dataframe tbody tr th:only-of-type {\n",
       "        vertical-align: middle;\n",
       "    }\n",
       "\n",
       "    .dataframe tbody tr th {\n",
       "        vertical-align: top;\n",
       "    }\n",
       "\n",
       "    .dataframe thead th {\n",
       "        text-align: right;\n",
       "    }\n",
       "</style>\n",
       "<table border=\"1\" class=\"dataframe\">\n",
       "  <thead>\n",
       "    <tr style=\"text-align: right;\">\n",
       "      <th></th>\n",
       "      <th>name</th>\n",
       "      <th>text</th>\n",
       "      <th>path</th>\n",
       "      <th>html_url</th>\n",
       "      <th>download_url</th>\n",
       "    </tr>\n",
       "  </thead>\n",
       "  <tbody>\n",
       "    <tr>\n",
       "      <th>0</th>\n",
       "      <td>01Apr2005Kennedy14.txt</td>\n",
       "      <td>FOR IMMEDIATE RELEASE   FOR IMMEDIATE...</td>\n",
       "      <td>raw/Kennedy/01Apr2005Kennedy14.txt</td>\n",
       "      <td>https://github.com/lintool/GrimmerSenatePressR...</td>\n",
       "      <td>https://raw.githubusercontent.com/lintool/Grim...</td>\n",
       "    </tr>\n",
       "    <tr>\n",
       "      <th>1</th>\n",
       "      <td>01Aug2005Kennedy12.txt</td>\n",
       "      <td>FOR IMMEDIATE RELEASE   FOR IMMEDIATE...</td>\n",
       "      <td>raw/Kennedy/01Aug2005Kennedy12.txt</td>\n",
       "      <td>https://github.com/lintool/GrimmerSenatePressR...</td>\n",
       "      <td>https://raw.githubusercontent.com/lintool/Grim...</td>\n",
       "    </tr>\n",
       "    <tr>\n",
       "      <th>2</th>\n",
       "      <td>01Aug2006Kennedy10.txt</td>\n",
       "      <td>FOR IMMEDIATE RELEASE  FOR IMMEDIATE ...</td>\n",
       "      <td>raw/Kennedy/01Aug2006Kennedy10.txt</td>\n",
       "      <td>https://github.com/lintool/GrimmerSenatePressR...</td>\n",
       "      <td>https://raw.githubusercontent.com/lintool/Grim...</td>\n",
       "    </tr>\n",
       "    <tr>\n",
       "      <th>3</th>\n",
       "      <td>01Aug2006Kennedy11.txt</td>\n",
       "      <td>FOR IMMEDIATE RELEASE  FOR IMMEDIATE ...</td>\n",
       "      <td>raw/Kennedy/01Aug2006Kennedy11.txt</td>\n",
       "      <td>https://github.com/lintool/GrimmerSenatePressR...</td>\n",
       "      <td>https://raw.githubusercontent.com/lintool/Grim...</td>\n",
       "    </tr>\n",
       "    <tr>\n",
       "      <th>4</th>\n",
       "      <td>01Aug2006Kennedy12.txt</td>\n",
       "      <td>FOR IMMEDIATE RELEASE  FOR IMMEDIATE ...</td>\n",
       "      <td>raw/Kennedy/01Aug2006Kennedy12.txt</td>\n",
       "      <td>https://github.com/lintool/GrimmerSenatePressR...</td>\n",
       "      <td>https://raw.githubusercontent.com/lintool/Grim...</td>\n",
       "    </tr>\n",
       "  </tbody>\n",
       "</table>\n",
       "</div>"
      ],
      "text/plain": [
       "                     name                                               text  \\\n",
       "0  01Apr2005Kennedy14.txt           FOR IMMEDIATE RELEASE   FOR IMMEDIATE...   \n",
       "1  01Aug2005Kennedy12.txt           FOR IMMEDIATE RELEASE   FOR IMMEDIATE...   \n",
       "2  01Aug2006Kennedy10.txt           FOR IMMEDIATE RELEASE  FOR IMMEDIATE ...   \n",
       "3  01Aug2006Kennedy11.txt           FOR IMMEDIATE RELEASE  FOR IMMEDIATE ...   \n",
       "4  01Aug2006Kennedy12.txt           FOR IMMEDIATE RELEASE  FOR IMMEDIATE ...   \n",
       "\n",
       "                                 path  \\\n",
       "0  raw/Kennedy/01Apr2005Kennedy14.txt   \n",
       "1  raw/Kennedy/01Aug2005Kennedy12.txt   \n",
       "2  raw/Kennedy/01Aug2006Kennedy10.txt   \n",
       "3  raw/Kennedy/01Aug2006Kennedy11.txt   \n",
       "4  raw/Kennedy/01Aug2006Kennedy12.txt   \n",
       "\n",
       "                                            html_url  \\\n",
       "0  https://github.com/lintool/GrimmerSenatePressR...   \n",
       "1  https://github.com/lintool/GrimmerSenatePressR...   \n",
       "2  https://github.com/lintool/GrimmerSenatePressR...   \n",
       "3  https://github.com/lintool/GrimmerSenatePressR...   \n",
       "4  https://github.com/lintool/GrimmerSenatePressR...   \n",
       "\n",
       "                                        download_url  \n",
       "0  https://raw.githubusercontent.com/lintool/Grim...  \n",
       "1  https://raw.githubusercontent.com/lintool/Grim...  \n",
       "2  https://raw.githubusercontent.com/lintool/Grim...  \n",
       "3  https://raw.githubusercontent.com/lintool/Grim...  \n",
       "4  https://raw.githubusercontent.com/lintool/Grim...  "
      ]
     },
     "execution_count": 136,
     "metadata": {},
     "output_type": "execute_result"
    }
   ],
   "source": [
    "kenReleases = getGithubFiles('https://api.github.com/repos/lintool/GrimmerSenatePressReleases/contents/raw/Kennedy', maxFiles = 10)\n",
    "kenReleases[:5]"
   ]
  },
  {
   "cell_type": "markdown",
   "metadata": {},
   "source": [
    "Then we can tokenize, stem and remove stop words, like we did for the Whitehouse press releases"
   ]
  },
  {
   "cell_type": "code",
   "execution_count": 137,
   "metadata": {},
   "outputs": [],
   "source": [
    "kenReleases['tokenized_text'] = kenReleases['text'].apply(lambda x: word_tokenize(x))\n",
    "kenReleases['normalized_tokens'] = kenReleases['tokenized_text'].apply(lambda x: normalizeTokens(x))"
   ]
  },
  {
   "cell_type": "markdown",
   "metadata": {},
   "source": [
    "Now we need to compare the two collection of words, remove those not found in both, and assign the remaining ones indices."
   ]
  },
  {
   "cell_type": "code",
   "execution_count": 138,
   "metadata": {},
   "outputs": [
    {
     "data": {
      "text/plain": [
       "299"
      ]
     },
     "execution_count": 138,
     "metadata": {},
     "output_type": "execute_result"
    }
   ],
   "source": [
    "whWords = set(whReleases['normalized_tokens'].sum())\n",
    "kenWords = set(kenReleases['normalized_tokens'].sum())\n",
    "\n",
    "#Change & to | if you want to keep all words\n",
    "overlapWords = whWords & kenWords\n",
    "\n",
    "overlapWordsDict = {word: index for index, word in enumerate(overlapWords)}\n",
    "overlapWordsDict['student']"
   ]
  },
  {
   "cell_type": "markdown",
   "metadata": {},
   "source": [
    "Now we can count the occurrences of each word in the corpora and create our arrays. Note that we don't have to use numpy arrays as we do here. We could just use a list, but the arrays are faster in numpy so we encourage you to get in the habit of using them."
   ]
  },
  {
   "cell_type": "code",
   "execution_count": 139,
   "metadata": {},
   "outputs": [
    {
     "data": {
      "text/plain": [
       "1.0"
      ]
     },
     "execution_count": 139,
     "metadata": {},
     "output_type": "execute_result"
    }
   ],
   "source": [
    "def makeProbsArray(dfColumn, overlapDict):\n",
    "    words = dfColumn.sum()\n",
    "    countList = [0] * len(overlapDict)\n",
    "    for word in words:\n",
    "        try:\n",
    "            countList[overlapDict[word]] += 1\n",
    "        except KeyError:\n",
    "            #The word is not common so we skip it\n",
    "            pass\n",
    "    countArray = np.array(countList)\n",
    "    return countArray / countArray.sum()\n",
    "\n",
    "whProbArray = makeProbsArray(whReleases['normalized_tokens'], overlapWordsDict)\n",
    "kenProbArray = makeProbsArray(kenReleases['normalized_tokens'], overlapWordsDict)\n",
    "kenProbArray.sum()\n",
    "#There is a little bit of a floating point math error\n",
    "#but it's too small to see with print and too small matter here"
   ]
  },
  {
   "cell_type": "markdown",
   "metadata": {},
   "source": [
    "We can now compute the KL divergence. Pay attention to the asymmetry. Use [the Jensen–Shannon divergence](https://en.wikipedia.org/wiki/Jensen%E2%80%93Shannon_divergence), which is the average KL divergence between each distribution and the average of both distributions (i.e., the midpoint), if you want symmetry."
   ]
  },
  {
   "cell_type": "code",
   "execution_count": 140,
   "metadata": {},
   "outputs": [
    {
     "name": "stdout",
     "output_type": "stream",
     "text": [
      "0.6360485473318933\n",
      "0.5815226093097222\n"
     ]
    }
   ],
   "source": [
    "wh_kenDivergence = scipy.stats.entropy(whProbArray, kenProbArray)\n",
    "print (wh_kenDivergence)\n",
    "ken_whDivergence = scipy.stats.entropy(kenProbArray, whProbArray)\n",
    "print (ken_whDivergence)"
   ]
  },
  {
   "cell_type": "markdown",
   "metadata": {},
   "source": [
    "Then, we can do the elementwise calculation and see which words best distinguish the two corpora."
   ]
  },
  {
   "cell_type": "code",
   "execution_count": 141,
   "metadata": {},
   "outputs": [
    {
     "data": {
      "text/html": [
       "<div>\n",
       "<style scoped>\n",
       "    .dataframe tbody tr th:only-of-type {\n",
       "        vertical-align: middle;\n",
       "    }\n",
       "\n",
       "    .dataframe tbody tr th {\n",
       "        vertical-align: top;\n",
       "    }\n",
       "\n",
       "    .dataframe thead th {\n",
       "        text-align: right;\n",
       "    }\n",
       "</style>\n",
       "<table border=\"1\" class=\"dataframe\">\n",
       "  <thead>\n",
       "    <tr style=\"text-align: right;\">\n",
       "      <th></th>\n",
       "      <th>word</th>\n",
       "      <th>elementwise divergence</th>\n",
       "    </tr>\n",
       "  </thead>\n",
       "  <tbody>\n",
       "    <tr>\n",
       "      <th>0</th>\n",
       "      <td>question</td>\n",
       "      <td>0.001466</td>\n",
       "    </tr>\n",
       "    <tr>\n",
       "      <th>1</th>\n",
       "      <td>number</td>\n",
       "      <td>0.001167</td>\n",
       "    </tr>\n",
       "    <tr>\n",
       "      <th>2</th>\n",
       "      <td>court</td>\n",
       "      <td>0.000736</td>\n",
       "    </tr>\n",
       "    <tr>\n",
       "      <th>3</th>\n",
       "      <td>report</td>\n",
       "      <td>0.009282</td>\n",
       "    </tr>\n",
       "    <tr>\n",
       "      <th>4</th>\n",
       "      <td>undertake</td>\n",
       "      <td>0.000389</td>\n",
       "    </tr>\n",
       "    <tr>\n",
       "      <th>5</th>\n",
       "      <td>bill</td>\n",
       "      <td>0.004960</td>\n",
       "    </tr>\n",
       "    <tr>\n",
       "      <th>6</th>\n",
       "      <td>choose</td>\n",
       "      <td>0.000072</td>\n",
       "    </tr>\n",
       "    <tr>\n",
       "      <th>7</th>\n",
       "      <td>thank</td>\n",
       "      <td>0.000389</td>\n",
       "    </tr>\n",
       "    <tr>\n",
       "      <th>8</th>\n",
       "      <td>provide</td>\n",
       "      <td>0.000168</td>\n",
       "    </tr>\n",
       "    <tr>\n",
       "      <th>9</th>\n",
       "      <td>drug</td>\n",
       "      <td>0.001337</td>\n",
       "    </tr>\n",
       "  </tbody>\n",
       "</table>\n",
       "</div>"
      ],
      "text/plain": [
       "        word  elementwise divergence\n",
       "0   question                0.001466\n",
       "1     number                0.001167\n",
       "2      court                0.000736\n",
       "3     report                0.009282\n",
       "4  undertake                0.000389\n",
       "5       bill                0.004960\n",
       "6     choose                0.000072\n",
       "7      thank                0.000389\n",
       "8    provide                0.000168\n",
       "9       drug                0.001337"
      ]
     },
     "execution_count": 141,
     "metadata": {},
     "output_type": "execute_result"
    }
   ],
   "source": [
    "wh_kenDivergence_ew = scipy.special.kl_div(whProbArray, kenProbArray)\n",
    "kl_df = pandas.DataFrame(list(overlapWordsDict.keys()), columns = ['word'], index = list(overlapWordsDict.values()))\n",
    "kl_df = kl_df.sort_index()\n",
    "kl_df['elementwise divergence'] = wh_kenDivergence_ew\n",
    "kl_df[:10]"
   ]
  },
  {
   "cell_type": "code",
   "execution_count": 142,
   "metadata": {},
   "outputs": [
    {
     "data": {
      "text/html": [
       "<div>\n",
       "<style scoped>\n",
       "    .dataframe tbody tr th:only-of-type {\n",
       "        vertical-align: middle;\n",
       "    }\n",
       "\n",
       "    .dataframe tbody tr th {\n",
       "        vertical-align: top;\n",
       "    }\n",
       "\n",
       "    .dataframe thead th {\n",
       "        text-align: right;\n",
       "    }\n",
       "</style>\n",
       "<table border=\"1\" class=\"dataframe\">\n",
       "  <thead>\n",
       "    <tr style=\"text-align: right;\">\n",
       "      <th></th>\n",
       "      <th>word</th>\n",
       "      <th>elementwise divergence</th>\n",
       "    </tr>\n",
       "  </thead>\n",
       "  <tbody>\n",
       "    <tr>\n",
       "      <th>42</th>\n",
       "      <td>iraq</td>\n",
       "      <td>0.094803</td>\n",
       "    </tr>\n",
       "    <tr>\n",
       "      <th>288</th>\n",
       "      <td>bush</td>\n",
       "      <td>0.048105</td>\n",
       "    </tr>\n",
       "    <tr>\n",
       "      <th>220</th>\n",
       "      <td>american</td>\n",
       "      <td>0.025878</td>\n",
       "    </tr>\n",
       "    <tr>\n",
       "      <th>301</th>\n",
       "      <td>stem</td>\n",
       "      <td>0.023703</td>\n",
       "    </tr>\n",
       "    <tr>\n",
       "      <th>36</th>\n",
       "      <td>law</td>\n",
       "      <td>0.022702</td>\n",
       "    </tr>\n",
       "    <tr>\n",
       "      <th>260</th>\n",
       "      <td>department</td>\n",
       "      <td>0.020129</td>\n",
       "    </tr>\n",
       "    <tr>\n",
       "      <th>252</th>\n",
       "      <td>member</td>\n",
       "      <td>0.013248</td>\n",
       "    </tr>\n",
       "    <tr>\n",
       "      <th>176</th>\n",
       "      <td>war</td>\n",
       "      <td>0.012656</td>\n",
       "    </tr>\n",
       "    <tr>\n",
       "      <th>103</th>\n",
       "      <td>program</td>\n",
       "      <td>0.011164</td>\n",
       "    </tr>\n",
       "    <tr>\n",
       "      <th>210</th>\n",
       "      <td>country</td>\n",
       "      <td>0.010189</td>\n",
       "    </tr>\n",
       "  </tbody>\n",
       "</table>\n",
       "</div>"
      ],
      "text/plain": [
       "           word  elementwise divergence\n",
       "42         iraq                0.094803\n",
       "288        bush                0.048105\n",
       "220    american                0.025878\n",
       "301        stem                0.023703\n",
       "36          law                0.022702\n",
       "260  department                0.020129\n",
       "252      member                0.013248\n",
       "176         war                0.012656\n",
       "103     program                0.011164\n",
       "210     country                0.010189"
      ]
     },
     "execution_count": 142,
     "metadata": {},
     "output_type": "execute_result"
    }
   ],
   "source": [
    "kl_df.sort_values(by='elementwise divergence', ascending=False)[:10]"
   ]
  },
  {
   "cell_type": "markdown",
   "metadata": {},
   "source": [
    "Now we will apply what we learned today \n",
    "First, let's transform every text into normalized tokens. Note that in this first step, no stopword is removed.\n",
    "We'll use only the first 11 movies: you are welcome to try more."
   ]
  },
  {
   "cell_type": "code",
   "execution_count": 143,
   "metadata": {},
   "outputs": [],
   "source": [
    "corpora = []\n",
    "for index, row in movie_df.iterrows():\n",
    "    if len(corpora) > 10:\n",
    "        break\n",
    "    corpora.append(row['Tokenized Texts'])"
   ]
  },
  {
   "cell_type": "markdown",
   "metadata": {},
   "source": [
    "Then, let's separate the normalized tokens into stopwords and non-stopwords."
   ]
  },
  {
   "cell_type": "code",
   "execution_count": 144,
   "metadata": {},
   "outputs": [],
   "source": [
    "corpora_s = []\n",
    "corpora_nons = []\n",
    "for corpus in corpora:\n",
    "    s = []\n",
    "    nons = []\n",
    "    doc = nlp(' '.join(corpus))\n",
    "    for word in doc:\n",
    "        if word.is_stop:\n",
    "            s.append(word.text)\n",
    "        else:\n",
    "            nons.append(word.text)\n",
    "    corpora_s.append(s)\n",
    "    corpora_nons.append(nons)"
   ]
  },
  {
   "cell_type": "markdown",
   "metadata": {},
   "source": [
    "Define some covenient funtions for calculating divergence and distances."
   ]
  },
  {
   "cell_type": "code",
   "execution_count": 145,
   "metadata": {},
   "outputs": [],
   "source": [
    "def kl_divergence(X, Y):\n",
    "    P = X.copy()\n",
    "    Q = Y.copy()\n",
    "    P.columns = ['P']\n",
    "    Q.columns = ['Q']\n",
    "    df = Q.join(P).fillna(0)\n",
    "    p = df.iloc[:,1]\n",
    "    q = df.iloc[:,0]\n",
    "    D_kl = scipy.stats.entropy(p, q)\n",
    "    return D_kl\n",
    "\n",
    "def chi2_divergence(X,Y):\n",
    "    P = X.copy()\n",
    "    Q = Y.copy()\n",
    "    P.columns = ['P']\n",
    "    Q.columns = ['Q']\n",
    "    df = Q.join(P).fillna(0)\n",
    "    p = df.iloc[:,1]\n",
    "    q = df.iloc[:,0]\n",
    "    return scipy.stats.chisquare(p, q).statistic\n",
    "\n",
    "def Divergence(corpus1, corpus2, difference=\"KL\"):\n",
    "    \"\"\"Difference parameter can equal KL, Chi2, or Wass\"\"\"\n",
    "    freqP = nltk.FreqDist(corpus1)\n",
    "    P = pandas.DataFrame(list(freqP.values()), columns = ['frequency'], index = list(freqP.keys()))\n",
    "    freqQ = nltk.FreqDist(corpus2)\n",
    "    Q = pandas.DataFrame(list(freqQ.values()), columns = ['frequency'], index = list(freqQ.keys()))\n",
    "    if difference == \"KL\":\n",
    "        return kl_divergence(P, Q)\n",
    "    elif difference == \"Chi2\":\n",
    "        return chi2_divergence(P, Q)\n",
    "    elif difference == \"KS\":\n",
    "        try:\n",
    "            return scipy.stats.ks_2samp(P['frequency'], Q['frequency']).statistic\n",
    "        except:\n",
    "            return scipy.stats.ks_2samp(P['frequency'], Q['frequency'])\n",
    "    elif difference == \"Wasserstein\":\n",
    "        try:\n",
    "            return scipy.stats.wasserstein_distance(P['frequency'], Q['frequency'], u_weights=None, v_weights=None).statistic\n",
    "        except:\n",
    "            return scipy.stats.wasserstein_distance(P['frequency'], Q['frequency'], u_weights=None, v_weights=None)"
   ]
  },
  {
   "cell_type": "markdown",
   "metadata": {},
   "source": [
    "Now we will calculate the KL divergence for each pair of corpora, turn the results into a matrix, and visualize the matrix as a heatmap. Recall that $D_{\\mathrm{KL}}(P\\|Q)$ measures the amount of information loss when $Q$ is used to approximate $P$. Here, the rows are the $P$s used for calculating KL divergences, and the columns are the $Q$s. So, each cell measures the amount of information loss when the word distribution of the column text is used to approximate the word distribution of the row text. Because the KL divergence is directional, such that the divergence of $P$ from $Q$ is different from the same of $Q$ from $P$, the matrix is assymetric and contains unique information above and below the diagonal. The same is true for the $\\chi^2$ divergence."
   ]
  },
  {
   "cell_type": "code",
   "execution_count": 146,
   "metadata": {},
   "outputs": [
    {
     "data": {
      "text/plain": [
       "11"
      ]
     },
     "execution_count": 146,
     "metadata": {},
     "output_type": "execute_result"
    }
   ],
   "source": [
    "len(corpora)"
   ]
  },
  {
   "cell_type": "code",
   "execution_count": 147,
   "metadata": {},
   "outputs": [],
   "source": [
    "fileids = list(movie_df['Movie Name'])[0:11]"
   ]
  },
  {
   "cell_type": "code",
   "execution_count": 148,
   "metadata": {},
   "outputs": [
    {
     "data": {
      "image/png": "[encoded data removed]",
      "text/plain": [
       "<Figure size 432x288 with 2 Axes>"
      ]
     },
     "metadata": {},
     "output_type": "display_data"
    }
   ],
   "source": [
    "L = []\n",
    "for p in corpora:\n",
    "    l = []\n",
    "    for q in corpora:\n",
    "        l.append(Divergence(p,q, difference = 'KL'))\n",
    "    L.append(l)\n",
    "M = np.array(L)\n",
    "fig = plt.figure()\n",
    "div = pandas.DataFrame(M, columns = fileids, index = fileids)\n",
    "ax = sns.heatmap(div)\n",
    "plt.show()"
   ]
  },
  {
   "cell_type": "markdown",
   "metadata": {},
   "source": [
    "\n",
    "To reveal more patterns, let's do a multidimensional scaling of the matrix."
   ]
  },
  {
   "cell_type": "code",
   "execution_count": 149,
   "metadata": {},
   "outputs": [
    {
     "name": "stderr",
     "output_type": "stream",
     "text": [
      "/opt/anaconda3/lib/python3.8/site-packages/sklearn/manifold/_mds.py:419: UserWarning: The MDS API has changed. ``fit`` now constructs an dissimilarity matrix from data. To use a custom dissimilarity matrix, set ``dissimilarity='precomputed'``.\n",
      "  warnings.warn(\"The MDS API has changed. ``fit`` now constructs an\"\n"
     ]
    },
    {
     "data": {
      "image/png": "[encoded data removed]",
      "text/plain": [
       "<Figure size 432x432 with 1 Axes>"
      ]
     },
     "metadata": {},
     "output_type": "display_data"
    }
   ],
   "source": [
    "mds = sklearn.manifold.MDS()\n",
    "pos = mds.fit(M).embedding_\n",
    "x = pos[:,0]\n",
    "y = pos[:,1]\n",
    "fig, ax = plt.subplots(figsize = (6,6))\n",
    "plt.plot(x, y, ' ')\n",
    "for i, txt in enumerate(fileids):\n",
    "    ax.annotate(txt, (x[i],y[i]))"
   ]
  },
  {
   "cell_type": "markdown",
   "metadata": {},
   "source": [
    "A co-respondent's course and The Chain Gang are away from the others - any guesses why?\n",
    "\n",
    "We may just want to focus on the distrbution of stopwords or non-stopwords. Let's do the analysis again first for stopwords and then for non-stopwords."
   ]
  },
  {
   "cell_type": "code",
   "execution_count": 150,
   "metadata": {},
   "outputs": [
    {
     "data": {
      "image/png": "[encoded data removed]",
      "text/plain": [
       "<Figure size 432x288 with 2 Axes>"
      ]
     },
     "metadata": {},
     "output_type": "display_data"
    }
   ],
   "source": [
    "L = []\n",
    "for p in corpora_s:\n",
    "    l = []\n",
    "    for q in corpora_s:\n",
    "        l.append(Divergence(p,q, difference='KL'))\n",
    "    L.append(l)\n",
    "M = np.array(L)\n",
    "fig = plt.figure()\n",
    "div = pandas.DataFrame(M, columns = fileids, index = fileids)\n",
    "ax = sns.heatmap(div)\n",
    "plt.show()"
   ]
  },
  {
   "cell_type": "code",
   "execution_count": 151,
   "metadata": {},
   "outputs": [
    {
     "data": {
      "image/png": "[encoded data removed]",
      "text/plain": [
       "<Figure size 432x288 with 2 Axes>"
      ]
     },
     "metadata": {},
     "output_type": "display_data"
    }
   ],
   "source": [
    "L = []\n",
    "for p in corpora_nons:\n",
    "    l = []\n",
    "    for q in corpora_nons:\n",
    "        l.append(Divergence(p,q, difference='KL'))\n",
    "    L.append(l)\n",
    "M = np.array(L)\n",
    "fig = plt.figure()\n",
    "div = pandas.DataFrame(M, columns = fileids, index = fileids)\n",
    "ax = sns.heatmap(div)\n",
    "plt.show()"
   ]
  },
  {
   "cell_type": "markdown",
   "metadata": {},
   "source": [
    "Now we compute the same for the assymmetric $\\chi^2$ Divergence."
   ]
  },
  {
   "cell_type": "code",
   "execution_count": 152,
   "metadata": {},
   "outputs": [
    {
     "data": {
      "image/png": "[encoded data removed]",
      "text/plain": [
       "<Figure size 432x288 with 2 Axes>"
      ]
     },
     "metadata": {},
     "output_type": "display_data"
    }
   ],
   "source": [
    "L = []\n",
    "for p in corpora_nons:\n",
    "    l = []\n",
    "    for q in corpora_nons:\n",
    "        l.append(Divergence(p,q, difference='Chi2'))\n",
    "    L.append(l)\n",
    "M = np.array(L)\n",
    "fig = plt.figure()\n",
    "div = pandas.DataFrame(M, columns = fileids, index = fileids)\n",
    "ax = sns.heatmap(div)\n",
    "plt.show()"
   ]
  },
  {
   "cell_type": "markdown",
   "metadata": {},
   "source": [
    "For the KS distance:"
   ]
  },
  {
   "cell_type": "code",
   "execution_count": 153,
   "metadata": {},
   "outputs": [
    {
     "data": {
      "image/png": "[encoded data removed]",
      "text/plain": [
       "<Figure size 432x288 with 2 Axes>"
      ]
     },
     "metadata": {},
     "output_type": "display_data"
    }
   ],
   "source": [
    "L = []\n",
    "for p in corpora_nons:\n",
    "    l = []\n",
    "    for q in corpora_nons:\n",
    "        l.append(Divergence(p,q, difference='KS'))\n",
    "    L.append(l)\n",
    "M = np.array(L)\n",
    "fig = plt.figure()\n",
    "div = pandas.DataFrame(M, columns = fileids, index = fileids)\n",
    "ax = sns.heatmap(div)\n",
    "plt.show()"
   ]
  },
  {
   "cell_type": "markdown",
   "metadata": {},
   "source": [
    "And finally for the Wasserstein or \"earth mover's\" Distance."
   ]
  },
  {
   "cell_type": "code",
   "execution_count": 154,
   "metadata": {},
   "outputs": [
    {
     "data": {
      "image/png": "[encoded data removed]",
      "text/plain": [
       "<Figure size 432x288 with 2 Axes>"
      ]
     },
     "metadata": {},
     "output_type": "display_data"
    }
   ],
   "source": [
    "L = []\n",
    "for p in corpora_nons:\n",
    "    l = []\n",
    "    for q in corpora_nons:\n",
    "        l.append(Divergence(p,q, difference='Wasserstein'))\n",
    "    L.append(l)\n",
    "M = np.array(L)\n",
    "fig = plt.figure()\n",
    "div = pandas.DataFrame(M, columns = fileids, index = fileids)\n",
    "ax = sns.heatmap(div)\n",
    "plt.show()"
   ]
  },
  {
   "cell_type": "markdown",
   "metadata": {},
   "source": [
    "You can see that decade X is highly divergent and this makes reading the plot somewhat difficult. Let's fix this by taking the log of each cell, which will reduce the distance of decode X from other texts as an outlier."
   ]
  },
  {
   "cell_type": "code",
   "execution_count": 155,
   "metadata": {},
   "outputs": [
    {
     "data": {
      "image/png": "[encoded data removed]",
      "text/plain": [
       "<Figure size 432x288 with 2 Axes>"
      ]
     },
     "metadata": {},
     "output_type": "display_data"
    }
   ],
   "source": [
    "ax = sns.heatmap(div.apply(np.log).replace([np.inf, -np.inf], np.nan))\n",
    "plt.show()"
   ]
  },
  {
   "cell_type": "markdown",
   "metadata": {},
   "source": [
    "We only tried 11 movies, and from the same time period, so our signals might not be too interesting. What about different time periods?\n",
    "\n",
    "An interesting experiment to maybe get some clearer signals: documents by decade in the Davies Corpus Of Historial American English (COHA) and see if we can detect patterns between them. \n",
    "\n",
    "If we want to rerun this on a new data set of our own composition, we can be a bit more efficient with our coding. Let's use the Shakespeare texts from last week as example: "
   ]
  },
  {
   "cell_type": "code",
   "execution_count": 158,
   "metadata": {},
   "outputs": [],
   "source": [
    "shakespeare_df = lucem_illud.loadTextDirectory('../data/Shakespeare')"
   ]
  },
  {
   "cell_type": "markdown",
   "metadata": {},
   "source": [
    "Now we stem and remove stopwords"
   ]
  },
  {
   "cell_type": "code",
   "execution_count": 159,
   "metadata": {},
   "outputs": [],
   "source": [
    "shakespeare_df['tokenized_text'] = shakespeare_df['text'].apply(lambda x: word_tokenize(x))\n",
    "shakespeare_df['normalized_tokens'] = shakespeare_df['tokenized_text'].apply(lambda x: normalizeTokens(x))"
   ]
  },
  {
   "cell_type": "markdown",
   "metadata": {},
   "source": [
    "Create the corpus file and generate the heatmap:"
   ]
  },
  {
   "cell_type": "code",
   "execution_count": 160,
   "metadata": {},
   "outputs": [
    {
     "data": {
      "image/png": "[encoded data removed]",
      "text/plain": [
       "<Figure size 432x288 with 2 Axes>"
      ]
     },
     "metadata": {},
     "output_type": "display_data"
    }
   ],
   "source": [
    "measure = 'KS' #\"KL\", \"Chi2\", \"KS\", \"Wasserstein\"\n",
    "num_of_texts = 10 #The bigger this number the slower it will run, you can also try selecting your own plays\n",
    "fileids_sp = list(shakespeare_df[:num_of_texts].index)\n",
    "corpora_sp = list(shakespeare_df[:num_of_texts]['normalized_tokens'])\n",
    "L = []\n",
    "for p in corpora_sp:\n",
    "    l = []\n",
    "    for q in corpora_sp:\n",
    "        l.append(Divergence(p,q, difference=measure))\n",
    "    L.append(l)\n",
    "M = np.array(L)\n",
    "fig = plt.figure()\n",
    "div = pandas.DataFrame(M, columns = fileids_sp, index = fileids_sp)\n",
    "ax = sns.heatmap(div)\n",
    "plt.show()"
   ]
  },
  {
   "cell_type": "markdown",
   "metadata": {},
   "source": [
    "What are \"The Passionate Pilgrim\" and \"The Phoenix and the Turtle\"? Little known poems by Shakespeare that are unsurprisingly hard to classify, as they are so different from everything else he wrote."
   ]
  },
  {
   "cell_type": "markdown",
   "metadata": {},
   "source": [
    "## <span style=\"color:red\">*Exercise 6*</span>\n",
    "\n",
    "<span style=\"color:red\">Construct cells immediately below this that calculate the KL and $\\chi^2$ divergences, and the KS and Wasserstein distances between four separate corpora, plot these with heatmaps, and then array them in two dimensions with multidimensional scaling as above. What does this reveal about relations between the corpora? Which analysis (and divergence or distribution) distinguishes the authors or documents better? \n",
    "\n",
    "<span style=\"color:red\">**Stretch**: Calculate the <a \"href=https://en.wikipedia.org/wiki/Jensen–Shannon_divergence\" target=\"_blank\">Jensen-Shannon Divergence</a> between your four corpora. What is the relationship between the KL and JS divergences?</span> "
   ]
  },
  {
   "cell_type": "code",
   "execution_count": null,
   "metadata": {},
   "outputs": [],
   "source": []
  }
 ],
 "metadata": {
  "anaconda-cloud": {},
  "kernelspec": {
   "display_name": "Python 3",
   "language": "python",
   "name": "python3"
  },
  "language_info": {
   "codemirror_mode": {
    "name": "ipython",
    "version": 3
   },
   "file_extension": ".py",
   "mimetype": "text/x-python",
   "name": "python",
   "nbconvert_exporter": "python",
   "pygments_lexer": "ipython3",
   "version": "3.8.5"
  }
 },
 "nbformat": 4,
 "nbformat_minor": 4
}
